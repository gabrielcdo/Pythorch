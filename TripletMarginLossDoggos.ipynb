{
  "nbformat": 4,
  "nbformat_minor": 0,
  "metadata": {
    "accelerator": "GPU",
    "colab": {
      "name": "TripletMarginLossDoggos.ipynb",
      "provenance": [],
      "collapsed_sections": [],
      "include_colab_link": true
    },
    "kernelspec": {
      "display_name": "Python 3",
      "name": "python3"
    }
  },
  "cells": [
    {
      "cell_type": "markdown",
      "metadata": {
        "id": "view-in-github",
        "colab_type": "text"
      },
      "source": [
        "<a href=\"https://colab.research.google.com/github/gabrielcdo/Pythorch/blob/main/TripletMarginLossDoggos.ipynb\" target=\"_parent\"><img src=\"https://colab.research.google.com/assets/colab-badge.svg\" alt=\"Open In Colab\"/></a>"
      ]
    },
    {
      "cell_type": "code",
      "metadata": {
        "colab": {
          "base_uri": "https://localhost:8080/"
        },
        "id": "lMde13VLDjiH",
        "outputId": "9079fb70-eb01-4340-d02f-e7fea2c223ca"
      },
      "source": [
        "!pip install pytorch-metric-learning\n",
        "!pip install faiss-gpu\n",
        "!pip install resnet_pytorch\n",
        "!pip install split_folders\n"
      ],
      "execution_count": null,
      "outputs": [
        {
          "output_type": "stream",
          "text": [
            "Collecting pytorch-metric-learning\n",
            "  Downloading pytorch_metric_learning-0.9.99-py3-none-any.whl (105 kB)\n",
            "\u001b[?25l\r\u001b[K     |███▏                            | 10 kB 17.0 MB/s eta 0:00:01\r\u001b[K     |██████▎                         | 20 kB 16.8 MB/s eta 0:00:01\r\u001b[K     |█████████▍                      | 30 kB 19.9 MB/s eta 0:00:01\r\u001b[K     |████████████▌                   | 40 kB 19.8 MB/s eta 0:00:01\r\u001b[K     |███████████████▋                | 51 kB 21.0 MB/s eta 0:00:01\r\u001b[K     |██████████████████▊             | 61 kB 13.1 MB/s eta 0:00:01\r\u001b[K     |█████████████████████▉          | 71 kB 12.0 MB/s eta 0:00:01\r\u001b[K     |█████████████████████████       | 81 kB 13.1 MB/s eta 0:00:01\r\u001b[K     |████████████████████████████    | 92 kB 13.6 MB/s eta 0:00:01\r\u001b[K     |███████████████████████████████▏| 102 kB 13.8 MB/s eta 0:00:01\r\u001b[K     |████████████████████████████████| 105 kB 13.8 MB/s \n",
            "\u001b[?25hRequirement already satisfied: tqdm in /usr/local/lib/python3.7/dist-packages (from pytorch-metric-learning) (4.41.1)\n",
            "Requirement already satisfied: numpy in /usr/local/lib/python3.7/dist-packages (from pytorch-metric-learning) (1.19.5)\n",
            "Requirement already satisfied: scikit-learn in /usr/local/lib/python3.7/dist-packages (from pytorch-metric-learning) (0.22.2.post1)\n",
            "Requirement already satisfied: torchvision in /usr/local/lib/python3.7/dist-packages (from pytorch-metric-learning) (0.10.0+cu102)\n",
            "Requirement already satisfied: torch>=1.6.0 in /usr/local/lib/python3.7/dist-packages (from pytorch-metric-learning) (1.9.0+cu102)\n",
            "Requirement already satisfied: typing-extensions in /usr/local/lib/python3.7/dist-packages (from torch>=1.6.0->pytorch-metric-learning) (3.7.4.3)\n",
            "Requirement already satisfied: scipy>=0.17.0 in /usr/local/lib/python3.7/dist-packages (from scikit-learn->pytorch-metric-learning) (1.4.1)\n",
            "Requirement already satisfied: joblib>=0.11 in /usr/local/lib/python3.7/dist-packages (from scikit-learn->pytorch-metric-learning) (1.0.1)\n",
            "Requirement already satisfied: pillow>=5.3.0 in /usr/local/lib/python3.7/dist-packages (from torchvision->pytorch-metric-learning) (7.1.2)\n",
            "Installing collected packages: pytorch-metric-learning\n",
            "Successfully installed pytorch-metric-learning-0.9.99\n",
            "Collecting faiss-gpu\n",
            "  Downloading faiss_gpu-1.7.1.post2-cp37-cp37m-manylinux_2_17_x86_64.manylinux2014_x86_64.whl (89.7 MB)\n",
            "\u001b[K     |████████████████████████████████| 89.7 MB 5.5 kB/s \n",
            "\u001b[?25hInstalling collected packages: faiss-gpu\n",
            "Successfully installed faiss-gpu-1.7.1.post2\n",
            "Collecting resnet_pytorch\n",
            "  Downloading resnet_pytorch-0.2.0-py2.py3-none-any.whl (13 kB)\n",
            "Requirement already satisfied: torch in /usr/local/lib/python3.7/dist-packages (from resnet_pytorch) (1.9.0+cu102)\n",
            "Requirement already satisfied: typing-extensions in /usr/local/lib/python3.7/dist-packages (from torch->resnet_pytorch) (3.7.4.3)\n",
            "Installing collected packages: resnet-pytorch\n",
            "Successfully installed resnet-pytorch-0.2.0\n",
            "Collecting split_folders\n",
            "  Downloading split_folders-0.4.3-py3-none-any.whl (7.4 kB)\n",
            "Installing collected packages: split-folders\n",
            "Successfully installed split-folders-0.4.3\n"
          ],
          "name": "stdout"
        }
      ]
    },
    {
      "cell_type": "code",
      "metadata": {
        "id": "Dg_hGzn8RDdB"
      },
      "source": [
        ""
      ],
      "execution_count": null,
      "outputs": []
    },
    {
      "cell_type": "code",
      "metadata": {
        "id": "bMuS1n11kiyc"
      },
      "source": [
        "from google.colab import drive\n",
        "drive.mount('/content/drive')"
      ],
      "execution_count": null,
      "outputs": []
    },
    {
      "cell_type": "code",
      "metadata": {
        "id": "3-kjJznZkvxu"
      },
      "source": [
        "from pytorch_metric_learning import losses, miners, distances, reducers, testers\n",
        "from pytorch_metric_learning.utils.accuracy_calculator import AccuracyCalculator\n",
        "### MNIST code originally from https://github.com/pytorch/examples/blob/master/mnist/main.py ### \n",
        "from torchvision import datasets\n",
        "import torchvision.models as models\n",
        "import torchvision\n",
        "import torch\n",
        "torch.cuda.empty_cache()\n",
        "import torch.nn as nn\n",
        "import torch.nn.functional as F\n",
        "import torch.optim as optim\n",
        "from torchvision import datasets, transforms\n",
        "import numpy as np\n",
        "\n",
        "import splitfolders\n",
        "from resnet_pytorch import ResNet "
      ],
      "execution_count": null,
      "outputs": []
    },
    {
      "cell_type": "code",
      "metadata": {
        "id": "B0sfQeamlIBS"
      },
      "source": [
        "### MNIST code originally from https://github.com/pytorch/examples/blob/master/mnist/main.py ### \n",
        "class Net(nn.Module):\n",
        "    def __init__(self):\n",
        "        super(Net, self).__init__()\n",
        "        self.conv1 = nn.Conv2d(3, 32, 3, 1)\n",
        "        self.conv2 = nn.Conv2d(32, 64, 3, 1)\n",
        "        self.dropout1 = nn.Dropout2d(0.25)\n",
        "        self.dropout2 = nn.Dropout2d(0.5)\n",
        "        #self.fc1 = nn.Linear(9216, 128)\n",
        "        self.fc1 = nn.Linear(43264, 128)\n",
        "\n",
        "    def forward(self, x):\n",
        "        x = self.conv1(x)\n",
        "        x = F.relu(x)\n",
        "        x = self.conv2(x)\n",
        "        x = F.relu(x)\n",
        "        x = F.max_pool2d(x, 2)\n",
        "        x = self.dropout1(x)\n",
        "        x = torch.flatten(x, 1)\n",
        "        x = self.fc1(x)\n",
        "        return x"
      ],
      "execution_count": null,
      "outputs": []
    },
    {
      "cell_type": "code",
      "metadata": {
        "id": "d8ZvlGcrlKH5"
      },
      "source": [
        "### MNIST code originally from https://github.com/pytorch/examples/blob/master/mnist/main.py ### \n",
        "def train(model, loss_func, mining_func, device, train_loader, optimizer, epoch):\n",
        "    model.train()\n",
        "    for batch_idx, (data, labels) in enumerate(train_loader):\n",
        "        data, labels = data.to(device), labels.to(device)\n",
        "        optimizer.zero_grad()\n",
        "        embeddings = model(data)\n",
        "        indices_tuple = mining_func(embeddings, labels)\n",
        "        loss = loss_func(embeddings, labels, indices_tuple)\n",
        "        loss.backward()\n",
        "        optimizer.step()\n",
        "        if batch_idx % 20 == 0:\n",
        "            print(\"Epoch {} Iteration {}: Loss = {}, Number of mined triplets = {}\".format(epoch, batch_idx, loss, mining_func.num_triplets))"
      ],
      "execution_count": null,
      "outputs": []
    },
    {
      "cell_type": "code",
      "metadata": {
        "id": "we2Zq8EqlOea"
      },
      "source": [
        "### convenient function from pytorch-metric-learning ###\n",
        "def get_all_embeddings(dataset, model):\n",
        "    tester = testers.BaseTester()\n",
        "    return tester.get_all_embeddings(dataset, model)"
      ],
      "execution_count": null,
      "outputs": []
    },
    {
      "cell_type": "code",
      "metadata": {
        "id": "diIYJBEelRUO"
      },
      "source": [
        "### compute accuracy using AccuracyCalculator from pytorch-metric-learning ###\n",
        "def test(train_set, test_set, model, accuracy_calculator):\n",
        "    train_embeddings, train_labels = get_all_embeddings(train_set, model)\n",
        "    test_embeddings, test_labels = get_all_embeddings(test_set, model)\n",
        "    print(\"Computing accuracy\")\n",
        "    accuracies = accuracy_calculator.get_accuracy(test_embeddings, \n",
        "                                                train_embeddings,\n",
        "                                                test_labels,\n",
        "                                                train_labels,\n",
        "                                                False)\n",
        "    print(\"Test set accuracy (Precision@1) = {}\".format(accuracies[\"precision_at_1\"]))"
      ],
      "execution_count": null,
      "outputs": []
    },
    {
      "cell_type": "code",
      "metadata": {
        "id": "xFMbQwIUq7j5"
      },
      "source": [
        " \"\"\"#transforms.Grayscale(num_output_channels=1),\n",
        "       #transforms.Resize((28,28)),   \n",
        "                \n",
        "        transforms.RandomAffine( 5 ,scale=[0.9,1.1]),\n",
        "        transforms.ColorJitter(brightness=0.1,contrast=0.2,saturation=0.2,hue=0.1),\n",
        "        #transforms.Normalize((0.1307,), (0.3081,)),\n",
        "        #transforms.Resize((56,56)),\n",
        "        transforms.Resize((112,112)),\n",
        "        transforms.ToTensor(),        \n",
        "        transforms.Normalize(mean=[0.485, 0.456, 0.406], std=[0.229, 0.224, 0.225]),\n",
        "        transforms.Resize((112,112)),\n",
        "        transforms.RandomHorizontalFlip(), # randomly flip and rotate\n",
        "        transforms.RandomRotation(10),\n",
        "        transforms.ToTensor(),\n",
        "        transforms.Normalize((0.5, 0.5, 0.5), (0.5, 0.5, 0.5))\"\"\""
      ],
      "execution_count": null,
      "outputs": []
    },
    {
      "cell_type": "code",
      "metadata": {
        "id": "jx5Zt8oFlXXs"
      },
      "source": [
        "device = torch.device(\"cuda\")\n",
        "\n",
        "transform = transforms.Compose([\n",
        "        #transforms.Grayscale(num_output_channels=1),\n",
        "        #transforms.Resize((28,28)),   \n",
        "                \n",
        "        transforms.RandomAffine( 5 ,scale=[0.9,1.1]),\n",
        "        transforms.ColorJitter(brightness=0.1,contrast=0.2,saturation=0.2,hue=0.1),\n",
        "        #transforms.Normalize((0.1307,), (0.3081,)),\n",
        "        #transforms.Resize((56,56)),           \n",
        "        #transforms.Normalize(mean=[0.485, 0.456, 0.406], std=[0.229, 0.224, 0.225]),\n",
        "        transforms.Resize((112,112)),\n",
        "        transforms.RandomHorizontalFlip(), # randomly flip and rotate\n",
        "        transforms.RandomRotation(10),\n",
        "        transforms.ToTensor(),\n",
        "        transforms.Normalize((0.5, 0.5, 0.5), (0.5, 0.5, 0.5))\n",
        "    ])\n",
        "\n",
        "batch_size = 218"
      ],
      "execution_count": null,
      "outputs": []
    },
    {
      "cell_type": "code",
      "metadata": {
        "id": "g7_5FBXW2_o3"
      },
      "source": [
        "#model = torch.hub.load('pytorch/vision:v0.10.0', 'resnet34', pretrained=True)\n",
        "model1 = torchvision.models.resnet34(pretrained=False, progress=True)\n",
        "model1.eval()\n",
        "if torch.cuda.is_available():\n",
        "    print(\"Cuda available\")    \n",
        "    model1.to('cuda')"
      ],
      "execution_count": null,
      "outputs": []
    },
    {
      "cell_type": "code",
      "metadata": {
        "id": "uOdnV0yMtH-B"
      },
      "source": [
        "#input_folder = \"/content/drive/MyDrive/Dataset Dogs/Images\"\n",
        "#output = \"/content/drive/MyDrive/Dataset Dogs\" #where you want the split datasets saved. one will be created if none is set\n",
        "\n",
        "#splitfolders.ratio(input_folder, output=\"output\", seed=42, ratio=(.8, .2)) # ratio of split are in order of train/val/test. You can change to whatever you want. For train/val sets only, you could do .75, .25 for example."
      ],
      "execution_count": null,
      "outputs": []
    },
    {
      "cell_type": "code",
      "metadata": {
        "id": "BiS_IYJ3oUvq"
      },
      "source": [
        "dataset1 = datasets.ImageFolder('/content/output/train',transform=transform)\n",
        "\n",
        "dataset2 = datasets.ImageFolder('/content/drive/MyDrive/Models_training/doggos/train/DogFaceNet_Dataset_224_1_cc/after_4_bis',transform=transform)\n",
        "train_loader = torch.utils.data.DataLoader(dataset1, batch_size=64, shuffle=True)\n",
        "test_loader = torch.utils.data.DataLoader(dataset2, batch_size=64)\n",
        "print(dataset1)"
      ],
      "execution_count": null,
      "outputs": []
    },
    {
      "cell_type": "code",
      "metadata": {
        "id": "UpSdjYWIld4u"
      },
      "source": [
        "\"\"\"dataset10 = datasets.FashionMNIST('.', train=True, download=True, transform=transform)\n",
        "dataset20 = datasets.FashionMNIST('.', train=False, transform=transform)\n",
        "train_loader = torch.utils.data.DataLoader(dataset1, batch_size=256, shuffle=True)\n",
        "test_loader = torch.utils.data.DataLoader(dataset2, batch_size=256)\n",
        "print(type(dataset1))\"\"\""
      ],
      "execution_count": null,
      "outputs": []
    },
    {
      "cell_type": "code",
      "metadata": {
        "id": "hvGHi_QFShWh"
      },
      "source": [
        "dataset1 = datasets.ImageFolder('/content/drive/MyDrive/Dataset Dogs/output/train',transform=transform)\n",
        "\n",
        "dataset2 = datasets.ImageFolder('/content/drive/MyDrive/Dataset Dogs/output/val',transform=transform)\n",
        "train_loader = torch.utils.data.DataLoader(dataset1, batch_size=64, shuffle=True)\n",
        "test_loader = torch.utils.data.DataLoader(dataset2, batch_size=64)\n",
        "print(dataset1)"
      ],
      "execution_count": null,
      "outputs": []
    },
    {
      "cell_type": "code",
      "metadata": {
        "id": "0AVBYYLdlgYo"
      },
      "source": [
        "model2 = Net().to(device)\n",
        "optimizer = optim.Adam(model2.parameters(), lr=0.01)\n"
      ],
      "execution_count": null,
      "outputs": []
    },
    {
      "cell_type": "code",
      "metadata": {
        "id": "rlJZe-wSA6sM"
      },
      "source": [
        "#model = torch.hub.load('pytorch/vision:v0.10.0', 'resnet34', pretrained=True)\n",
        "model1 = torchvision.models.resnet34(pretrained=True, progress=True)\n",
        "model1.eval()\n",
        "if torch.cuda.is_available():\n",
        "    print(\"Cuda available\")    \n",
        "    model1.to('cuda')\n",
        "optimizer = optim.Adam(model1.parameters(), lr=0.01)\n"
      ],
      "execution_count": null,
      "outputs": []
    },
    {
      "cell_type": "code",
      "metadata": {
        "id": "5ZC4B3LclmLY"
      },
      "source": [
        "### pytorch-metric-learning stuff ###\n",
        "distance = distances.CosineSimilarity()\n",
        "reducer = reducers.ThresholdReducer(low = 0)\n",
        "loss_func = losses.TripletMarginLoss(margin = 0.3, distance = distance, reducer = reducer)\n",
        "mining_func = miners.TripletMarginMiner(margin = 0.3, distance = distance, type_of_triplets = \"hard\")\n",
        "accuracy_calculator = AccuracyCalculator(include = (\"precision_at_1\",), k = 1)"
      ],
      "execution_count": null,
      "outputs": []
    },
    {
      "cell_type": "code",
      "metadata": {
        "id": "GJ_L0TrTDnEA"
      },
      "source": [
        "num_epochs = 100\n",
        "### pytorch-metric-learning stuff ###\n",
        "for epoch in range(1, num_epochs+1):\n",
        "    train(model1, loss_func, mining_func, device, train_loader, optimizer, epoch)\n",
        "    test(dataset1, dataset2, model1, accuracy_calculator)\n",
        "    \n",
        "\n"
      ],
      "execution_count": null,
      "outputs": []
    },
    {
      "cell_type": "code",
      "metadata": {
        "id": "y3YhGXVVk-M0"
      },
      "source": [
        ""
      ],
      "execution_count": null,
      "outputs": []
    }
  ]
}