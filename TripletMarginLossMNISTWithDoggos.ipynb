{
  "nbformat": 4,
  "nbformat_minor": 0,
  "metadata": {
    "accelerator": "GPU",
    "colab": {
      "name": "Cópia de TripletMarginLossMNISTWithDoggos.ipynb",
      "provenance": [],
      "collapsed_sections": [],
      "include_colab_link": true
    },
    "kernelspec": {
      "display_name": "Python 3",
      "name": "python3"
    },
    "widgets": {
      "application/vnd.jupyter.widget-state+json": {
        "e2b88a28bdc14b929cce00f69e4d0495": {
          "model_module": "@jupyter-widgets/controls",
          "model_name": "HBoxModel",
          "state": {
            "_view_name": "HBoxView",
            "_dom_classes": [],
            "_model_name": "HBoxModel",
            "_view_module": "@jupyter-widgets/controls",
            "_model_module_version": "1.5.0",
            "_view_count": null,
            "_view_module_version": "1.5.0",
            "box_style": "",
            "layout": "IPY_MODEL_028eb32170bc4cec8e3dbd63916afc12",
            "_model_module": "@jupyter-widgets/controls",
            "children": [
              "IPY_MODEL_3f885cd48b1142efb4ec06f8b2dd8fb4",
              "IPY_MODEL_5c16ec04c5084b3dab894d2880355fb2"
            ]
          }
        },
        "028eb32170bc4cec8e3dbd63916afc12": {
          "model_module": "@jupyter-widgets/base",
          "model_name": "LayoutModel",
          "state": {
            "_view_name": "LayoutView",
            "grid_template_rows": null,
            "right": null,
            "justify_content": null,
            "_view_module": "@jupyter-widgets/base",
            "overflow": null,
            "_model_module_version": "1.2.0",
            "_view_count": null,
            "flex_flow": null,
            "width": null,
            "min_width": null,
            "border": null,
            "align_items": null,
            "bottom": null,
            "_model_module": "@jupyter-widgets/base",
            "top": null,
            "grid_column": null,
            "overflow_y": null,
            "overflow_x": null,
            "grid_auto_flow": null,
            "grid_area": null,
            "grid_template_columns": null,
            "flex": null,
            "_model_name": "LayoutModel",
            "justify_items": null,
            "grid_row": null,
            "max_height": null,
            "align_content": null,
            "visibility": null,
            "align_self": null,
            "height": null,
            "min_height": null,
            "padding": null,
            "grid_auto_rows": null,
            "grid_gap": null,
            "max_width": null,
            "order": null,
            "_view_module_version": "1.2.0",
            "grid_template_areas": null,
            "object_position": null,
            "object_fit": null,
            "grid_auto_columns": null,
            "margin": null,
            "display": null,
            "left": null
          }
        },
        "3f885cd48b1142efb4ec06f8b2dd8fb4": {
          "model_module": "@jupyter-widgets/controls",
          "model_name": "FloatProgressModel",
          "state": {
            "_view_name": "ProgressView",
            "style": "IPY_MODEL_15256eeca1b745d2a0c6e1bb81f3b426",
            "_dom_classes": [],
            "description": "100%",
            "_model_name": "FloatProgressModel",
            "bar_style": "success",
            "max": 46830571,
            "_view_module": "@jupyter-widgets/controls",
            "_model_module_version": "1.5.0",
            "value": 46830571,
            "_view_count": null,
            "_view_module_version": "1.5.0",
            "orientation": "horizontal",
            "min": 0,
            "description_tooltip": null,
            "_model_module": "@jupyter-widgets/controls",
            "layout": "IPY_MODEL_4d18269374f34815a02d38d6623b99f5"
          }
        },
        "5c16ec04c5084b3dab894d2880355fb2": {
          "model_module": "@jupyter-widgets/controls",
          "model_name": "HTMLModel",
          "state": {
            "_view_name": "HTMLView",
            "style": "IPY_MODEL_7f53a79b28374625aba1efe127adb461",
            "_dom_classes": [],
            "description": "",
            "_model_name": "HTMLModel",
            "placeholder": "​",
            "_view_module": "@jupyter-widgets/controls",
            "_model_module_version": "1.5.0",
            "value": " 44.7M/44.7M [02:06&lt;00:00, 369kB/s]",
            "_view_count": null,
            "_view_module_version": "1.5.0",
            "description_tooltip": null,
            "_model_module": "@jupyter-widgets/controls",
            "layout": "IPY_MODEL_9c9d0ed8d046451b9265f4ce96933313"
          }
        },
        "15256eeca1b745d2a0c6e1bb81f3b426": {
          "model_module": "@jupyter-widgets/controls",
          "model_name": "ProgressStyleModel",
          "state": {
            "_view_name": "StyleView",
            "_model_name": "ProgressStyleModel",
            "description_width": "initial",
            "_view_module": "@jupyter-widgets/base",
            "_model_module_version": "1.5.0",
            "_view_count": null,
            "_view_module_version": "1.2.0",
            "bar_color": null,
            "_model_module": "@jupyter-widgets/controls"
          }
        },
        "4d18269374f34815a02d38d6623b99f5": {
          "model_module": "@jupyter-widgets/base",
          "model_name": "LayoutModel",
          "state": {
            "_view_name": "LayoutView",
            "grid_template_rows": null,
            "right": null,
            "justify_content": null,
            "_view_module": "@jupyter-widgets/base",
            "overflow": null,
            "_model_module_version": "1.2.0",
            "_view_count": null,
            "flex_flow": null,
            "width": null,
            "min_width": null,
            "border": null,
            "align_items": null,
            "bottom": null,
            "_model_module": "@jupyter-widgets/base",
            "top": null,
            "grid_column": null,
            "overflow_y": null,
            "overflow_x": null,
            "grid_auto_flow": null,
            "grid_area": null,
            "grid_template_columns": null,
            "flex": null,
            "_model_name": "LayoutModel",
            "justify_items": null,
            "grid_row": null,
            "max_height": null,
            "align_content": null,
            "visibility": null,
            "align_self": null,
            "height": null,
            "min_height": null,
            "padding": null,
            "grid_auto_rows": null,
            "grid_gap": null,
            "max_width": null,
            "order": null,
            "_view_module_version": "1.2.0",
            "grid_template_areas": null,
            "object_position": null,
            "object_fit": null,
            "grid_auto_columns": null,
            "margin": null,
            "display": null,
            "left": null
          }
        },
        "7f53a79b28374625aba1efe127adb461": {
          "model_module": "@jupyter-widgets/controls",
          "model_name": "DescriptionStyleModel",
          "state": {
            "_view_name": "StyleView",
            "_model_name": "DescriptionStyleModel",
            "description_width": "",
            "_view_module": "@jupyter-widgets/base",
            "_model_module_version": "1.5.0",
            "_view_count": null,
            "_view_module_version": "1.2.0",
            "_model_module": "@jupyter-widgets/controls"
          }
        },
        "9c9d0ed8d046451b9265f4ce96933313": {
          "model_module": "@jupyter-widgets/base",
          "model_name": "LayoutModel",
          "state": {
            "_view_name": "LayoutView",
            "grid_template_rows": null,
            "right": null,
            "justify_content": null,
            "_view_module": "@jupyter-widgets/base",
            "overflow": null,
            "_model_module_version": "1.2.0",
            "_view_count": null,
            "flex_flow": null,
            "width": null,
            "min_width": null,
            "border": null,
            "align_items": null,
            "bottom": null,
            "_model_module": "@jupyter-widgets/base",
            "top": null,
            "grid_column": null,
            "overflow_y": null,
            "overflow_x": null,
            "grid_auto_flow": null,
            "grid_area": null,
            "grid_template_columns": null,
            "flex": null,
            "_model_name": "LayoutModel",
            "justify_items": null,
            "grid_row": null,
            "max_height": null,
            "align_content": null,
            "visibility": null,
            "align_self": null,
            "height": null,
            "min_height": null,
            "padding": null,
            "grid_auto_rows": null,
            "grid_gap": null,
            "max_width": null,
            "order": null,
            "_view_module_version": "1.2.0",
            "grid_template_areas": null,
            "object_position": null,
            "object_fit": null,
            "grid_auto_columns": null,
            "margin": null,
            "display": null,
            "left": null
          }
        }
      }
    }
  },
  "cells": [
    {
      "cell_type": "markdown",
      "metadata": {
        "id": "view-in-github",
        "colab_type": "text"
      },
      "source": [
        "<a href=\"https://colab.research.google.com/github/gabrielcdo/Pythorch/blob/main/TripletMarginLossMNISTWithDoggos.ipynb\" target=\"_parent\"><img src=\"https://colab.research.google.com/assets/colab-badge.svg\" alt=\"Open In Colab\"/></a>"
      ]
    },
    {
      "cell_type": "code",
      "metadata": {
        "colab": {
          "base_uri": "https://localhost:8080/"
        },
        "id": "lMde13VLDjiH",
        "outputId": "382acaf1-2fa8-444c-92ba-37c63c2a02f0"
      },
      "source": [
        "!pip3 install pytorch-metric-learning\n",
        "!pip3 install faiss-gpu\n",
        "!pip3 install resnet_pytorch\n",
        "!pip3 install split_folders"
      ],
      "execution_count": 27,
      "outputs": [
        {
          "output_type": "stream",
          "text": [
            "Requirement already satisfied: pytorch-metric-learning in /usr/local/lib/python3.7/dist-packages (0.9.99)\n",
            "Requirement already satisfied: torch>=1.6.0 in /usr/local/lib/python3.7/dist-packages (from pytorch-metric-learning) (1.9.0+cu102)\n",
            "Requirement already satisfied: torchvision in /usr/local/lib/python3.7/dist-packages (from pytorch-metric-learning) (0.10.0+cu102)\n",
            "Requirement already satisfied: scikit-learn in /usr/local/lib/python3.7/dist-packages (from pytorch-metric-learning) (0.22.2.post1)\n",
            "Requirement already satisfied: tqdm in /usr/local/lib/python3.7/dist-packages (from pytorch-metric-learning) (4.41.1)\n",
            "Requirement already satisfied: numpy in /usr/local/lib/python3.7/dist-packages (from pytorch-metric-learning) (1.19.5)\n",
            "Requirement already satisfied: typing-extensions in /usr/local/lib/python3.7/dist-packages (from torch>=1.6.0->pytorch-metric-learning) (3.7.4.3)\n",
            "Requirement already satisfied: scipy>=0.17.0 in /usr/local/lib/python3.7/dist-packages (from scikit-learn->pytorch-metric-learning) (1.4.1)\n",
            "Requirement already satisfied: joblib>=0.11 in /usr/local/lib/python3.7/dist-packages (from scikit-learn->pytorch-metric-learning) (1.0.1)\n",
            "Requirement already satisfied: pillow>=5.3.0 in /usr/local/lib/python3.7/dist-packages (from torchvision->pytorch-metric-learning) (7.1.2)\n",
            "Requirement already satisfied: faiss-gpu in /usr/local/lib/python3.7/dist-packages (1.7.1.post2)\n",
            "Requirement already satisfied: resnet_pytorch in /usr/local/lib/python3.7/dist-packages (0.2.0)\n",
            "Requirement already satisfied: torch in /usr/local/lib/python3.7/dist-packages (from resnet_pytorch) (1.9.0+cu102)\n",
            "Requirement already satisfied: typing-extensions in /usr/local/lib/python3.7/dist-packages (from torch->resnet_pytorch) (3.7.4.3)\n",
            "Collecting split_folders\n",
            "  Downloading split_folders-0.4.3-py3-none-any.whl (7.4 kB)\n",
            "Installing collected packages: split-folders\n",
            "Successfully installed split-folders-0.4.3\n"
          ],
          "name": "stdout"
        }
      ]
    },
    {
      "cell_type": "code",
      "metadata": {
        "colab": {
          "base_uri": "https://localhost:8080/"
        },
        "id": "bMuS1n11kiyc",
        "outputId": "c0004e9e-5ef6-4bee-9695-8b7c406593a3"
      },
      "source": [
        "from google.colab import drive\n",
        "drive.mount('/content/drive')"
      ],
      "execution_count": 2,
      "outputs": [
        {
          "output_type": "stream",
          "text": [
            "Mounted at /content/drive\n"
          ],
          "name": "stdout"
        }
      ]
    },
    {
      "cell_type": "code",
      "metadata": {
        "id": "3-kjJznZkvxu"
      },
      "source": [
        "from pytorch_metric_learning import losses, miners, distances, reducers, testers\n",
        "from pytorch_metric_learning.utils.accuracy_calculator import AccuracyCalculator\n",
        "### MNIST code originally from https://github.com/pytorch/examples/blob/master/mnist/main.py ### \n",
        "from torchvision import datasets\n",
        "import torchvision.models as models\n",
        "import torchvision\n",
        "import torch\n",
        "torch.cuda.empty_cache()\n",
        "import torch.nn as nn\n",
        "import torch.nn.functional as F\n",
        "import torch.optim as optim\n",
        "from torchvision import datasets, transforms\n",
        "import numpy as np\n",
        "\n",
        "import splitfolders\n",
        "from resnet_pytorch import ResNet "
      ],
      "execution_count": 29,
      "outputs": []
    },
    {
      "cell_type": "code",
      "metadata": {
        "id": "d8ZvlGcrlKH5"
      },
      "source": [
        "### MNIST code originally from https://github.com/pytorch/examples/blob/master/mnist/main.py ### \n",
        "def train(model, loss_func, mining_func, device, train_loader, optimizer, epoch):\n",
        "    model.train()\n",
        "    for batch_idx, (data, labels) in enumerate(train_loader):\n",
        "        data, labels = data.to(device), labels.to(device)\n",
        "        optimizer.zero_grad()\n",
        "        embeddings = model(data)\n",
        "        indices_tuple = mining_func(embeddings, labels)\n",
        "        loss = loss_func(embeddings, labels, indices_tuple)\n",
        "        loss.backward()\n",
        "        optimizer.step()\n",
        "        if batch_idx % 20 == 0:\n",
        "            print(\"Epoch {} Iteration {}: Loss = {}, Number of mined triplets = {}\".format(epoch, batch_idx, loss, mining_func.num_triplets))"
      ],
      "execution_count": 4,
      "outputs": []
    },
    {
      "cell_type": "code",
      "metadata": {
        "id": "we2Zq8EqlOea"
      },
      "source": [
        "### convenient function from pytorch-metric-learning ###\n",
        "def get_all_embeddings(dataset, model):\n",
        "    tester = testers.BaseTester()\n",
        "    return tester.get_all_embeddings(dataset, model)"
      ],
      "execution_count": 5,
      "outputs": []
    },
    {
      "cell_type": "code",
      "metadata": {
        "id": "diIYJBEelRUO"
      },
      "source": [
        "### compute accuracy using AccuracyCalculator from pytorch-metric-learning ###\n",
        "def test(train_set, test_set, model, accuracy_calculator):\n",
        "    train_embeddings, train_labels = get_all_embeddings(train_set, model)\n",
        "    test_embeddings, test_labels = get_all_embeddings(test_set, model)\n",
        "    print(\"Computing accuracy\")\n",
        "    accuracies = accuracy_calculator.get_accuracy(test_embeddings, \n",
        "                                                train_embeddings,\n",
        "                                                test_labels,\n",
        "                                                train_labels,\n",
        "                                                False)\n",
        "    print(\"Test set accuracy (Precision@1) = {}\".format(accuracies[\"precision_at_1\"]))"
      ],
      "execution_count": 6,
      "outputs": []
    },
    {
      "cell_type": "code",
      "metadata": {
        "id": "jx5Zt8oFlXXs"
      },
      "source": [
        "device = torch.device(\"cuda\")\n",
        "input_size = 224\n",
        "transform_train = transforms.Compose([\n",
        "                transforms.Resize((input_size, input_size)),\n",
        "                transforms.RandomHorizontalFlip(),\n",
        "                transforms.RandomRotation(degrees=10),\n",
        "                transforms.ToTensor(),\n",
        "                transforms.Normalize((0.5, 0.5, 0.5), (0.5, 0.5, 0.5))\n",
        "    ])\n",
        "transform_test = transforms.Compose([\n",
        "                transforms.Resize((input_size, input_size)),\n",
        "\n",
        "                transforms.ToTensor(),\n",
        "                transforms.Normalize((0.5, 0.5, 0.5), (0.5, 0.5, 0.5))\n",
        "    ])\n",
        "\n",
        "batch_size = 218"
      ],
      "execution_count": 7,
      "outputs": []
    },
    {
      "cell_type": "code",
      "metadata": {
        "colab": {
          "base_uri": "https://localhost:8080/",
          "height": 102,
          "referenced_widgets": [
            "e2b88a28bdc14b929cce00f69e4d0495",
            "028eb32170bc4cec8e3dbd63916afc12",
            "3f885cd48b1142efb4ec06f8b2dd8fb4",
            "5c16ec04c5084b3dab894d2880355fb2",
            "15256eeca1b745d2a0c6e1bb81f3b426",
            "4d18269374f34815a02d38d6623b99f5",
            "7f53a79b28374625aba1efe127adb461",
            "9c9d0ed8d046451b9265f4ce96933313"
          ]
        },
        "id": "g7_5FBXW2_o3",
        "outputId": "fb0524d6-ec67-43fd-f264-f2213d8b225f"
      },
      "source": [
        "#model = torch.hub.load('pytorch/vision:v0.10.0', 'resnet34', pretrained=True)\n",
        "model1 = torchvision.models.resnet18(pretrained=True, progress=True)\n",
        "model1.eval()\n",
        "if torch.cuda.is_available():\n",
        "    print(\"Cuda available\")    \n",
        "    model1.to('cuda')"
      ],
      "execution_count": 8,
      "outputs": [
        {
          "output_type": "stream",
          "text": [
            "Downloading: \"https://download.pytorch.org/models/resnet18-f37072fd.pth\" to /root/.cache/torch/hub/checkpoints/resnet18-f37072fd.pth\n"
          ],
          "name": "stderr"
        },
        {
          "output_type": "display_data",
          "data": {
            "application/vnd.jupyter.widget-view+json": {
              "model_id": "e2b88a28bdc14b929cce00f69e4d0495",
              "version_minor": 0,
              "version_major": 2
            },
            "text/plain": [
              "HBox(children=(FloatProgress(value=0.0, max=46830571.0), HTML(value='')))"
            ]
          },
          "metadata": {
            "tags": []
          }
        },
        {
          "output_type": "stream",
          "text": [
            "\n",
            "Cuda available\n"
          ],
          "name": "stdout"
        }
      ]
    },
    {
      "cell_type": "code",
      "metadata": {
        "colab": {
          "base_uri": "https://localhost:8080/"
        },
        "id": "BiS_IYJ3oUvq",
        "outputId": "f48314f5-81d6-4ae4-d5dc-18b8588d0ebb"
      },
      "source": [
        "dataset1 = datasets.ImageFolder('/content/drive/MyDrive/Models_training/doggos/test/ds-Flickr-dog-FD',transform=transform_train)\n",
        "\n",
        "dataset2 = datasets.ImageFolder('/content/drive/MyDrive/Models_training/doggos/test/ds-Flickr-dog-cc',transform=transform_test)\n",
        "train_loader = torch.utils.data.DataLoader(dataset1, batch_size=218, shuffle=True)\n",
        "test_loader = torch.utils.data.DataLoader(dataset2, shuffle=True)\n"
      ],
      "execution_count": 18,
      "outputs": [
        {
          "output_type": "stream",
          "text": [
            "Dataset ImageFolder\n",
            "    Number of datapoints: 223\n",
            "    Root location: /content/drive/MyDrive/Models_training/doggos/test/ds-Flickr-dog-FD\n",
            "    StandardTransform\n",
            "Transform: Compose(\n",
            "               Resize(size=(224, 224), interpolation=bilinear, max_size=None, antialias=None)\n",
            "               RandomHorizontalFlip(p=0.5)\n",
            "               RandomRotation(degrees=[-10.0, 10.0], interpolation=nearest, expand=False, fill=0)\n",
            "               ToTensor()\n",
            "               Normalize(mean=(0.5, 0.5, 0.5), std=(0.5, 0.5, 0.5))\n",
            "           )\n"
          ],
          "name": "stdout"
        }
      ]
    },
    {
      "cell_type": "code",
      "metadata": {
        "colab": {
          "base_uri": "https://localhost:8080/",
          "height": 1000
        },
        "id": "hGxjjZHHw6In",
        "outputId": "3c79c917-f223-42c4-8e06-b647147d7039"
      },
      "source": [
        "input_folder = \"/content/drive/MyDrive/Dataset Dogs/Images\"\n",
        "output = \"/content/drive/MyDrive/Dataset Dogs\" #where you want the split datasets saved. one will be created if none is set\n",
        "\n",
        "splitfolders.ratio(input_folder, output=\"output\", seed=42, ratio=(.8, .2)) # ratio of split are in order of train/val/test. You can change to whatever you want. For train/val sets only, you could do .75, .25 for example."
      ],
      "execution_count": 30,
      "outputs": [
        {
          "output_type": "stream",
          "text": [
            "\n",
            "\n",
            "Copying files: 0 files [00:00, ? files/s]\u001b[A\u001b[A\n",
            "\n",
            "Copying files: 1 files [00:00,  3.29 files/s]\u001b[A\u001b[A\n",
            "\n",
            "Copying files: 2 files [00:00,  3.23 files/s]\u001b[A\u001b[A\n",
            "\n",
            "Copying files: 3 files [00:00,  3.53 files/s]\u001b[A\u001b[A\n",
            "\n",
            "Copying files: 4 files [00:01,  3.08 files/s]\u001b[A\u001b[A\n",
            "\n",
            "Copying files: 5 files [00:01,  2.97 files/s]\u001b[A\u001b[A\n",
            "\n",
            "Copying files: 6 files [00:02,  2.74 files/s]\u001b[A\u001b[A\n",
            "\n",
            "Copying files: 7 files [00:02,  2.99 files/s]\u001b[A\u001b[A\n",
            "\n",
            "Copying files: 8 files [00:02,  3.13 files/s]\u001b[A\u001b[A\n",
            "\n",
            "Copying files: 9 files [00:02,  3.37 files/s]\u001b[A\u001b[A\n",
            "\n",
            "Copying files: 10 files [00:03,  3.48 files/s]\u001b[A\u001b[A\n",
            "\n",
            "Copying files: 11 files [00:03,  3.37 files/s]\u001b[A\u001b[A\n",
            "\n",
            "Copying files: 12 files [00:06,  1.02 files/s]\u001b[A\u001b[A\n",
            "\n",
            "Copying files: 13 files [00:06,  1.32 files/s]\u001b[A\u001b[A\n",
            "\n",
            "Copying files: 14 files [00:06,  1.65 files/s]\u001b[A\u001b[A\n",
            "\n",
            "Copying files: 15 files [00:06,  2.04 files/s]\u001b[A\u001b[A\n",
            "\n",
            "Copying files: 16 files [00:06,  2.43 files/s]\u001b[A\u001b[A\n",
            "\n",
            "Copying files: 17 files [00:07,  2.80 files/s]\u001b[A\u001b[A\n",
            "\n",
            "Copying files: 18 files [00:07,  2.95 files/s]\u001b[A\u001b[A\n",
            "\n",
            "Copying files: 19 files [00:07,  3.15 files/s]\u001b[A\u001b[A\n",
            "\n",
            "Copying files: 20 files [00:08,  2.99 files/s]\u001b[A\u001b[A\n",
            "\n",
            "Copying files: 21 files [00:08,  3.18 files/s]\u001b[A\u001b[A\n",
            "\n",
            "Copying files: 22 files [00:08,  3.43 files/s]\u001b[A\u001b[A\n",
            "\n",
            "Copying files: 23 files [00:08,  3.35 files/s]\u001b[A\u001b[A\n",
            "\n",
            "Copying files: 24 files [00:09,  3.44 files/s]\u001b[A\u001b[A\n",
            "\n",
            "Copying files: 25 files [00:09,  3.48 files/s]\u001b[A\u001b[A\n",
            "\n",
            "Copying files: 26 files [00:09,  3.65 files/s]\u001b[A\u001b[A\n",
            "\n",
            "Copying files: 27 files [00:10,  3.25 files/s]\u001b[A\u001b[A\n",
            "\n",
            "Copying files: 28 files [00:10,  3.27 files/s]\u001b[A\u001b[A\n",
            "\n",
            "Copying files: 29 files [00:10,  3.11 files/s]\u001b[A\u001b[A\n",
            "\n",
            "Copying files: 30 files [00:11,  2.86 files/s]\u001b[A\u001b[A\n",
            "\n",
            "Copying files: 31 files [00:11,  2.93 files/s]\u001b[A\u001b[A\n",
            "\n",
            "Copying files: 32 files [00:11,  3.24 files/s]\u001b[A\u001b[A\n",
            "\n",
            "Copying files: 33 files [00:11,  3.47 files/s]\u001b[A\u001b[A\n",
            "\n",
            "Copying files: 34 files [00:12,  3.52 files/s]\u001b[A\u001b[A\n",
            "\n",
            "Copying files: 35 files [00:12,  3.49 files/s]\u001b[A\u001b[A\n",
            "\n",
            "Copying files: 36 files [00:12,  3.59 files/s]\u001b[A\u001b[A\n",
            "\n",
            "Copying files: 37 files [00:13,  2.98 files/s]\u001b[A\u001b[A\n",
            "\n",
            "Copying files: 38 files [00:13,  3.22 files/s]\u001b[A\u001b[A\n",
            "\n",
            "Copying files: 39 files [00:13,  3.34 files/s]\u001b[A\u001b[A\n",
            "\n",
            "Copying files: 40 files [00:14,  3.53 files/s]\u001b[A\u001b[A\n",
            "\n",
            "Copying files: 41 files [00:14,  3.61 files/s]\u001b[A\u001b[A\n",
            "\n",
            "Copying files: 42 files [00:14,  3.37 files/s]\u001b[A\u001b[A\n",
            "\n",
            "Copying files: 43 files [00:15,  1.95 files/s]\u001b[A\u001b[A\n",
            "\n",
            "Copying files: 44 files [00:15,  2.33 files/s]\u001b[A\u001b[A\n",
            "\n",
            "Copying files: 45 files [00:16,  2.69 files/s]\u001b[A\u001b[A\n",
            "\n",
            "Copying files: 46 files [00:28,  3.84s/ files]\u001b[A\u001b[A\n",
            "\n",
            "Copying files: 47 files [00:28,  2.76s/ files]\u001b[A\u001b[A\n",
            "\n",
            "Copying files: 48 files [00:28,  2.00s/ files]\u001b[A\u001b[A\n",
            "\n",
            "Copying files: 49 files [00:28,  1.47s/ files]\u001b[A\u001b[A\n",
            "\n",
            "Copying files: 50 files [00:28,  1.09s/ files]\u001b[A\u001b[A\n",
            "\n",
            "Copying files: 51 files [00:29,  1.20 files/s]\u001b[A\u001b[A\n",
            "\n",
            "Copying files: 52 files [00:29,  1.51 files/s]\u001b[A\u001b[A\n",
            "\n",
            "Copying files: 53 files [00:29,  1.86 files/s]\u001b[A\u001b[A\n",
            "\n",
            "Copying files: 54 files [00:30,  1.83 files/s]\u001b[A\u001b[A\n",
            "\n",
            "Copying files: 55 files [00:30,  2.24 files/s]\u001b[A\u001b[A\n",
            "\n",
            "Copying files: 56 files [00:30,  2.65 files/s]\u001b[A\u001b[A\n",
            "\n",
            "Copying files: 57 files [00:31,  2.70 files/s]\u001b[A\u001b[A\n",
            "\n",
            "Copying files: 58 files [00:31,  2.96 files/s]\u001b[A\u001b[A\n",
            "\n",
            "Copying files: 59 files [00:31,  3.22 files/s]\u001b[A\u001b[A\n",
            "\n",
            "Copying files: 60 files [00:31,  3.47 files/s]\u001b[A\u001b[A\n",
            "\n",
            "Copying files: 61 files [00:32,  3.62 files/s]\u001b[A\u001b[A\n",
            "\n",
            "Copying files: 62 files [00:32,  3.71 files/s]\u001b[A\u001b[A\n",
            "\n",
            "Copying files: 63 files [00:33,  2.50 files/s]\u001b[A\u001b[A\n",
            "\n",
            "Copying files: 64 files [00:33,  2.40 files/s]\u001b[A\u001b[A\n",
            "\n",
            "Copying files: 65 files [00:33,  2.46 files/s]\u001b[A\u001b[A\n",
            "\n",
            "Copying files: 66 files [00:34,  2.59 files/s]\u001b[A\u001b[A\n",
            "\n",
            "Copying files: 67 files [00:34,  2.90 files/s]\u001b[A\u001b[A\n",
            "\n",
            "Copying files: 68 files [00:34,  2.64 files/s]\u001b[A\u001b[A\n",
            "\n",
            "Copying files: 69 files [00:35,  2.64 files/s]\u001b[A\u001b[A\n",
            "\n",
            "Copying files: 70 files [00:35,  2.58 files/s]\u001b[A\u001b[A\n",
            "\n",
            "Copying files: 71 files [00:36,  2.55 files/s]\u001b[A\u001b[A\n",
            "\n",
            "Copying files: 72 files [00:36,  2.88 files/s]\u001b[A\u001b[A\n",
            "\n",
            "Copying files: 73 files [00:36,  3.03 files/s]\u001b[A\u001b[A\n",
            "\n",
            "Copying files: 74 files [00:36,  3.28 files/s]\u001b[A\u001b[A\n",
            "\n",
            "Copying files: 75 files [00:37,  3.22 files/s]\u001b[A\u001b[A\n",
            "\n",
            "Copying files: 76 files [00:37,  3.36 files/s]\u001b[A\u001b[A\n",
            "\n",
            "Copying files: 77 files [00:37,  3.46 files/s]\u001b[A\u001b[A\n",
            "\n",
            "Copying files: 78 files [00:38,  3.41 files/s]\u001b[A\u001b[A\n",
            "\n",
            "Copying files: 79 files [00:38,  3.50 files/s]\u001b[A\u001b[A\n",
            "\n",
            "Copying files: 80 files [00:38,  3.40 files/s]\u001b[A\u001b[A\n",
            "\n",
            "Copying files: 81 files [00:39,  3.14 files/s]\u001b[A\u001b[A\n",
            "\n",
            "Copying files: 82 files [00:39,  3.18 files/s]\u001b[A\u001b[A\n",
            "\n",
            "Copying files: 83 files [00:39,  3.20 files/s]\u001b[A\u001b[A\n",
            "\n",
            "Copying files: 84 files [00:39,  3.15 files/s]\u001b[A\u001b[A\n",
            "\n",
            "Copying files: 85 files [00:40,  3.33 files/s]\u001b[A\u001b[A\n",
            "\n",
            "Copying files: 86 files [00:40,  3.21 files/s]\u001b[A\u001b[A\n",
            "\n",
            "Copying files: 87 files [00:40,  3.42 files/s]\u001b[A\u001b[A\n",
            "\n",
            "Copying files: 88 files [00:41,  3.36 files/s]\u001b[A\u001b[A\n",
            "\n",
            "Copying files: 89 files [00:41,  3.02 files/s]\u001b[A\u001b[A\n",
            "\n",
            "Copying files: 90 files [00:41,  3.19 files/s]\u001b[A\u001b[A\n",
            "\n",
            "Copying files: 91 files [00:42,  2.96 files/s]\u001b[A\u001b[A\n",
            "\n",
            "Copying files: 92 files [00:42,  2.94 files/s]\u001b[A\u001b[A\n",
            "\n",
            "Copying files: 93 files [00:42,  3.15 files/s]\u001b[A\u001b[A\n",
            "\n",
            "Copying files: 94 files [00:43,  3.37 files/s]\u001b[A\u001b[A\n",
            "\n",
            "Copying files: 95 files [00:43,  2.85 files/s]\u001b[A\u001b[A\n",
            "\n",
            "Copying files: 96 files [00:43,  2.71 files/s]\u001b[A\u001b[A\n",
            "\n",
            "Copying files: 97 files [00:44,  2.79 files/s]\u001b[A\u001b[A\n",
            "\n",
            "Copying files: 98 files [00:44,  2.60 files/s]\u001b[A\u001b[A\n",
            "\n",
            "Copying files: 99 files [00:45,  2.65 files/s]\u001b[A\u001b[A\n",
            "\n",
            "Copying files: 100 files [00:45,  2.90 files/s]\u001b[A\u001b[A\n",
            "\n",
            "Copying files: 101 files [00:45,  2.81 files/s]\u001b[A\u001b[A\n",
            "\n",
            "Copying files: 102 files [00:45,  3.06 files/s]\u001b[A\u001b[A\n",
            "\n",
            "Copying files: 103 files [00:46,  3.17 files/s]\u001b[A\u001b[A\n",
            "\n",
            "Copying files: 104 files [00:46,  3.32 files/s]\u001b[A\u001b[A\n",
            "\n",
            "Copying files: 105 files [00:46,  2.86 files/s]\u001b[A\u001b[A\n",
            "\n",
            "Copying files: 106 files [00:47,  2.87 files/s]\u001b[A\u001b[A\n",
            "\n",
            "Copying files: 107 files [00:47,  2.69 files/s]\u001b[A\u001b[A\n",
            "\n",
            "Copying files: 108 files [00:48,  2.93 files/s]\u001b[A\u001b[A\n",
            "\n",
            "Copying files: 109 files [00:48,  3.04 files/s]\u001b[A\u001b[A\n",
            "\n",
            "Copying files: 110 files [00:48,  3.02 files/s]\u001b[A\u001b[A\n",
            "\n",
            "Copying files: 111 files [00:49,  2.75 files/s]\u001b[A\u001b[A\n",
            "\n",
            "Copying files: 112 files [00:49,  2.81 files/s]\u001b[A\u001b[A\n",
            "\n",
            "Copying files: 113 files [00:49,  2.76 files/s]\u001b[A\u001b[A\n",
            "\n",
            "Copying files: 114 files [00:50,  2.88 files/s]\u001b[A\u001b[A\n",
            "\n",
            "Copying files: 115 files [00:50,  2.98 files/s]\u001b[A\u001b[A\n",
            "\n",
            "Copying files: 116 files [00:50,  3.17 files/s]\u001b[A\u001b[A\n",
            "\n",
            "Copying files: 117 files [00:51,  2.98 files/s]\u001b[A\u001b[A\n",
            "\n",
            "Copying files: 118 files [00:51,  2.95 files/s]\u001b[A\u001b[A\n",
            "\n",
            "Copying files: 119 files [00:51,  2.90 files/s]\u001b[A\u001b[A\n",
            "\n",
            "Copying files: 120 files [00:52,  3.12 files/s]\u001b[A\u001b[A\n",
            "\n",
            "Copying files: 121 files [00:52,  2.93 files/s]\u001b[A\u001b[A\n",
            "\n",
            "Copying files: 122 files [00:53,  2.36 files/s]\u001b[A\u001b[A\n",
            "\n",
            "Copying files: 123 files [00:53,  2.60 files/s]\u001b[A\u001b[A\n",
            "\n",
            "Copying files: 124 files [00:53,  2.56 files/s]\u001b[A\u001b[A\n",
            "\n",
            "Copying files: 125 files [00:54,  2.85 files/s]\u001b[A\u001b[A\n",
            "\n",
            "Copying files: 126 files [00:54,  2.80 files/s]\u001b[A\u001b[A\n",
            "\n",
            "Copying files: 127 files [00:54,  2.63 files/s]\u001b[A\u001b[A\n",
            "\n",
            "Copying files: 128 files [00:55,  2.56 files/s]\u001b[A\u001b[A\n",
            "\n",
            "Copying files: 129 files [00:55,  2.54 files/s]\u001b[A\u001b[A\n",
            "\n",
            "Copying files: 130 files [00:55,  2.69 files/s]\u001b[A\u001b[A\n",
            "\n",
            "Copying files: 131 files [00:56,  2.67 files/s]\u001b[A\u001b[A\n",
            "\n",
            "Copying files: 132 files [00:56,  2.75 files/s]\u001b[A\u001b[A\n",
            "\n",
            "Copying files: 133 files [00:57,  2.79 files/s]\u001b[A\u001b[A\n",
            "\n",
            "Copying files: 134 files [00:57,  2.85 files/s]\u001b[A\u001b[A\n",
            "\n",
            "Copying files: 135 files [00:57,  2.93 files/s]\u001b[A\u001b[A\n",
            "\n",
            "Copying files: 136 files [00:57,  3.03 files/s]\u001b[A\u001b[A\n",
            "\n",
            "Copying files: 137 files [00:58,  2.84 files/s]\u001b[A\u001b[A\n",
            "\n",
            "Copying files: 138 files [00:58,  2.93 files/s]\u001b[A\u001b[A\n",
            "\n",
            "Copying files: 139 files [00:59,  2.95 files/s]\u001b[A\u001b[A\n",
            "\n",
            "Copying files: 140 files [00:59,  3.06 files/s]\u001b[A\u001b[A\n",
            "\n",
            "Copying files: 141 files [00:59,  2.95 files/s]\u001b[A\u001b[A\n",
            "\n",
            "Copying files: 142 files [01:00,  2.77 files/s]\u001b[A\u001b[A\n",
            "\n",
            "Copying files: 143 files [01:00,  2.81 files/s]\u001b[A\u001b[A\n",
            "\n",
            "Copying files: 144 files [01:00,  2.75 files/s]\u001b[A\u001b[A\n",
            "\n",
            "Copying files: 145 files [01:01,  2.93 files/s]\u001b[A\u001b[A\n",
            "\n",
            "Copying files: 146 files [01:01,  2.99 files/s]\u001b[A\u001b[A\n",
            "\n",
            "Copying files: 147 files [01:01,  3.04 files/s]\u001b[A\u001b[A\n",
            "\n",
            "Copying files: 148 files [01:02,  2.84 files/s]\u001b[A\u001b[A\n",
            "\n",
            "Copying files: 149 files [01:02,  2.75 files/s]\u001b[A\u001b[A\n",
            "\n",
            "Copying files: 150 files [01:02,  2.98 files/s]\u001b[A\u001b[A\n",
            "\n",
            "Copying files: 151 files [01:03,  2.96 files/s]\u001b[A\u001b[A\n",
            "\n",
            "Copying files: 152 files [01:03,  2.72 files/s]\u001b[A\u001b[A\n",
            "\n",
            "Copying files: 153 files [01:03,  3.02 files/s]\u001b[A\u001b[A\n",
            "\n",
            "Copying files: 154 files [01:04,  3.15 files/s]\u001b[A\u001b[A\n",
            "\n",
            "Copying files: 155 files [01:04,  3.21 files/s]\u001b[A\u001b[A\n",
            "\n",
            "Copying files: 156 files [01:04,  3.28 files/s]\u001b[A\u001b[A\n",
            "\n",
            "Copying files: 157 files [01:04,  3.57 files/s]\u001b[A\u001b[A\n",
            "\n",
            "Copying files: 158 files [01:05,  3.07 files/s]\u001b[A\u001b[A\n",
            "\n",
            "Copying files: 159 files [01:05,  2.80 files/s]\u001b[A\u001b[A\n",
            "\n",
            "Copying files: 160 files [01:06,  2.90 files/s]\u001b[A\u001b[A\n",
            "\n",
            "Copying files: 161 files [01:06,  3.11 files/s]\u001b[A\u001b[A\n",
            "\n",
            "Copying files: 162 files [01:06,  3.17 files/s]\u001b[A\u001b[A\n",
            "\n",
            "Copying files: 163 files [01:06,  3.28 files/s]\u001b[A\u001b[A\n",
            "\n",
            "Copying files: 164 files [01:07,  3.13 files/s]\u001b[A\u001b[A\n",
            "\n",
            "Copying files: 165 files [01:07,  2.84 files/s]\u001b[A\u001b[A\n",
            "\n",
            "Copying files: 166 files [01:08,  2.63 files/s]\u001b[A\u001b[A\n",
            "\n",
            "Copying files: 167 files [01:08,  2.63 files/s]\u001b[A\u001b[A\n",
            "\n",
            "Copying files: 168 files [01:08,  2.71 files/s]\u001b[A\u001b[A\n",
            "\n",
            "Copying files: 169 files [01:09,  3.04 files/s]\u001b[A\u001b[A\n",
            "\n",
            "Copying files: 170 files [01:09,  2.88 files/s]\u001b[A\u001b[A\n",
            "\n",
            "Copying files: 171 files [01:10,  2.49 files/s]\u001b[A\u001b[A\n",
            "\n",
            "Copying files: 172 files [01:10,  2.77 files/s]\u001b[A\u001b[A\n",
            "\n",
            "Copying files: 173 files [01:10,  3.01 files/s]\u001b[A\u001b[A\n",
            "\n",
            "Copying files: 174 files [01:11,  2.72 files/s]\u001b[A\u001b[A\n",
            "\n",
            "Copying files: 175 files [01:11,  2.94 files/s]\u001b[A\u001b[A\n",
            "\n",
            "Copying files: 176 files [01:11,  3.07 files/s]\u001b[A\u001b[A\n",
            "\n",
            "Copying files: 177 files [01:12,  2.83 files/s]\u001b[A\u001b[A\n",
            "\n",
            "Copying files: 178 files [01:12,  2.88 files/s]\u001b[A\u001b[A\n",
            "\n",
            "Copying files: 179 files [01:12,  2.71 files/s]\u001b[A\u001b[A\n",
            "\n",
            "Copying files: 180 files [01:13,  2.67 files/s]\u001b[A\u001b[A\n",
            "\n",
            "Copying files: 181 files [01:13,  2.67 files/s]\u001b[A\u001b[A\n",
            "\n",
            "Copying files: 182 files [01:13,  2.90 files/s]\u001b[A\u001b[A\n",
            "\n",
            "Copying files: 183 files [01:14,  3.04 files/s]\u001b[A\u001b[A\n",
            "\n",
            "Copying files: 184 files [01:14,  3.39 files/s]\u001b[A\u001b[A\n",
            "\n",
            "Copying files: 185 files [01:14,  3.51 files/s]\u001b[A\u001b[A\n",
            "\n",
            "Copying files: 186 files [01:15,  3.19 files/s]\u001b[A\u001b[A\n",
            "\n",
            "Copying files: 187 files [01:15,  3.44 files/s]\u001b[A\u001b[A\n",
            "\n",
            "Copying files: 188 files [01:15,  3.55 files/s]\u001b[A\u001b[A\n",
            "\n",
            "Copying files: 189 files [01:15,  3.57 files/s]\u001b[A\u001b[A\n",
            "\n",
            "Copying files: 190 files [01:16,  3.57 files/s]\u001b[A\u001b[A\n",
            "\n",
            "Copying files: 191 files [01:16,  3.61 files/s]\u001b[A\u001b[A\n",
            "\n",
            "Copying files: 192 files [01:16,  3.71 files/s]\u001b[A\u001b[A\n",
            "\n",
            "Copying files: 193 files [01:16,  3.51 files/s]\u001b[A\u001b[A\n",
            "\n",
            "Copying files: 194 files [01:17,  3.33 files/s]\u001b[A\u001b[A\n",
            "\n",
            "Copying files: 195 files [01:17,  3.34 files/s]\u001b[A\u001b[A\n",
            "\n",
            "Copying files: 196 files [01:17,  3.36 files/s]\u001b[A\u001b[A\n",
            "\n",
            "Copying files: 197 files [01:18,  3.23 files/s]\u001b[A\u001b[A\n",
            "\n",
            "Copying files: 198 files [01:18,  3.53 files/s]\u001b[A\u001b[A\n",
            "\n",
            "Copying files: 199 files [01:18,  3.48 files/s]\u001b[A\u001b[A\n",
            "\n",
            "Copying files: 200 files [01:18,  3.52 files/s]\u001b[A\u001b[A\n",
            "\n",
            "Copying files: 201 files [01:19,  3.45 files/s]\u001b[A\u001b[A\n",
            "\n",
            "Copying files: 202 files [01:19,  3.01 files/s]\u001b[A\u001b[A\n",
            "\n",
            "Copying files: 203 files [01:20,  2.87 files/s]\u001b[A\u001b[A\n",
            "\n",
            "Copying files: 204 files [01:20,  3.23 files/s]\u001b[A\u001b[A\n",
            "\n",
            "Copying files: 205 files [01:20,  3.42 files/s]\u001b[A\u001b[A\n",
            "\n",
            "Copying files: 206 files [01:20,  3.45 files/s]\u001b[A\u001b[A\n",
            "\n",
            "Copying files: 207 files [01:21,  3.68 files/s]\u001b[A\u001b[A\n",
            "\n",
            "Copying files: 208 files [01:21,  3.79 files/s]\u001b[A\u001b[A\n",
            "\n",
            "Copying files: 209 files [01:21,  3.98 files/s]\u001b[A\u001b[A\n",
            "\n",
            "Copying files: 210 files [01:21,  3.92 files/s]\u001b[A\u001b[A\n",
            "\n",
            "Copying files: 211 files [01:22,  3.91 files/s]\u001b[A\u001b[A\n",
            "\n",
            "Copying files: 212 files [01:22,  3.99 files/s]\u001b[A\u001b[A\n",
            "\n",
            "Copying files: 213 files [01:22,  4.12 files/s]\u001b[A\u001b[A\n",
            "\n",
            "Copying files: 214 files [01:22,  4.17 files/s]\u001b[A\u001b[A\n",
            "\n",
            "Copying files: 215 files [01:23,  4.11 files/s]\u001b[A\u001b[A\n",
            "\n",
            "Copying files: 216 files [01:23,  4.13 files/s]\u001b[A\u001b[A\n",
            "\n",
            "Copying files: 217 files [01:23,  3.96 files/s]\u001b[A\u001b[A\n",
            "\n",
            "Copying files: 218 files [01:23,  3.74 files/s]\u001b[A\u001b[A\n",
            "\n",
            "Copying files: 219 files [01:24,  3.87 files/s]\u001b[A\u001b[A\n",
            "\n",
            "Copying files: 220 files [01:24,  3.33 files/s]\u001b[A\u001b[A\n",
            "\n",
            "Copying files: 221 files [01:24,  3.34 files/s]\u001b[A\u001b[A\n",
            "\n",
            "Copying files: 222 files [01:25,  3.47 files/s]\u001b[A\u001b[A\n",
            "\n",
            "Copying files: 223 files [01:25,  3.33 files/s]\u001b[A\u001b[A\n",
            "\n",
            "Copying files: 224 files [01:25,  3.56 files/s]\u001b[A\u001b[A\n",
            "\n",
            "Copying files: 225 files [01:25,  3.70 files/s]\u001b[A\u001b[A\n",
            "\n",
            "Copying files: 226 files [01:26,  3.91 files/s]\u001b[A\u001b[A\n",
            "\n",
            "Copying files: 227 files [01:26,  4.05 files/s]\u001b[A\u001b[A\n",
            "\n",
            "Copying files: 228 files [01:26,  3.85 files/s]\u001b[A\u001b[A\n",
            "\n",
            "Copying files: 229 files [01:26,  3.97 files/s]\u001b[A\u001b[A\n",
            "\n",
            "Copying files: 230 files [01:27,  3.56 files/s]\u001b[A\u001b[A\n",
            "\n",
            "Copying files: 231 files [01:27,  3.86 files/s]\u001b[A\u001b[A\n",
            "\n",
            "Copying files: 232 files [01:27,  3.86 files/s]\u001b[A\u001b[A\n",
            "\n",
            "Copying files: 233 files [01:27,  3.40 files/s]\u001b[A\u001b[A\n",
            "\n",
            "Copying files: 234 files [01:28,  3.40 files/s]\u001b[A\u001b[A\n",
            "\n",
            "Copying files: 235 files [01:28,  3.59 files/s]\u001b[A\u001b[A\n",
            "\n",
            "Copying files: 236 files [01:28,  3.25 files/s]\u001b[A\u001b[A\n",
            "\n",
            "Copying files: 237 files [01:29,  3.29 files/s]\u001b[A\u001b[A\n",
            "\n",
            "Copying files: 238 files [01:29,  3.35 files/s]\u001b[A\u001b[A\n",
            "\n",
            "Copying files: 239 files [01:29,  3.25 files/s]\u001b[A\u001b[A\n",
            "\n",
            "Copying files: 240 files [01:30,  3.54 files/s]\u001b[A\u001b[A\n",
            "\n",
            "Copying files: 241 files [01:31,  1.70 files/s]\u001b[A\u001b[A\n",
            "\n",
            "Copying files: 242 files [01:31,  2.07 files/s]\u001b[A\u001b[A\n",
            "\n",
            "Copying files: 243 files [01:31,  2.40 files/s]\u001b[A\u001b[A\n",
            "\n",
            "Copying files: 244 files [01:32,  2.46 files/s]\u001b[A\u001b[A\n",
            "\n",
            "Copying files: 245 files [01:32,  2.81 files/s]\u001b[A\u001b[A\n",
            "\n",
            "Copying files: 246 files [01:32,  2.91 files/s]\u001b[A\u001b[A\n",
            "\n",
            "Copying files: 247 files [01:33,  3.10 files/s]\u001b[A\u001b[A\n",
            "\n",
            "Copying files: 248 files [01:33,  3.23 files/s]\u001b[A\u001b[A\n",
            "\n",
            "Copying files: 249 files [01:33,  3.32 files/s]\u001b[A\u001b[A\n",
            "\n",
            "Copying files: 250 files [01:33,  3.07 files/s]\u001b[A\u001b[A\n",
            "\n",
            "Copying files: 251 files [01:34,  3.23 files/s]\u001b[A\u001b[A\n",
            "\n",
            "Copying files: 252 files [01:34,  2.88 files/s]\u001b[A\u001b[A\n",
            "\n",
            "Copying files: 253 files [01:34,  3.07 files/s]\u001b[A\u001b[A\n",
            "\n",
            "Copying files: 254 files [01:35,  3.23 files/s]\u001b[A\u001b[A\n",
            "\n",
            "Copying files: 255 files [01:35,  3.29 files/s]\u001b[A\u001b[A\n",
            "\n",
            "Copying files: 256 files [01:35,  3.39 files/s]\u001b[A\u001b[A\n",
            "\n",
            "Copying files: 257 files [01:36,  3.20 files/s]\u001b[A\u001b[A\n",
            "\n",
            "Copying files: 258 files [01:36,  3.32 files/s]\u001b[A\u001b[A\n",
            "\n",
            "Copying files: 259 files [01:36,  3.52 files/s]\u001b[A\u001b[A\n",
            "\n",
            "Copying files: 260 files [01:36,  3.70 files/s]\u001b[A\u001b[A\n",
            "\n",
            "Copying files: 261 files [01:37,  3.68 files/s]\u001b[A\u001b[A\n",
            "\n",
            "Copying files: 262 files [01:37,  3.68 files/s]\u001b[A\u001b[A\n",
            "\n",
            "Copying files: 263 files [01:37,  3.57 files/s]\u001b[A\u001b[A\n",
            "\n",
            "Copying files: 264 files [01:37,  3.77 files/s]\u001b[A\u001b[A\n",
            "\n",
            "Copying files: 265 files [01:38,  3.47 files/s]\u001b[A\u001b[A\n",
            "\n",
            "Copying files: 266 files [01:38,  3.44 files/s]\u001b[A\u001b[A\n",
            "\n",
            "Copying files: 267 files [01:38,  3.53 files/s]\u001b[A\u001b[A\n",
            "\n",
            "Copying files: 268 files [01:39,  3.55 files/s]\u001b[A\u001b[A\n",
            "\n",
            "Copying files: 269 files [01:39,  3.52 files/s]\u001b[A\u001b[A\n",
            "\n",
            "Copying files: 270 files [01:39,  3.59 files/s]\u001b[A\u001b[A\n",
            "\n",
            "Copying files: 271 files [01:40,  3.62 files/s]\u001b[A\u001b[A\n",
            "\n",
            "Copying files: 272 files [01:40,  3.62 files/s]\u001b[A\u001b[A\n",
            "\n",
            "Copying files: 273 files [01:40,  3.64 files/s]\u001b[A\u001b[A\n",
            "\n",
            "Copying files: 274 files [01:40,  3.79 files/s]\u001b[A\u001b[A\n",
            "\n",
            "Copying files: 275 files [01:41,  3.73 files/s]\u001b[A\u001b[A\n",
            "\n",
            "Copying files: 276 files [01:41,  3.50 files/s]\u001b[A\u001b[A\n",
            "\n",
            "Copying files: 277 files [01:41,  3.58 files/s]\u001b[A\u001b[A\n",
            "\n",
            "Copying files: 278 files [01:41,  3.63 files/s]\u001b[A\u001b[A\n",
            "\n",
            "Copying files: 279 files [01:42,  3.38 files/s]\u001b[A\u001b[A\n",
            "\n",
            "Copying files: 280 files [01:42,  3.47 files/s]\u001b[A\u001b[A\n",
            "\n",
            "Copying files: 281 files [01:42,  3.66 files/s]\u001b[A\u001b[A\n",
            "\n",
            "Copying files: 282 files [01:43,  3.80 files/s]\u001b[A\u001b[A\n",
            "\n",
            "Copying files: 283 files [01:43,  3.72 files/s]\u001b[A\u001b[A\n",
            "\n",
            "Copying files: 284 files [01:43,  3.91 files/s]\u001b[A\u001b[A\n",
            "\n",
            "Copying files: 285 files [01:43,  4.07 files/s]\u001b[A\u001b[A\n",
            "\n",
            "Copying files: 286 files [01:44,  3.83 files/s]\u001b[A\u001b[A\n",
            "\n",
            "Copying files: 287 files [01:44,  3.77 files/s]\u001b[A\u001b[A\n",
            "\n",
            "Copying files: 288 files [01:44,  3.97 files/s]\u001b[A\u001b[A\n",
            "\n",
            "Copying files: 289 files [01:44,  3.90 files/s]\u001b[A\u001b[A\n",
            "\n",
            "Copying files: 290 files [01:45,  3.81 files/s]\u001b[A\u001b[A\n",
            "\n",
            "Copying files: 291 files [01:45,  3.66 files/s]\u001b[A\u001b[A\n",
            "\n",
            "Copying files: 292 files [01:45,  3.61 files/s]\u001b[A\u001b[A\n",
            "\n",
            "Copying files: 293 files [01:45,  3.66 files/s]\u001b[A\u001b[A\n",
            "\n",
            "Copying files: 294 files [01:46,  3.68 files/s]\u001b[A\u001b[A\n",
            "\n",
            "Copying files: 295 files [01:46,  3.71 files/s]\u001b[A\u001b[A\n",
            "\n",
            "Copying files: 296 files [01:46,  3.72 files/s]\u001b[A\u001b[A\n",
            "\n",
            "Copying files: 297 files [01:47,  3.73 files/s]\u001b[A\u001b[A\n",
            "\n",
            "Copying files: 298 files [01:47,  3.71 files/s]\u001b[A\u001b[A\n",
            "\n",
            "Copying files: 299 files [01:47,  3.82 files/s]\u001b[A\u001b[A\n",
            "\n",
            "Copying files: 300 files [01:47,  3.38 files/s]\u001b[A\u001b[A\n",
            "\n",
            "Copying files: 301 files [01:48,  3.57 files/s]\u001b[A\u001b[A\n",
            "\n",
            "Copying files: 302 files [01:48,  3.62 files/s]\u001b[A\u001b[A\n",
            "\n",
            "Copying files: 303 files [01:48,  3.82 files/s]\u001b[A\u001b[A\n",
            "\n",
            "Copying files: 304 files [01:48,  3.92 files/s]\u001b[A\u001b[A\n",
            "\n",
            "Copying files: 305 files [01:49,  3.73 files/s]\u001b[A\u001b[A\n",
            "\n",
            "Copying files: 306 files [01:49,  3.96 files/s]\u001b[A\u001b[A\n",
            "\n",
            "Copying files: 307 files [01:49,  3.80 files/s]\u001b[A\u001b[A\n",
            "\n",
            "Copying files: 308 files [01:49,  3.83 files/s]\u001b[A\u001b[A\n",
            "\n",
            "Copying files: 309 files [01:50,  4.03 files/s]\u001b[A\u001b[A\n",
            "\n",
            "Copying files: 310 files [01:50,  4.16 files/s]\u001b[A\u001b[A\n",
            "\n",
            "Copying files: 311 files [01:50,  4.19 files/s]\u001b[A\u001b[A\n",
            "\n",
            "Copying files: 312 files [01:50,  4.27 files/s]\u001b[A\u001b[A\n",
            "\n",
            "Copying files: 313 files [01:51,  4.17 files/s]\u001b[A\u001b[A\n",
            "\n",
            "Copying files: 314 files [01:51,  3.94 files/s]\u001b[A\u001b[A\n",
            "\n",
            "Copying files: 315 files [01:51,  3.76 files/s]\u001b[A\u001b[A\n",
            "\n",
            "Copying files: 316 files [01:52,  3.29 files/s]\u001b[A\u001b[A\n",
            "\n",
            "Copying files: 317 files [01:52,  3.57 files/s]\u001b[A\u001b[A\n",
            "\n",
            "Copying files: 318 files [01:52,  3.76 files/s]\u001b[A\u001b[A\n",
            "\n",
            "Copying files: 319 files [01:52,  3.75 files/s]\u001b[A\u001b[A\n",
            "\n",
            "Copying files: 320 files [01:53,  3.56 files/s]\u001b[A\u001b[A\n",
            "\n",
            "Copying files: 321 files [01:53,  3.71 files/s]\u001b[A\u001b[A\n",
            "\n",
            "Copying files: 322 files [01:53,  3.27 files/s]\u001b[A\u001b[A\n",
            "\n",
            "Copying files: 323 files [01:53,  3.47 files/s]\u001b[A\u001b[A\n",
            "\n",
            "Copying files: 324 files [01:54,  3.56 files/s]\u001b[A\u001b[A\n",
            "\n",
            "Copying files: 325 files [01:54,  3.17 files/s]\u001b[A\u001b[A\n",
            "\n",
            "Copying files: 326 files [01:54,  3.45 files/s]\u001b[A\u001b[A\n",
            "\n",
            "Copying files: 327 files [01:55,  3.26 files/s]\u001b[A\u001b[A\n",
            "\n",
            "Copying files: 328 files [01:55,  3.53 files/s]\u001b[A\u001b[A\n",
            "\n",
            "Copying files: 329 files [01:55,  3.72 files/s]\u001b[A\u001b[A\n",
            "\n",
            "Copying files: 330 files [01:55,  3.83 files/s]\u001b[A\u001b[A\n",
            "\n",
            "Copying files: 331 files [01:56,  3.92 files/s]\u001b[A\u001b[A\n",
            "\n",
            "Copying files: 332 files [01:56,  4.05 files/s]\u001b[A\u001b[A\n",
            "\n",
            "Copying files: 333 files [01:56,  4.14 files/s]\u001b[A\u001b[A\n",
            "\n",
            "Copying files: 334 files [01:56,  3.57 files/s]\u001b[A\u001b[A\n",
            "\n",
            "Copying files: 335 files [01:57,  3.71 files/s]\u001b[A\u001b[A\n",
            "\n",
            "Copying files: 336 files [01:57,  3.62 files/s]\u001b[A\u001b[A\n",
            "\n",
            "Copying files: 337 files [01:57,  3.84 files/s]\u001b[A\u001b[A\n",
            "\n",
            "Copying files: 338 files [01:58,  3.74 files/s]\u001b[A\u001b[A\n",
            "\n",
            "Copying files: 339 files [01:58,  3.72 files/s]\u001b[A\u001b[A\n",
            "\n",
            "Copying files: 340 files [01:58,  3.51 files/s]\u001b[A\u001b[A\n",
            "\n",
            "Copying files: 341 files [01:58,  3.61 files/s]\u001b[A\u001b[A\n",
            "\n",
            "Copying files: 342 files [01:59,  3.62 files/s]\u001b[A\u001b[A\n",
            "\n",
            "Copying files: 343 files [01:59,  3.65 files/s]\u001b[A\u001b[A\n",
            "\n",
            "Copying files: 344 files [01:59,  3.76 files/s]\u001b[A\u001b[A\n",
            "\n",
            "Copying files: 345 files [02:00,  3.47 files/s]\u001b[A\u001b[A\n",
            "\n",
            "Copying files: 346 files [02:00,  3.50 files/s]\u001b[A\u001b[A\n",
            "\n",
            "Copying files: 347 files [02:00,  3.30 files/s]\u001b[A\u001b[A\n",
            "\n",
            "Copying files: 348 files [02:00,  3.53 files/s]\u001b[A\u001b[A\n",
            "\n",
            "Copying files: 349 files [02:01,  3.71 files/s]\u001b[A\u001b[A\n",
            "\n",
            "Copying files: 350 files [02:01,  3.74 files/s]\u001b[A\u001b[A\n",
            "\n",
            "Copying files: 351 files [02:01,  3.51 files/s]\u001b[A\u001b[A\n",
            "\n",
            "Copying files: 352 files [02:01,  3.62 files/s]\u001b[A\u001b[A\n",
            "\n",
            "Copying files: 353 files [02:02,  3.50 files/s]\u001b[A\u001b[A\n",
            "\n",
            "Copying files: 354 files [02:02,  3.46 files/s]\u001b[A\u001b[A\n",
            "\n",
            "Copying files: 355 files [02:02,  3.16 files/s]\u001b[A\u001b[A\n",
            "\n",
            "Copying files: 356 files [02:03,  3.15 files/s]\u001b[A\u001b[A\n",
            "\n",
            "Copying files: 357 files [02:03,  3.46 files/s]\u001b[A\u001b[A\n",
            "\n",
            "Copying files: 358 files [02:03,  3.38 files/s]\u001b[A\u001b[A\n",
            "\n",
            "Copying files: 359 files [02:04,  3.62 files/s]\u001b[A\u001b[A\n",
            "\n",
            "Copying files: 360 files [02:04,  3.73 files/s]\u001b[A\u001b[A\n",
            "\n",
            "Copying files: 361 files [02:04,  3.94 files/s]\u001b[A\u001b[A\n",
            "\n",
            "Copying files: 362 files [02:04,  3.84 files/s]\u001b[A\u001b[A\n",
            "\n",
            "Copying files: 363 files [02:05,  2.69 files/s]\u001b[A\u001b[A\n",
            "\n",
            "Copying files: 364 files [02:05,  3.03 files/s]\u001b[A\u001b[A\n",
            "\n",
            "Copying files: 365 files [02:06,  2.90 files/s]\u001b[A\u001b[A\n",
            "\n",
            "Copying files: 366 files [02:06,  2.90 files/s]\u001b[A\u001b[A\n",
            "\n",
            "Copying files: 367 files [02:06,  3.27 files/s]\u001b[A\u001b[A\n",
            "\n",
            "Copying files: 368 files [02:06,  3.50 files/s]\u001b[A\u001b[A\n",
            "\n",
            "Copying files: 369 files [02:07,  3.48 files/s]\u001b[A\u001b[A\n",
            "\n",
            "Copying files: 370 files [02:07,  3.51 files/s]\u001b[A\u001b[A\n",
            "\n",
            "Copying files: 371 files [02:07,  3.55 files/s]\u001b[A\u001b[A\n",
            "\n",
            "Copying files: 372 files [02:07,  3.79 files/s]\u001b[A\u001b[A\n",
            "\n",
            "Copying files: 373 files [02:08,  3.94 files/s]\u001b[A\u001b[A\n",
            "\n",
            "Copying files: 374 files [02:08,  3.82 files/s]\u001b[A\u001b[A\n",
            "\n",
            "Copying files: 375 files [02:08,  3.71 files/s]\u001b[A\u001b[A\n",
            "\n",
            "Copying files: 376 files [02:08,  3.74 files/s]\u001b[A\u001b[A"
          ],
          "name": "stderr"
        },
        {
          "output_type": "error",
          "ename": "KeyboardInterrupt",
          "evalue": "ignored",
          "traceback": [
            "\u001b[0;31m---------------------------------------------------------------------------\u001b[0m",
            "\u001b[0;31mKeyboardInterrupt\u001b[0m                         Traceback (most recent call last)",
            "\u001b[0;32m<ipython-input-30-11e29577433e>\u001b[0m in \u001b[0;36m<module>\u001b[0;34m()\u001b[0m\n\u001b[1;32m      2\u001b[0m \u001b[0moutput\u001b[0m \u001b[0;34m=\u001b[0m \u001b[0;34m\"/content/drive/MyDrive/Dataset Dogs\"\u001b[0m \u001b[0;31m#where you want the split datasets saved. one will be created if none is set\u001b[0m\u001b[0;34m\u001b[0m\u001b[0;34m\u001b[0m\u001b[0m\n\u001b[1;32m      3\u001b[0m \u001b[0;34m\u001b[0m\u001b[0m\n\u001b[0;32m----> 4\u001b[0;31m \u001b[0msplitfolders\u001b[0m\u001b[0;34m.\u001b[0m\u001b[0mratio\u001b[0m\u001b[0;34m(\u001b[0m\u001b[0minput_folder\u001b[0m\u001b[0;34m,\u001b[0m \u001b[0moutput\u001b[0m\u001b[0;34m=\u001b[0m\u001b[0;34m\"output\"\u001b[0m\u001b[0;34m,\u001b[0m \u001b[0mseed\u001b[0m\u001b[0;34m=\u001b[0m\u001b[0;36m42\u001b[0m\u001b[0;34m,\u001b[0m \u001b[0mratio\u001b[0m\u001b[0;34m=\u001b[0m\u001b[0;34m(\u001b[0m\u001b[0;36m.8\u001b[0m\u001b[0;34m,\u001b[0m \u001b[0;36m.2\u001b[0m\u001b[0;34m)\u001b[0m\u001b[0;34m)\u001b[0m \u001b[0;31m# ratio of split are in order of train/val/test. You can change to whatever you want. For train/val sets only, you could do .75, .25 for example.\u001b[0m\u001b[0;34m\u001b[0m\u001b[0;34m\u001b[0m\u001b[0m\n\u001b[0m",
            "\u001b[0;32m/usr/local/lib/python3.7/dist-packages/splitfolders/split.py\u001b[0m in \u001b[0;36mratio\u001b[0;34m(input, output, seed, ratio, group_prefix)\u001b[0m\n\u001b[1;32m     77\u001b[0m             \u001b[0mseed\u001b[0m\u001b[0;34m,\u001b[0m\u001b[0;34m\u001b[0m\u001b[0;34m\u001b[0m\u001b[0m\n\u001b[1;32m     78\u001b[0m             \u001b[0mprog_bar\u001b[0m \u001b[0;32mif\u001b[0m \u001b[0mtqdm_is_installed\u001b[0m \u001b[0;32melse\u001b[0m \u001b[0;32mNone\u001b[0m\u001b[0;34m,\u001b[0m\u001b[0;34m\u001b[0m\u001b[0;34m\u001b[0m\u001b[0m\n\u001b[0;32m---> 79\u001b[0;31m             \u001b[0mgroup_prefix\u001b[0m\u001b[0;34m,\u001b[0m\u001b[0;34m\u001b[0m\u001b[0;34m\u001b[0m\u001b[0m\n\u001b[0m\u001b[1;32m     80\u001b[0m         )\n\u001b[1;32m     81\u001b[0m \u001b[0;34m\u001b[0m\u001b[0m\n",
            "\u001b[0;32m/usr/local/lib/python3.7/dist-packages/splitfolders/split.py\u001b[0m in \u001b[0;36msplit_class_dir_ratio\u001b[0;34m(class_dir, output, ratio, seed, prog_bar, group_prefix)\u001b[0m\n\u001b[1;32m    203\u001b[0m \u001b[0;34m\u001b[0m\u001b[0m\n\u001b[1;32m    204\u001b[0m     \u001b[0mli\u001b[0m \u001b[0;34m=\u001b[0m \u001b[0msplit_files\u001b[0m\u001b[0;34m(\u001b[0m\u001b[0mfiles\u001b[0m\u001b[0;34m,\u001b[0m \u001b[0msplit_train_idx\u001b[0m\u001b[0;34m,\u001b[0m \u001b[0msplit_val_idx\u001b[0m\u001b[0;34m,\u001b[0m \u001b[0mlen\u001b[0m\u001b[0;34m(\u001b[0m\u001b[0mratio\u001b[0m\u001b[0;34m)\u001b[0m \u001b[0;34m==\u001b[0m \u001b[0;36m3\u001b[0m\u001b[0;34m)\u001b[0m\u001b[0;34m\u001b[0m\u001b[0;34m\u001b[0m\u001b[0m\n\u001b[0;32m--> 205\u001b[0;31m     \u001b[0mcopy_files\u001b[0m\u001b[0;34m(\u001b[0m\u001b[0mli\u001b[0m\u001b[0;34m,\u001b[0m \u001b[0mclass_dir\u001b[0m\u001b[0;34m,\u001b[0m \u001b[0moutput\u001b[0m\u001b[0;34m,\u001b[0m \u001b[0mprog_bar\u001b[0m\u001b[0;34m)\u001b[0m\u001b[0;34m\u001b[0m\u001b[0;34m\u001b[0m\u001b[0m\n\u001b[0m\u001b[1;32m    206\u001b[0m \u001b[0;34m\u001b[0m\u001b[0m\n\u001b[1;32m    207\u001b[0m \u001b[0;34m\u001b[0m\u001b[0m\n",
            "\u001b[0;32m/usr/local/lib/python3.7/dist-packages/splitfolders/split.py\u001b[0m in \u001b[0;36mcopy_files\u001b[0;34m(files_type, class_dir, output, prog_bar)\u001b[0m\n\u001b[1;32m    258\u001b[0m                     \u001b[0mshutil\u001b[0m\u001b[0;34m.\u001b[0m\u001b[0mcopy2\u001b[0m\u001b[0;34m(\u001b[0m\u001b[0mx\u001b[0m\u001b[0;34m,\u001b[0m \u001b[0mfull_path\u001b[0m\u001b[0;34m)\u001b[0m\u001b[0;34m\u001b[0m\u001b[0;34m\u001b[0m\u001b[0m\n\u001b[1;32m    259\u001b[0m             \u001b[0;32melse\u001b[0m\u001b[0;34m:\u001b[0m\u001b[0;34m\u001b[0m\u001b[0;34m\u001b[0m\u001b[0m\n\u001b[0;32m--> 260\u001b[0;31m                 \u001b[0mshutil\u001b[0m\u001b[0;34m.\u001b[0m\u001b[0mcopy2\u001b[0m\u001b[0;34m(\u001b[0m\u001b[0mf\u001b[0m\u001b[0;34m,\u001b[0m \u001b[0mfull_path\u001b[0m\u001b[0;34m)\u001b[0m\u001b[0;34m\u001b[0m\u001b[0;34m\u001b[0m\u001b[0m\n\u001b[0m",
            "\u001b[0;32m/usr/lib/python3.7/shutil.py\u001b[0m in \u001b[0;36mcopy2\u001b[0;34m(src, dst, follow_symlinks)\u001b[0m\n\u001b[1;32m    264\u001b[0m     \u001b[0;32mif\u001b[0m \u001b[0mos\u001b[0m\u001b[0;34m.\u001b[0m\u001b[0mpath\u001b[0m\u001b[0;34m.\u001b[0m\u001b[0misdir\u001b[0m\u001b[0;34m(\u001b[0m\u001b[0mdst\u001b[0m\u001b[0;34m)\u001b[0m\u001b[0;34m:\u001b[0m\u001b[0;34m\u001b[0m\u001b[0;34m\u001b[0m\u001b[0m\n\u001b[1;32m    265\u001b[0m         \u001b[0mdst\u001b[0m \u001b[0;34m=\u001b[0m \u001b[0mos\u001b[0m\u001b[0;34m.\u001b[0m\u001b[0mpath\u001b[0m\u001b[0;34m.\u001b[0m\u001b[0mjoin\u001b[0m\u001b[0;34m(\u001b[0m\u001b[0mdst\u001b[0m\u001b[0;34m,\u001b[0m \u001b[0mos\u001b[0m\u001b[0;34m.\u001b[0m\u001b[0mpath\u001b[0m\u001b[0;34m.\u001b[0m\u001b[0mbasename\u001b[0m\u001b[0;34m(\u001b[0m\u001b[0msrc\u001b[0m\u001b[0;34m)\u001b[0m\u001b[0;34m)\u001b[0m\u001b[0;34m\u001b[0m\u001b[0;34m\u001b[0m\u001b[0m\n\u001b[0;32m--> 266\u001b[0;31m     \u001b[0mcopyfile\u001b[0m\u001b[0;34m(\u001b[0m\u001b[0msrc\u001b[0m\u001b[0;34m,\u001b[0m \u001b[0mdst\u001b[0m\u001b[0;34m,\u001b[0m \u001b[0mfollow_symlinks\u001b[0m\u001b[0;34m=\u001b[0m\u001b[0mfollow_symlinks\u001b[0m\u001b[0;34m)\u001b[0m\u001b[0;34m\u001b[0m\u001b[0;34m\u001b[0m\u001b[0m\n\u001b[0m\u001b[1;32m    267\u001b[0m     \u001b[0mcopystat\u001b[0m\u001b[0;34m(\u001b[0m\u001b[0msrc\u001b[0m\u001b[0;34m,\u001b[0m \u001b[0mdst\u001b[0m\u001b[0;34m,\u001b[0m \u001b[0mfollow_symlinks\u001b[0m\u001b[0;34m=\u001b[0m\u001b[0mfollow_symlinks\u001b[0m\u001b[0;34m)\u001b[0m\u001b[0;34m\u001b[0m\u001b[0;34m\u001b[0m\u001b[0m\n\u001b[1;32m    268\u001b[0m     \u001b[0;32mreturn\u001b[0m \u001b[0mdst\u001b[0m\u001b[0;34m\u001b[0m\u001b[0;34m\u001b[0m\u001b[0m\n",
            "\u001b[0;32m/usr/lib/python3.7/shutil.py\u001b[0m in \u001b[0;36mcopyfile\u001b[0;34m(src, dst, follow_symlinks)\u001b[0m\n\u001b[1;32m    120\u001b[0m         \u001b[0;32mwith\u001b[0m \u001b[0mopen\u001b[0m\u001b[0;34m(\u001b[0m\u001b[0msrc\u001b[0m\u001b[0;34m,\u001b[0m \u001b[0;34m'rb'\u001b[0m\u001b[0;34m)\u001b[0m \u001b[0;32mas\u001b[0m \u001b[0mfsrc\u001b[0m\u001b[0;34m:\u001b[0m\u001b[0;34m\u001b[0m\u001b[0;34m\u001b[0m\u001b[0m\n\u001b[1;32m    121\u001b[0m             \u001b[0;32mwith\u001b[0m \u001b[0mopen\u001b[0m\u001b[0;34m(\u001b[0m\u001b[0mdst\u001b[0m\u001b[0;34m,\u001b[0m \u001b[0;34m'wb'\u001b[0m\u001b[0;34m)\u001b[0m \u001b[0;32mas\u001b[0m \u001b[0mfdst\u001b[0m\u001b[0;34m:\u001b[0m\u001b[0;34m\u001b[0m\u001b[0;34m\u001b[0m\u001b[0m\n\u001b[0;32m--> 122\u001b[0;31m                 \u001b[0mcopyfileobj\u001b[0m\u001b[0;34m(\u001b[0m\u001b[0mfsrc\u001b[0m\u001b[0;34m,\u001b[0m \u001b[0mfdst\u001b[0m\u001b[0;34m)\u001b[0m\u001b[0;34m\u001b[0m\u001b[0;34m\u001b[0m\u001b[0m\n\u001b[0m\u001b[1;32m    123\u001b[0m     \u001b[0;32mreturn\u001b[0m \u001b[0mdst\u001b[0m\u001b[0;34m\u001b[0m\u001b[0;34m\u001b[0m\u001b[0m\n\u001b[1;32m    124\u001b[0m \u001b[0;34m\u001b[0m\u001b[0m\n",
            "\u001b[0;32m/usr/lib/python3.7/shutil.py\u001b[0m in \u001b[0;36mcopyfileobj\u001b[0;34m(fsrc, fdst, length)\u001b[0m\n\u001b[1;32m     77\u001b[0m     \u001b[0;34m\"\"\"copy data from file-like object fsrc to file-like object fdst\"\"\"\u001b[0m\u001b[0;34m\u001b[0m\u001b[0;34m\u001b[0m\u001b[0m\n\u001b[1;32m     78\u001b[0m     \u001b[0;32mwhile\u001b[0m \u001b[0;36m1\u001b[0m\u001b[0;34m:\u001b[0m\u001b[0;34m\u001b[0m\u001b[0;34m\u001b[0m\u001b[0m\n\u001b[0;32m---> 79\u001b[0;31m         \u001b[0mbuf\u001b[0m \u001b[0;34m=\u001b[0m \u001b[0mfsrc\u001b[0m\u001b[0;34m.\u001b[0m\u001b[0mread\u001b[0m\u001b[0;34m(\u001b[0m\u001b[0mlength\u001b[0m\u001b[0;34m)\u001b[0m\u001b[0;34m\u001b[0m\u001b[0;34m\u001b[0m\u001b[0m\n\u001b[0m\u001b[1;32m     80\u001b[0m         \u001b[0;32mif\u001b[0m \u001b[0;32mnot\u001b[0m \u001b[0mbuf\u001b[0m\u001b[0;34m:\u001b[0m\u001b[0;34m\u001b[0m\u001b[0;34m\u001b[0m\u001b[0m\n\u001b[1;32m     81\u001b[0m             \u001b[0;32mbreak\u001b[0m\u001b[0;34m\u001b[0m\u001b[0;34m\u001b[0m\u001b[0m\n",
            "\u001b[0;31mKeyboardInterrupt\u001b[0m: "
          ]
        }
      ]
    },
    {
      "cell_type": "code",
      "metadata": {
        "id": "dzJx8iQkx2YF"
      },
      "source": [
        ""
      ],
      "execution_count": null,
      "outputs": []
    },
    {
      "cell_type": "code",
      "metadata": {
        "colab": {
          "base_uri": "https://localhost:8080/"
        },
        "id": "rlJZe-wSA6sM",
        "outputId": "4f4144bd-9b5a-46e4-afea-cfdbfa564670"
      },
      "source": [
        "#model = torch.hub.load('pytorch/vision:v0.10.0', 'resnet34', pretrained=True)\n",
        "model1 = torchvision.models.resnet18(pretrained=True, progress=True)\n",
        "model1.eval()\n",
        "if torch.cuda.is_available():\n",
        "    print(\"Cuda available\")    \n",
        "    model1.to('cuda')\n",
        "optimizer = optim.Adam(model1.parameters(), lr=0.00003)\n"
      ],
      "execution_count": 19,
      "outputs": [
        {
          "output_type": "stream",
          "text": [
            "Cuda available\n"
          ],
          "name": "stdout"
        }
      ]
    },
    {
      "cell_type": "code",
      "metadata": {
        "id": "5ZC4B3LclmLY"
      },
      "source": [
        "### pytorch-metric-learning stuff ###\n",
        "distance = distances.LpDistance(power=2)\n",
        "reducer = reducers.ThresholdReducer(low = 0)\n",
        "loss_func = losses.TripletMarginLoss(margin=0.2, distance=distance)\n",
        "mining_func = miners.TripletMarginMiner(margin=0.2,type_of_triplets=\"easy\", distance=distance)\n",
        "accuracy_calculator = AccuracyCalculator(include = (\"precision_at_1\",), k = 1)"
      ],
      "execution_count": 24,
      "outputs": []
    },
    {
      "cell_type": "code",
      "metadata": {
        "colab": {
          "base_uri": "https://localhost:8080/"
        },
        "id": "GJ_L0TrTDnEA",
        "outputId": "30cf3bed-3ee6-4cf7-85c3-e4bc709f713d"
      },
      "source": [
        "num_epochs = 100\n",
        "### pytorch-metric-learning stuff ###\n",
        "for epoch in range(1, num_epochs+1):\n",
        "    train(model1, loss_func, mining_func, device, train_loader, optimizer, epoch)\n",
        "    test(dataset1, dataset2, model1, accuracy_calculator)\n",
        "    \n",
        "\n"
      ],
      "execution_count": 25,
      "outputs": [
        {
          "output_type": "stream",
          "text": [
            "/usr/local/lib/python3.7/dist-packages/torch/utils/data/dataloader.py:481: UserWarning: This DataLoader will create 32 worker processes in total. Our suggested max number of worker in current system is 2, which is smaller than what this DataLoader is going to create. Please be aware that excessive worker creation might get DataLoader running slow or even freeze, lower the worker number to avoid potential slowness/freeze if necessary.\n",
            "  cpuset_checked))\n",
            "\n",
            "\n",
            "  0%|          | 0/7 [00:00<?, ?it/s]\u001b[A\u001b[A"
          ],
          "name": "stderr"
        },
        {
          "output_type": "stream",
          "text": [
            "Epoch 1 Iteration 0: Loss = 0.0, Number of mined triplets = 225127\n"
          ],
          "name": "stdout"
        },
        {
          "output_type": "stream",
          "text": [
            "\n",
            "\n",
            " 14%|█▍        | 1/7 [00:01<00:11,  1.96s/it]\u001b[A\u001b[A\n",
            "\n",
            " 29%|██▊       | 2/7 [00:02<00:07,  1.41s/it]\u001b[A\u001b[A\n",
            "\n",
            "100%|██████████| 7/7 [00:03<00:00,  2.25it/s]\n",
            "\n",
            "\n",
            "  0%|          | 0/12 [00:00<?, ?it/s]\u001b[A\u001b[A\n",
            "\n",
            "  8%|▊         | 1/12 [00:02<00:24,  2.23s/it]\u001b[A\u001b[A\n",
            "\n",
            " 17%|█▋        | 2/12 [00:02<00:16,  1.67s/it]\u001b[A\u001b[A\n",
            "\n",
            " 33%|███▎      | 4/12 [00:02<00:09,  1.19s/it]\u001b[A\u001b[A\n",
            "\n",
            " 50%|█████     | 6/12 [00:02<00:05,  1.18it/s]\u001b[A\u001b[A\n",
            "\n",
            " 75%|███████▌  | 9/12 [00:02<00:01,  1.66it/s]\u001b[A\u001b[A\n",
            "\n",
            "100%|██████████| 12/12 [00:03<00:00,  3.13it/s]\n"
          ],
          "name": "stderr"
        },
        {
          "output_type": "stream",
          "text": [
            "Computing accuracy\n",
            "Test set accuracy (Precision@1) = 0.660427807486631\n"
          ],
          "name": "stdout"
        },
        {
          "output_type": "stream",
          "text": [
            "\n",
            "\n",
            "  0%|          | 0/7 [00:00<?, ?it/s]\u001b[A\u001b[A"
          ],
          "name": "stderr"
        },
        {
          "output_type": "stream",
          "text": [
            "Epoch 2 Iteration 0: Loss = 0.0, Number of mined triplets = 219586\n"
          ],
          "name": "stdout"
        },
        {
          "output_type": "stream",
          "text": [
            "\n",
            "\n",
            " 14%|█▍        | 1/7 [00:02<00:13,  2.22s/it]\u001b[A\u001b[A\n",
            "\n",
            " 43%|████▎     | 3/7 [00:02<00:06,  1.57s/it]\u001b[A\u001b[A\n",
            "\n",
            "100%|██████████| 7/7 [00:03<00:00,  2.11it/s]\n",
            "\n",
            "\n",
            "  0%|          | 0/12 [00:00<?, ?it/s]\u001b[A\u001b[A\n",
            "\n",
            "  8%|▊         | 1/12 [00:02<00:28,  2.56s/it]\u001b[A\u001b[A\n",
            "\n",
            " 17%|█▋        | 2/12 [00:02<00:18,  1.83s/it]\u001b[A\u001b[A\n",
            "\n",
            " 33%|███▎      | 4/12 [00:02<00:10,  1.30s/it]\u001b[A\u001b[A\n",
            "\n",
            " 50%|█████     | 6/12 [00:02<00:05,  1.08it/s]\u001b[A\u001b[A\n",
            "\n",
            " 75%|███████▌  | 9/12 [00:03<00:01,  1.52it/s]\u001b[A\u001b[A\n",
            "\n",
            "100%|██████████| 12/12 [00:03<00:00,  3.04it/s]\n"
          ],
          "name": "stderr"
        },
        {
          "output_type": "stream",
          "text": [
            "Computing accuracy\n",
            "Test set accuracy (Precision@1) = 0.7005347593582887\n"
          ],
          "name": "stdout"
        },
        {
          "output_type": "stream",
          "text": [
            "\n",
            "\n",
            "  0%|          | 0/7 [00:00<?, ?it/s]\u001b[A\u001b[A"
          ],
          "name": "stderr"
        },
        {
          "output_type": "stream",
          "text": [
            "Epoch 3 Iteration 0: Loss = 0.0, Number of mined triplets = 220881\n"
          ],
          "name": "stdout"
        },
        {
          "output_type": "stream",
          "text": [
            "\n",
            "\n",
            " 14%|█▍        | 1/7 [00:02<00:12,  2.15s/it]\u001b[A\u001b[A\n",
            "\n",
            " 43%|████▎     | 3/7 [00:02<00:06,  1.52s/it]\u001b[A\u001b[A\n",
            "\n",
            "100%|██████████| 7/7 [00:03<00:00,  2.14it/s]\n",
            "\n",
            "\n",
            "  0%|          | 0/12 [00:00<?, ?it/s]\u001b[A\u001b[A\n",
            "\n",
            "  8%|▊         | 1/12 [00:02<00:28,  2.59s/it]\u001b[A\u001b[A\n",
            "\n",
            " 17%|█▋        | 2/12 [00:02<00:18,  1.85s/it]\u001b[A\u001b[A\n",
            "\n",
            " 33%|███▎      | 4/12 [00:02<00:10,  1.31s/it]\u001b[A\u001b[A\n",
            "\n",
            " 50%|█████     | 6/12 [00:02<00:05,  1.07it/s]\u001b[A\u001b[A\n",
            "\n",
            " 75%|███████▌  | 9/12 [00:03<00:01,  1.51it/s]\u001b[A\u001b[A\n",
            "\n",
            "100%|██████████| 12/12 [00:03<00:00,  3.04it/s]\n"
          ],
          "name": "stderr"
        },
        {
          "output_type": "stream",
          "text": [
            "Computing accuracy\n",
            "Test set accuracy (Precision@1) = 0.7058823529411764\n"
          ],
          "name": "stdout"
        },
        {
          "output_type": "stream",
          "text": [
            "\n",
            "\n",
            "  0%|          | 0/7 [00:00<?, ?it/s]\u001b[A\u001b[A"
          ],
          "name": "stderr"
        },
        {
          "output_type": "stream",
          "text": [
            "Epoch 4 Iteration 0: Loss = 0.0, Number of mined triplets = 227325\n"
          ],
          "name": "stdout"
        },
        {
          "output_type": "stream",
          "text": [
            "\n",
            "\n",
            " 14%|█▍        | 1/7 [00:02<00:12,  2.13s/it]\u001b[A\u001b[A\n",
            "\n",
            " 43%|████▎     | 3/7 [00:02<00:06,  1.51s/it]\u001b[A\u001b[A\n",
            "\n",
            "100%|██████████| 7/7 [00:03<00:00,  2.16it/s]\n",
            "\n",
            "\n",
            "  0%|          | 0/12 [00:00<?, ?it/s]\u001b[A\u001b[A\n",
            "\n",
            "  8%|▊         | 1/12 [00:02<00:28,  2.63s/it]\u001b[A\u001b[A\n",
            "\n",
            " 25%|██▌       | 3/12 [00:02<00:16,  1.86s/it]\u001b[A\u001b[A\n",
            "\n",
            " 50%|█████     | 6/12 [00:02<00:07,  1.31s/it]\u001b[A\u001b[A\n",
            "\n",
            " 75%|███████▌  | 9/12 [00:02<00:02,  1.07it/s]\u001b[A\u001b[A\n",
            "\n",
            "100%|██████████| 12/12 [00:03<00:00,  3.10it/s]\n"
          ],
          "name": "stderr"
        },
        {
          "output_type": "stream",
          "text": [
            "Computing accuracy\n",
            "Test set accuracy (Precision@1) = 0.7005347593582887\n"
          ],
          "name": "stdout"
        },
        {
          "output_type": "stream",
          "text": [
            "\n",
            "\n",
            "  0%|          | 0/7 [00:00<?, ?it/s]\u001b[A\u001b[A"
          ],
          "name": "stderr"
        },
        {
          "output_type": "stream",
          "text": [
            "Epoch 5 Iteration 0: Loss = 0.0, Number of mined triplets = 227277\n"
          ],
          "name": "stdout"
        },
        {
          "output_type": "stream",
          "text": [
            "\n",
            "\n",
            " 14%|█▍        | 1/7 [00:01<00:11,  1.92s/it]\u001b[A\u001b[A\n",
            "\n",
            " 43%|████▎     | 3/7 [00:02<00:05,  1.37s/it]\u001b[A\u001b[A\n",
            "\n",
            "100%|██████████| 7/7 [00:02<00:00,  2.34it/s]\n",
            "\n",
            "\n",
            "  0%|          | 0/12 [00:00<?, ?it/s]\u001b[A\u001b[A\n",
            "\n",
            "  8%|▊         | 1/12 [00:02<00:29,  2.65s/it]\u001b[A\u001b[A\n",
            "\n",
            " 25%|██▌       | 3/12 [00:02<00:16,  1.87s/it]\u001b[A\u001b[A\n",
            "\n",
            " 42%|████▏     | 5/12 [00:02<00:09,  1.33s/it]\u001b[A\u001b[A\n",
            "\n",
            " 67%|██████▋   | 8/12 [00:03<00:03,  1.06it/s]\u001b[A\u001b[A\n",
            "\n",
            "100%|██████████| 12/12 [00:03<00:00,  3.04it/s]\n"
          ],
          "name": "stderr"
        },
        {
          "output_type": "stream",
          "text": [
            "Computing accuracy\n",
            "Test set accuracy (Precision@1) = 0.6925133689839572\n"
          ],
          "name": "stdout"
        },
        {
          "output_type": "stream",
          "text": [
            "\n",
            "\n",
            "  0%|          | 0/7 [00:00<?, ?it/s]\u001b[A\u001b[A"
          ],
          "name": "stderr"
        },
        {
          "output_type": "stream",
          "text": [
            "Epoch 6 Iteration 0: Loss = 0.0, Number of mined triplets = 220281\n"
          ],
          "name": "stdout"
        },
        {
          "output_type": "stream",
          "text": [
            "\n",
            "\n",
            " 14%|█▍        | 1/7 [00:02<00:12,  2.10s/it]\u001b[A\u001b[A\n",
            "\n",
            " 43%|████▎     | 3/7 [00:02<00:05,  1.49s/it]\u001b[A\u001b[A\n",
            "\n",
            "100%|██████████| 7/7 [00:03<00:00,  2.16it/s]\n",
            "\n",
            "\n",
            "  0%|          | 0/12 [00:00<?, ?it/s]\u001b[A\u001b[A\n",
            "\n",
            "  8%|▊         | 1/12 [00:02<00:27,  2.51s/it]\u001b[A\u001b[A\n",
            "\n",
            " 17%|█▋        | 2/12 [00:02<00:18,  1.80s/it]\u001b[A\u001b[A\n",
            "\n",
            " 25%|██▌       | 3/12 [00:02<00:11,  1.31s/it]\u001b[A\u001b[A\n",
            "\n",
            " 42%|████▏     | 5/12 [00:02<00:06,  1.07it/s]\u001b[A\u001b[A\n",
            "\n",
            " 67%|██████▋   | 8/12 [00:03<00:02,  1.50it/s]\u001b[A\u001b[A\n",
            "\n",
            "100%|██████████| 12/12 [00:04<00:00,  2.97it/s]\n"
          ],
          "name": "stderr"
        },
        {
          "output_type": "stream",
          "text": [
            "Computing accuracy\n",
            "Test set accuracy (Precision@1) = 0.6657754010695187\n"
          ],
          "name": "stdout"
        },
        {
          "output_type": "stream",
          "text": [
            "\n",
            "\n",
            "  0%|          | 0/7 [00:00<?, ?it/s]\u001b[A\u001b[A"
          ],
          "name": "stderr"
        },
        {
          "output_type": "stream",
          "text": [
            "Epoch 7 Iteration 0: Loss = 0.0, Number of mined triplets = 223716\n"
          ],
          "name": "stdout"
        },
        {
          "output_type": "stream",
          "text": [
            "\n",
            "\n",
            " 14%|█▍        | 1/7 [00:02<00:12,  2.14s/it]\u001b[A\u001b[A\n",
            "\n",
            " 43%|████▎     | 3/7 [00:02<00:06,  1.51s/it]\u001b[A\u001b[A\n",
            "\n",
            "100%|██████████| 7/7 [00:03<00:00,  2.15it/s]\n",
            "\n",
            "\n",
            "  0%|          | 0/12 [00:00<?, ?it/s]\u001b[A\u001b[A\n",
            "\n",
            "  8%|▊         | 1/12 [00:02<00:30,  2.79s/it]\u001b[A\u001b[A\n",
            "\n",
            " 25%|██▌       | 3/12 [00:02<00:17,  1.97s/it]\u001b[A\u001b[A\n",
            "\n",
            " 50%|█████     | 6/12 [00:03<00:08,  1.39s/it]\u001b[A\u001b[A\n",
            "\n",
            " 75%|███████▌  | 9/12 [00:03<00:02,  1.01it/s]\u001b[A\u001b[A\n",
            "\n",
            "100%|██████████| 12/12 [00:04<00:00,  2.93it/s]\n"
          ],
          "name": "stderr"
        },
        {
          "output_type": "stream",
          "text": [
            "Computing accuracy\n",
            "Test set accuracy (Precision@1) = 0.7192513368983957\n"
          ],
          "name": "stdout"
        },
        {
          "output_type": "stream",
          "text": [
            "\n",
            "\n",
            "  0%|          | 0/7 [00:00<?, ?it/s]\u001b[A\u001b[A"
          ],
          "name": "stderr"
        },
        {
          "output_type": "stream",
          "text": [
            "Epoch 8 Iteration 0: Loss = 0.0, Number of mined triplets = 222792\n"
          ],
          "name": "stdout"
        },
        {
          "output_type": "stream",
          "text": [
            "\n",
            "\n",
            " 14%|█▍        | 1/7 [00:02<00:13,  2.20s/it]\u001b[A\u001b[A\n",
            "\n",
            " 43%|████▎     | 3/7 [00:02<00:06,  1.56s/it]\u001b[A\u001b[A\n",
            "\n",
            "100%|██████████| 7/7 [00:03<00:00,  2.14it/s]\n",
            "\n",
            "\n",
            "  0%|          | 0/12 [00:00<?, ?it/s]\u001b[A\u001b[A\n",
            "\n",
            "  8%|▊         | 1/12 [00:02<00:28,  2.61s/it]\u001b[A\u001b[A\n",
            "\n",
            " 25%|██▌       | 3/12 [00:02<00:16,  1.84s/it]\u001b[A\u001b[A\n",
            "\n",
            " 50%|█████     | 6/12 [00:02<00:07,  1.30s/it]\u001b[A\u001b[A\n",
            "\n",
            " 75%|███████▌  | 9/12 [00:02<00:02,  1.08it/s]\u001b[A\u001b[A\n",
            "\n",
            "100%|██████████| 12/12 [00:03<00:00,  3.14it/s]\n"
          ],
          "name": "stderr"
        },
        {
          "output_type": "stream",
          "text": [
            "Computing accuracy\n",
            "Test set accuracy (Precision@1) = 0.6791443850267379\n"
          ],
          "name": "stdout"
        },
        {
          "output_type": "stream",
          "text": [
            "\n",
            "\n",
            "  0%|          | 0/7 [00:00<?, ?it/s]\u001b[A\u001b[A"
          ],
          "name": "stderr"
        },
        {
          "output_type": "stream",
          "text": [
            "Epoch 9 Iteration 0: Loss = 0.0, Number of mined triplets = 227295\n"
          ],
          "name": "stdout"
        },
        {
          "output_type": "stream",
          "text": [
            "\n",
            "\n",
            " 14%|█▍        | 1/7 [00:02<00:12,  2.11s/it]\u001b[A\u001b[A\n",
            "\n",
            " 43%|████▎     | 3/7 [00:02<00:05,  1.49s/it]\u001b[A\u001b[A\n",
            "\n",
            "100%|██████████| 7/7 [00:03<00:00,  2.23it/s]\n",
            "\n",
            "\n",
            "  0%|          | 0/12 [00:00<?, ?it/s]\u001b[A\u001b[A\n",
            "\n",
            "  8%|▊         | 1/12 [00:02<00:28,  2.56s/it]\u001b[A\u001b[A\n",
            "\n",
            " 17%|█▋        | 2/12 [00:02<00:18,  1.82s/it]\u001b[A\u001b[A\n",
            "\n",
            " 42%|████▏     | 5/12 [00:02<00:09,  1.29s/it]\u001b[A\u001b[A\n",
            "\n",
            " 67%|██████▋   | 8/12 [00:02<00:03,  1.09it/s]\u001b[A\u001b[A\n",
            "\n",
            "100%|██████████| 12/12 [00:03<00:00,  3.12it/s]\n"
          ],
          "name": "stderr"
        },
        {
          "output_type": "stream",
          "text": [
            "Computing accuracy\n",
            "Test set accuracy (Precision@1) = 0.6978609625668449\n"
          ],
          "name": "stdout"
        },
        {
          "output_type": "stream",
          "text": [
            "\n",
            "\n",
            "  0%|          | 0/7 [00:00<?, ?it/s]\u001b[A\u001b[A"
          ],
          "name": "stderr"
        },
        {
          "output_type": "stream",
          "text": [
            "Epoch 10 Iteration 0: Loss = 0.0, Number of mined triplets = 224766\n"
          ],
          "name": "stdout"
        },
        {
          "output_type": "stream",
          "text": [
            "\n",
            "\n",
            " 14%|█▍        | 1/7 [00:02<00:12,  2.11s/it]\u001b[A\u001b[A\n",
            "\n",
            " 43%|████▎     | 3/7 [00:02<00:05,  1.49s/it]\u001b[A\u001b[A\n",
            "\n",
            "100%|██████████| 7/7 [00:03<00:00,  2.21it/s]\n",
            "\n",
            "\n",
            "  0%|          | 0/12 [00:00<?, ?it/s]\u001b[A\u001b[A\n",
            "\n",
            "  8%|▊         | 1/12 [00:02<00:28,  2.57s/it]\u001b[A\u001b[A\n",
            "\n",
            " 25%|██▌       | 3/12 [00:02<00:16,  1.82s/it]\u001b[A\u001b[A\n",
            "\n",
            " 42%|████▏     | 5/12 [00:02<00:09,  1.29s/it]\u001b[A\u001b[A\n",
            "\n",
            " 67%|██████▋   | 8/12 [00:02<00:03,  1.09it/s]\u001b[A\u001b[A\n",
            "\n",
            "100%|██████████| 12/12 [00:03<00:00,  3.14it/s]\n"
          ],
          "name": "stderr"
        },
        {
          "output_type": "stream",
          "text": [
            "Computing accuracy\n",
            "Test set accuracy (Precision@1) = 0.7005347593582887\n"
          ],
          "name": "stdout"
        },
        {
          "output_type": "stream",
          "text": [
            "\n",
            "\n",
            "  0%|          | 0/7 [00:00<?, ?it/s]\u001b[A\u001b[A"
          ],
          "name": "stderr"
        },
        {
          "output_type": "stream",
          "text": [
            "Epoch 11 Iteration 0: Loss = 0.0, Number of mined triplets = 224359\n"
          ],
          "name": "stdout"
        },
        {
          "output_type": "stream",
          "text": [
            "\n",
            "\n",
            " 14%|█▍        | 1/7 [00:02<00:12,  2.06s/it]\u001b[A\u001b[A\n",
            "\n",
            " 29%|██▊       | 2/7 [00:02<00:07,  1.47s/it]\u001b[A\u001b[A\n",
            "\n",
            " 57%|█████▋    | 4/7 [00:02<00:03,  1.05s/it]\u001b[A\u001b[A\n",
            "\n",
            "100%|██████████| 7/7 [00:03<00:00,  2.22it/s]\n",
            "\n",
            "\n",
            "  0%|          | 0/12 [00:00<?, ?it/s]\u001b[A\u001b[A\n",
            "\n",
            "  8%|▊         | 1/12 [00:02<00:28,  2.55s/it]\u001b[A\u001b[A\n",
            "\n",
            " 17%|█▋        | 2/12 [00:02<00:18,  1.82s/it]\u001b[A\u001b[A\n",
            "\n",
            " 42%|████▏     | 5/12 [00:02<00:08,  1.28s/it]\u001b[A\u001b[A\n",
            "\n",
            " 67%|██████▋   | 8/12 [00:02<00:03,  1.10it/s]\u001b[A\u001b[A\n",
            "\n",
            "100%|██████████| 12/12 [00:03<00:00,  3.15it/s]\n"
          ],
          "name": "stderr"
        },
        {
          "output_type": "stream",
          "text": [
            "Computing accuracy\n",
            "Test set accuracy (Precision@1) = 0.7192513368983957\n"
          ],
          "name": "stdout"
        },
        {
          "output_type": "stream",
          "text": [
            "\n",
            "\n",
            "  0%|          | 0/7 [00:00<?, ?it/s]\u001b[A\u001b[A"
          ],
          "name": "stderr"
        },
        {
          "output_type": "stream",
          "text": [
            "Epoch 12 Iteration 0: Loss = 0.0, Number of mined triplets = 223834\n"
          ],
          "name": "stdout"
        },
        {
          "output_type": "stream",
          "text": [
            "\n",
            "\n",
            " 14%|█▍        | 1/7 [00:02<00:12,  2.06s/it]\u001b[A\u001b[A\n",
            "\n",
            " 43%|████▎     | 3/7 [00:02<00:05,  1.46s/it]\u001b[A\u001b[A\n",
            "\n",
            "100%|██████████| 7/7 [00:03<00:00,  2.25it/s]\n",
            "\n",
            "\n",
            "  0%|          | 0/12 [00:00<?, ?it/s]\u001b[A\u001b[A\n",
            "\n",
            "  8%|▊         | 1/12 [00:02<00:28,  2.61s/it]\u001b[A\u001b[A\n",
            "\n",
            " 25%|██▌       | 3/12 [00:02<00:16,  1.84s/it]\u001b[A\u001b[A\n",
            "\n",
            " 50%|█████     | 6/12 [00:02<00:07,  1.30s/it]\u001b[A\u001b[A\n",
            "\n",
            " 75%|███████▌  | 9/12 [00:02<00:02,  1.08it/s]\u001b[A\u001b[A\n",
            "\n",
            "100%|██████████| 12/12 [00:03<00:00,  3.10it/s]\n"
          ],
          "name": "stderr"
        },
        {
          "output_type": "stream",
          "text": [
            "Computing accuracy\n",
            "Test set accuracy (Precision@1) = 0.7032085561497325\n"
          ],
          "name": "stdout"
        },
        {
          "output_type": "stream",
          "text": [
            "\n",
            "\n",
            "  0%|          | 0/7 [00:00<?, ?it/s]\u001b[A\u001b[A"
          ],
          "name": "stderr"
        },
        {
          "output_type": "stream",
          "text": [
            "Epoch 13 Iteration 0: Loss = 0.0, Number of mined triplets = 225919\n"
          ],
          "name": "stdout"
        },
        {
          "output_type": "stream",
          "text": [
            "\n",
            "\n",
            " 14%|█▍        | 1/7 [00:02<00:13,  2.18s/it]\u001b[A\u001b[A\n",
            "\n",
            " 43%|████▎     | 3/7 [00:02<00:06,  1.55s/it]\u001b[A\u001b[A\n",
            "\n",
            "100%|██████████| 7/7 [00:03<00:00,  2.09it/s]\n",
            "\n",
            "\n",
            "  0%|          | 0/12 [00:00<?, ?it/s]\u001b[A\u001b[A\n",
            "\n",
            "  8%|▊         | 1/12 [00:02<00:29,  2.67s/it]\u001b[A\u001b[A\n",
            "\n",
            " 25%|██▌       | 3/12 [00:02<00:17,  1.89s/it]\u001b[A\u001b[A\n",
            "\n",
            " 50%|█████     | 6/12 [00:02<00:08,  1.34s/it]\u001b[A\u001b[A\n",
            "\n",
            " 75%|███████▌  | 9/12 [00:03<00:02,  1.05it/s]\u001b[A\u001b[A\n",
            "\n",
            "100%|██████████| 12/12 [00:04<00:00,  2.98it/s]\n"
          ],
          "name": "stderr"
        },
        {
          "output_type": "stream",
          "text": [
            "Computing accuracy\n",
            "Test set accuracy (Precision@1) = 0.6791443850267379\n"
          ],
          "name": "stdout"
        },
        {
          "output_type": "stream",
          "text": [
            "\n",
            "\n",
            "  0%|          | 0/7 [00:00<?, ?it/s]\u001b[A\u001b[A"
          ],
          "name": "stderr"
        },
        {
          "output_type": "stream",
          "text": [
            "Epoch 14 Iteration 0: Loss = 0.0, Number of mined triplets = 223999\n"
          ],
          "name": "stdout"
        },
        {
          "output_type": "stream",
          "text": [
            "\n",
            "\n",
            " 14%|█▍        | 1/7 [00:02<00:12,  2.17s/it]\u001b[A\u001b[A\n",
            "\n",
            " 43%|████▎     | 3/7 [00:02<00:06,  1.54s/it]\u001b[A\u001b[A\n",
            "\n",
            "100%|██████████| 7/7 [00:03<00:00,  2.13it/s]\n",
            "\n",
            "\n",
            "  0%|          | 0/12 [00:00<?, ?it/s]\u001b[A\u001b[A\n",
            "\n",
            "  8%|▊         | 1/12 [00:02<00:26,  2.37s/it]\u001b[A\u001b[A\n",
            "\n",
            " 17%|█▋        | 2/12 [00:02<00:17,  1.79s/it]\u001b[A\u001b[A\n",
            "\n",
            " 33%|███▎      | 4/12 [00:02<00:10,  1.27s/it]\u001b[A\u001b[A\n",
            "\n",
            " 50%|█████     | 6/12 [00:03<00:05,  1.11it/s]\u001b[A\u001b[A\n",
            "\n",
            " 75%|███████▌  | 9/12 [00:03<00:01,  1.56it/s]\u001b[A\u001b[A\n",
            "\n",
            "100%|██████████| 12/12 [00:04<00:00,  2.97it/s]\n"
          ],
          "name": "stderr"
        },
        {
          "output_type": "stream",
          "text": [
            "Computing accuracy\n",
            "Test set accuracy (Precision@1) = 0.7112299465240641\n"
          ],
          "name": "stdout"
        },
        {
          "output_type": "stream",
          "text": [
            "\n",
            "\n",
            "  0%|          | 0/7 [00:00<?, ?it/s]\u001b[A\u001b[A"
          ],
          "name": "stderr"
        },
        {
          "output_type": "stream",
          "text": [
            "Epoch 15 Iteration 0: Loss = 0.0, Number of mined triplets = 230354\n"
          ],
          "name": "stdout"
        },
        {
          "output_type": "stream",
          "text": [
            "\n",
            "\n",
            " 14%|█▍        | 1/7 [00:02<00:13,  2.23s/it]\u001b[A\u001b[A\n",
            "\n",
            " 43%|████▎     | 3/7 [00:02<00:06,  1.57s/it]\u001b[A\u001b[A\n",
            "\n",
            "100%|██████████| 7/7 [00:03<00:00,  2.10it/s]\n",
            "\n",
            "\n",
            "  0%|          | 0/12 [00:00<?, ?it/s]\u001b[A\u001b[A\n",
            "\n",
            "  8%|▊         | 1/12 [00:02<00:29,  2.64s/it]\u001b[A\u001b[A\n",
            "\n",
            " 25%|██▌       | 3/12 [00:02<00:16,  1.86s/it]\u001b[A\u001b[A\n",
            "\n",
            " 42%|████▏     | 5/12 [00:02<00:09,  1.32s/it]\u001b[A\u001b[A\n",
            "\n",
            " 67%|██████▋   | 8/12 [00:02<00:03,  1.07it/s]\u001b[A\u001b[A\n",
            "\n",
            "100%|██████████| 12/12 [00:03<00:00,  3.10it/s]\n"
          ],
          "name": "stderr"
        },
        {
          "output_type": "stream",
          "text": [
            "Computing accuracy\n",
            "Test set accuracy (Precision@1) = 0.7272727272727272\n"
          ],
          "name": "stdout"
        },
        {
          "output_type": "stream",
          "text": [
            "\n",
            "\n",
            "  0%|          | 0/7 [00:00<?, ?it/s]\u001b[A\u001b[A"
          ],
          "name": "stderr"
        },
        {
          "output_type": "stream",
          "text": [
            "Epoch 16 Iteration 0: Loss = 0.0, Number of mined triplets = 231192\n"
          ],
          "name": "stdout"
        },
        {
          "output_type": "stream",
          "text": [
            "Exception ignored in: <function _MultiProcessingDataLoaderIter.__del__ at 0x7f4eb45eeef0>\n",
            "Traceback (most recent call last):\n",
            "  File \"/usr/local/lib/python3.7/dist-packages/torch/utils/data/dataloader.py\", line 1328, in __del__\n",
            "    self._shutdown_workers()\n",
            "  File \"/usr/local/lib/python3.7/dist-packages/torch/utils/data/dataloader.py\", line 1320, in _shutdown_workers\n",
            "Exception ignored in: <function _MultiProcessingDataLoaderIter.__del__ at 0x7f4eb45eeef0>\n",
            "Traceback (most recent call last):\n",
            "    if w.is_alive():\n",
            "  File \"/usr/local/lib/python3.7/dist-packages/torch/utils/data/dataloader.py\", line 1328, in __del__\n",
            "  File \"/usr/lib/python3.7/multiprocessing/process.py\", line 151, in is_alive\n",
            "    self._shutdown_workers()\n",
            "    assert self._parent_pid == os.getpid(), 'can only test a child process'\n",
            "Exception ignored in: <function _MultiProcessingDataLoaderIter.__del__ at 0x7f4eb45eeef0>\n",
            "Traceback (most recent call last):\n",
            "  File \"/usr/lib/python3.7/multiprocessing/queues.py\", line 242, in _feed\n",
            "    send_bytes(obj)\n",
            "  File \"/usr/lib/python3.7/multiprocessing/connection.py\", line 200, in send_bytes\n",
            "    self._send_bytes(m[offset:offset + size])\n",
            "  File \"/usr/lib/python3.7/multiprocessing/connection.py\", line 404, in _send_bytes\n",
            "    self._send(header + buf)\n",
            "  File \"/usr/lib/python3.7/multiprocessing/connection.py\", line 368, in _send\n",
            "    n = write(self._handle, buf)\n",
            "OSError: [Errno 9] Bad file descriptor\n",
            "Traceback (most recent call last):\n",
            "  File \"/usr/lib/python3.7/multiprocessing/queues.py\", line 232, in _feed\n",
            "    close()\n",
            "  File \"/usr/lib/python3.7/multiprocessing/connection.py\", line 177, in close\n",
            "    self._close()\n",
            "  File \"/usr/lib/python3.7/multiprocessing/connection.py\", line 361, in _close\n",
            "    _close(self._handle)\n",
            "OSError: [Errno 9] Bad file descriptor\n",
            "Traceback (most recent call last):\n",
            "Exception ignored in: <function _MultiProcessingDataLoaderIter.__del__ at 0x7f4eb45eeef0>\n",
            "AssertionError: can only test a child process\n",
            "  File \"/usr/local/lib/python3.7/dist-packages/torch/utils/data/dataloader.py\", line 1320, in _shutdown_workers\n",
            "Exception ignored in: <function _MultiProcessingDataLoaderIter.__del__ at 0x7f4eb45eeef0>\n",
            "Traceback (most recent call last):\n",
            "Traceback (most recent call last):\n",
            "    if w.is_alive():\n",
            "  File \"/usr/local/lib/python3.7/dist-packages/torch/utils/data/dataloader.py\", line 1328, in __del__\n",
            "  File \"/usr/local/lib/python3.7/dist-packages/torch/utils/data/dataloader.py\", line 1328, in __del__\n",
            "    self._shutdown_workers()\n",
            "    self._shutdown_workers()\n",
            "  File \"/usr/local/lib/python3.7/dist-packages/torch/utils/data/dataloader.py\", line 1320, in _shutdown_workers\n",
            "  File \"/usr/local/lib/python3.7/dist-packages/torch/utils/data/dataloader.py\", line 1320, in _shutdown_workers\n",
            "    if w.is_alive():\n",
            "  File \"/usr/local/lib/python3.7/dist-packages/torch/utils/data/dataloader.py\", line 1328, in __del__\n",
            "    if w.is_alive():\n",
            "    self._shutdown_workers()\n",
            "  File \"/usr/lib/python3.7/multiprocessing/process.py\", line 151, in is_alive\n",
            "    assert self._parent_pid == os.getpid(), 'can only test a child process'\n",
            "  File \"/usr/local/lib/python3.7/dist-packages/torch/utils/data/dataloader.py\", line 1320, in _shutdown_workers\n",
            "  File \"/usr/lib/python3.7/multiprocessing/process.py\", line 151, in is_alive\n",
            "  File \"/usr/lib/python3.7/multiprocessing/process.py\", line 151, in is_alive\n",
            "    assert self._parent_pid == os.getpid(), 'can only test a child process'\n",
            "    if w.is_alive():\n",
            "AssertionError: can only test a child process\n",
            "    assert self._parent_pid == os.getpid(), 'can only test a child process'\n",
            "AssertionError: can only test a child process\n",
            "  File \"/usr/lib/python3.7/multiprocessing/process.py\", line 151, in is_alive\n",
            "AssertionError: can only test a child process\n",
            "    assert self._parent_pid == os.getpid(), 'can only test a child process'\n",
            "AssertionError: can only test a child process\n",
            "\n",
            "\n",
            " 14%|█▍        | 1/7 [00:02<00:16,  2.71s/it]\u001b[A\u001b[A\n",
            "\n",
            " 29%|██▊       | 2/7 [00:02<00:09,  1.93s/it]\u001b[A\u001b[A\n",
            "\n",
            " 57%|█████▋    | 4/7 [00:02<00:04,  1.37s/it]\u001b[A\u001b[A\n",
            "\n",
            "100%|██████████| 7/7 [00:03<00:00,  1.81it/s]\n",
            "\n",
            "\n",
            "  0%|          | 0/12 [00:00<?, ?it/s]\u001b[A\u001b[A\n",
            "\n",
            "  8%|▊         | 1/12 [00:02<00:28,  2.57s/it]\u001b[A\u001b[A\n",
            "\n",
            " 25%|██▌       | 3/12 [00:02<00:16,  1.82s/it]\u001b[A\u001b[A\n",
            "\n",
            " 42%|████▏     | 5/12 [00:02<00:09,  1.29s/it]\u001b[A\u001b[A\n",
            "\n",
            " 67%|██████▋   | 8/12 [00:02<00:03,  1.09it/s]\u001b[A\u001b[A\n",
            "\n",
            "100%|██████████| 12/12 [00:03<00:00,  3.12it/s]\n"
          ],
          "name": "stderr"
        },
        {
          "output_type": "stream",
          "text": [
            "Computing accuracy\n",
            "Test set accuracy (Precision@1) = 0.6978609625668449\n"
          ],
          "name": "stdout"
        },
        {
          "output_type": "stream",
          "text": [
            "\n",
            "\n",
            "  0%|          | 0/7 [00:00<?, ?it/s]\u001b[A\u001b[A"
          ],
          "name": "stderr"
        },
        {
          "output_type": "stream",
          "text": [
            "Epoch 17 Iteration 0: Loss = 0.0, Number of mined triplets = 229000\n"
          ],
          "name": "stdout"
        },
        {
          "output_type": "stream",
          "text": [
            "\n",
            "\n",
            " 14%|█▍        | 1/7 [00:02<00:12,  2.13s/it]\u001b[A\u001b[A\n",
            "\n",
            " 43%|████▎     | 3/7 [00:02<00:06,  1.51s/it]\u001b[A\u001b[A\n",
            "\n",
            "100%|██████████| 7/7 [00:03<00:00,  2.20it/s]\n",
            "\n",
            "\n",
            "  0%|          | 0/12 [00:00<?, ?it/s]\u001b[A\u001b[A\n",
            "\n",
            "  8%|▊         | 1/12 [00:02<00:28,  2.59s/it]\u001b[A\u001b[A\n",
            "\n",
            " 25%|██▌       | 3/12 [00:02<00:16,  1.83s/it]\u001b[A\u001b[A\n",
            "\n",
            " 50%|█████     | 6/12 [00:02<00:07,  1.30s/it]\u001b[A\u001b[A\n",
            "\n",
            " 75%|███████▌  | 9/12 [00:02<00:02,  1.09it/s]\u001b[A\u001b[A\n",
            "\n",
            "100%|██████████| 12/12 [00:03<00:00,  3.14it/s]\n"
          ],
          "name": "stderr"
        },
        {
          "output_type": "stream",
          "text": [
            "Computing accuracy\n",
            "Test set accuracy (Precision@1) = 0.6951871657754011\n"
          ],
          "name": "stdout"
        },
        {
          "output_type": "stream",
          "text": [
            "\n",
            "\n",
            "  0%|          | 0/7 [00:00<?, ?it/s]\u001b[A\u001b[A"
          ],
          "name": "stderr"
        },
        {
          "output_type": "stream",
          "text": [
            "Epoch 18 Iteration 0: Loss = 0.0, Number of mined triplets = 223951\n"
          ],
          "name": "stdout"
        },
        {
          "output_type": "stream",
          "text": [
            "\n",
            "\n",
            " 14%|█▍        | 1/7 [00:02<00:12,  2.14s/it]\u001b[A\u001b[A\n",
            "\n",
            " 43%|████▎     | 3/7 [00:02<00:06,  1.52s/it]\u001b[A\u001b[A\n",
            "\n",
            "100%|██████████| 7/7 [00:03<00:00,  2.18it/s]\n",
            "\n",
            "\n",
            "  0%|          | 0/12 [00:00<?, ?it/s]\u001b[A\u001b[A\n",
            "\n",
            "  8%|▊         | 1/12 [00:02<00:28,  2.60s/it]\u001b[A\u001b[A\n",
            "\n",
            " 25%|██▌       | 3/12 [00:02<00:16,  1.83s/it]\u001b[A\u001b[A\n",
            "\n",
            " 42%|████▏     | 5/12 [00:02<00:09,  1.30s/it]\u001b[A\u001b[A\n",
            "\n",
            " 67%|██████▋   | 8/12 [00:02<00:03,  1.08it/s]\u001b[A\u001b[A\n",
            "\n",
            "100%|██████████| 12/12 [00:03<00:00,  3.14it/s]\n"
          ],
          "name": "stderr"
        },
        {
          "output_type": "stream",
          "text": [
            "Computing accuracy\n",
            "Test set accuracy (Precision@1) = 0.7192513368983957\n"
          ],
          "name": "stdout"
        },
        {
          "output_type": "stream",
          "text": [
            "\n",
            "\n",
            "  0%|          | 0/7 [00:00<?, ?it/s]\u001b[A\u001b[A"
          ],
          "name": "stderr"
        },
        {
          "output_type": "stream",
          "text": [
            "Epoch 19 Iteration 0: Loss = 0.0, Number of mined triplets = 225498\n"
          ],
          "name": "stdout"
        },
        {
          "output_type": "stream",
          "text": [
            "\n",
            "\n",
            " 14%|█▍        | 1/7 [00:02<00:12,  2.13s/it]\u001b[A\u001b[A\n",
            "\n",
            " 43%|████▎     | 3/7 [00:02<00:06,  1.51s/it]\u001b[A\u001b[A\n",
            "\n",
            "100%|██████████| 7/7 [00:03<00:00,  2.21it/s]\n",
            "\n",
            "\n",
            "  0%|          | 0/12 [00:00<?, ?it/s]\u001b[A\u001b[A\n",
            "\n",
            "  8%|▊         | 1/12 [00:02<00:28,  2.56s/it]\u001b[A\u001b[A\n",
            "\n",
            " 25%|██▌       | 3/12 [00:02<00:16,  1.82s/it]\u001b[A\u001b[A\n",
            "\n",
            " 50%|█████     | 6/12 [00:02<00:07,  1.28s/it]\u001b[A\u001b[A\n",
            "\n",
            " 75%|███████▌  | 9/12 [00:02<00:02,  1.10it/s]\u001b[A\u001b[A\n",
            "\n",
            "100%|██████████| 12/12 [00:03<00:00,  3.13it/s]\n"
          ],
          "name": "stderr"
        },
        {
          "output_type": "stream",
          "text": [
            "Computing accuracy\n",
            "Test set accuracy (Precision@1) = 0.7085561497326203\n"
          ],
          "name": "stdout"
        },
        {
          "output_type": "stream",
          "text": [
            "\n",
            "\n",
            "  0%|          | 0/7 [00:00<?, ?it/s]\u001b[A\u001b[A"
          ],
          "name": "stderr"
        },
        {
          "output_type": "stream",
          "text": [
            "Epoch 20 Iteration 0: Loss = 0.0, Number of mined triplets = 227098\n"
          ],
          "name": "stdout"
        },
        {
          "output_type": "stream",
          "text": [
            "\n",
            "\n",
            " 14%|█▍        | 1/7 [00:02<00:14,  2.33s/it]\u001b[A\u001b[A\n",
            "\n",
            " 43%|████▎     | 3/7 [00:02<00:06,  1.65s/it]\u001b[A\u001b[A\n",
            "\n",
            "100%|██████████| 7/7 [00:03<00:00,  2.03it/s]\n",
            "\n",
            "\n",
            "  0%|          | 0/12 [00:00<?, ?it/s]\u001b[A\u001b[A\n",
            "\n",
            "  8%|▊         | 1/12 [00:02<00:29,  2.71s/it]\u001b[A\u001b[A\n",
            "\n",
            " 25%|██▌       | 3/12 [00:02<00:17,  1.92s/it]\u001b[A\u001b[A\n",
            "\n",
            " 50%|█████     | 6/12 [00:03<00:08,  1.36s/it]\u001b[A\u001b[A\n",
            "\n",
            " 75%|███████▌  | 9/12 [00:03<00:02,  1.04it/s]\u001b[A\u001b[A\n",
            "\n",
            "100%|██████████| 12/12 [00:04<00:00,  2.96it/s]\n"
          ],
          "name": "stderr"
        },
        {
          "output_type": "stream",
          "text": [
            "Computing accuracy\n",
            "Test set accuracy (Precision@1) = 0.7406417112299465\n"
          ],
          "name": "stdout"
        },
        {
          "output_type": "stream",
          "text": [
            "\n",
            "\n",
            "  0%|          | 0/7 [00:00<?, ?it/s]\u001b[A\u001b[A"
          ],
          "name": "stderr"
        },
        {
          "output_type": "stream",
          "text": [
            "Epoch 21 Iteration 0: Loss = 0.0, Number of mined triplets = 225060\n"
          ],
          "name": "stdout"
        },
        {
          "output_type": "stream",
          "text": [
            "\n",
            "\n",
            " 14%|█▍        | 1/7 [00:02<00:13,  2.31s/it]\u001b[A\u001b[A\n",
            "\n",
            " 43%|████▎     | 3/7 [00:02<00:06,  1.63s/it]\u001b[A\u001b[A\n",
            "\n",
            "100%|██████████| 7/7 [00:03<00:00,  2.03it/s]\n",
            "\n",
            "\n",
            "  0%|          | 0/12 [00:00<?, ?it/s]\u001b[A\u001b[A\n",
            "\n",
            "  8%|▊         | 1/12 [00:02<00:31,  2.84s/it]\u001b[A\u001b[A\n",
            "\n",
            " 25%|██▌       | 3/12 [00:02<00:18,  2.01s/it]\u001b[A\u001b[A\n",
            "\n",
            " 42%|████▏     | 5/12 [00:03<00:09,  1.42s/it]\u001b[A\u001b[A\n",
            "\n",
            " 67%|██████▋   | 8/12 [00:03<00:04,  1.01s/it]\u001b[A\u001b[A\n",
            "\n",
            "100%|██████████| 12/12 [00:04<00:00,  2.88it/s]\n"
          ],
          "name": "stderr"
        },
        {
          "output_type": "stream",
          "text": [
            "Computing accuracy\n",
            "Test set accuracy (Precision@1) = 0.6898395721925134\n"
          ],
          "name": "stdout"
        },
        {
          "output_type": "stream",
          "text": [
            "\n",
            "\n",
            "  0%|          | 0/7 [00:00<?, ?it/s]\u001b[A\u001b[A"
          ],
          "name": "stderr"
        },
        {
          "output_type": "stream",
          "text": [
            "Epoch 22 Iteration 0: Loss = 0.0, Number of mined triplets = 230996\n"
          ],
          "name": "stdout"
        },
        {
          "output_type": "stream",
          "text": [
            "\n",
            "\n",
            " 14%|█▍        | 1/7 [00:02<00:13,  2.33s/it]\u001b[A\u001b[A\n",
            "\n",
            " 43%|████▎     | 3/7 [00:02<00:06,  1.65s/it]\u001b[A\u001b[A\n",
            "\n",
            "100%|██████████| 7/7 [00:03<00:00,  2.03it/s]\n",
            "\n",
            "\n",
            "  0%|          | 0/12 [00:00<?, ?it/s]\u001b[A\u001b[A\n",
            "\n",
            "  8%|▊         | 1/12 [00:02<00:30,  2.74s/it]\u001b[A\u001b[A\n",
            "\n",
            " 25%|██▌       | 3/12 [00:02<00:17,  1.94s/it]\u001b[A\u001b[A\n",
            "\n",
            " 42%|████▏     | 5/12 [00:03<00:09,  1.38s/it]\u001b[A\u001b[A\n",
            "\n",
            " 67%|██████▋   | 8/12 [00:03<00:03,  1.02it/s]\u001b[A\u001b[A\n",
            "\n",
            "100%|██████████| 12/12 [00:04<00:00,  2.93it/s]\n"
          ],
          "name": "stderr"
        },
        {
          "output_type": "stream",
          "text": [
            "Computing accuracy\n",
            "Test set accuracy (Precision@1) = 0.6871657754010695\n"
          ],
          "name": "stdout"
        },
        {
          "output_type": "stream",
          "text": [
            "\n",
            "\n",
            "  0%|          | 0/7 [00:00<?, ?it/s]\u001b[A\u001b[A"
          ],
          "name": "stderr"
        },
        {
          "output_type": "stream",
          "text": [
            "Epoch 23 Iteration 0: Loss = 0.0, Number of mined triplets = 226557\n"
          ],
          "name": "stdout"
        },
        {
          "output_type": "stream",
          "text": [
            "\n",
            "\n",
            " 14%|█▍        | 1/7 [00:02<00:12,  2.17s/it]\u001b[A\u001b[A\n",
            "\n",
            " 43%|████▎     | 3/7 [00:02<00:06,  1.53s/it]\u001b[A\u001b[A\n",
            "\n",
            "100%|██████████| 7/7 [00:03<00:00,  2.16it/s]\n",
            "\n",
            "\n",
            "  0%|          | 0/12 [00:00<?, ?it/s]\u001b[A\u001b[A\n",
            "\n",
            "  8%|▊         | 1/12 [00:02<00:29,  2.72s/it]\u001b[A\u001b[A\n",
            "\n",
            " 25%|██▌       | 3/12 [00:02<00:17,  1.92s/it]\u001b[A\u001b[A\n",
            "\n",
            " 42%|████▏     | 5/12 [00:02<00:09,  1.36s/it]\u001b[A\u001b[A\n",
            "\n",
            " 67%|██████▋   | 8/12 [00:03<00:03,  1.04it/s]\u001b[A\u001b[A\n",
            "\n",
            "100%|██████████| 12/12 [00:03<00:00,  3.03it/s]\n"
          ],
          "name": "stderr"
        },
        {
          "output_type": "stream",
          "text": [
            "Computing accuracy\n",
            "Test set accuracy (Precision@1) = 0.7032085561497325\n"
          ],
          "name": "stdout"
        },
        {
          "output_type": "stream",
          "text": [
            "\n",
            "\n",
            "  0%|          | 0/7 [00:00<?, ?it/s]\u001b[A\u001b[A"
          ],
          "name": "stderr"
        },
        {
          "output_type": "stream",
          "text": [
            "Epoch 24 Iteration 0: Loss = 0.0, Number of mined triplets = 226125\n"
          ],
          "name": "stdout"
        },
        {
          "output_type": "stream",
          "text": [
            "\n",
            "\n",
            " 14%|█▍        | 1/7 [00:02<00:13,  2.21s/it]\u001b[A\u001b[A\n",
            "\n",
            " 43%|████▎     | 3/7 [00:02<00:06,  1.56s/it]\u001b[A\u001b[A\n",
            "\n",
            "100%|██████████| 7/7 [00:03<00:00,  2.15it/s]\n",
            "\n",
            "\n",
            "  0%|          | 0/12 [00:00<?, ?it/s]\u001b[A\u001b[A\n",
            "\n",
            "  8%|▊         | 1/12 [00:02<00:28,  2.56s/it]\u001b[A\u001b[A\n",
            "\n",
            " 17%|█▋        | 2/12 [00:02<00:18,  1.85s/it]\u001b[A\u001b[A\n",
            "\n",
            " 33%|███▎      | 4/12 [00:02<00:10,  1.31s/it]\u001b[A\u001b[A\n",
            "\n",
            " 58%|█████▊    | 7/12 [00:02<00:04,  1.07it/s]\u001b[A\u001b[A\n",
            "\n",
            "100%|██████████| 12/12 [00:03<00:00,  3.04it/s]\n"
          ],
          "name": "stderr"
        },
        {
          "output_type": "stream",
          "text": [
            "Computing accuracy\n",
            "Test set accuracy (Precision@1) = 0.6791443850267379\n"
          ],
          "name": "stdout"
        },
        {
          "output_type": "stream",
          "text": [
            "\n",
            "\n",
            "  0%|          | 0/7 [00:00<?, ?it/s]\u001b[A\u001b[A"
          ],
          "name": "stderr"
        },
        {
          "output_type": "stream",
          "text": [
            "Epoch 25 Iteration 0: Loss = 0.0, Number of mined triplets = 227240\n"
          ],
          "name": "stdout"
        },
        {
          "output_type": "stream",
          "text": [
            "\n",
            "\n",
            " 14%|█▍        | 1/7 [00:02<00:13,  2.18s/it]\u001b[A\u001b[A\n",
            "\n",
            " 43%|████▎     | 3/7 [00:02<00:06,  1.55s/it]\u001b[A\u001b[A\n",
            "\n",
            "100%|██████████| 7/7 [00:03<00:00,  2.14it/s]\n",
            "\n",
            "\n",
            "  0%|          | 0/12 [00:00<?, ?it/s]\u001b[A\u001b[A\n",
            "\n",
            "  8%|▊         | 1/12 [00:02<00:27,  2.51s/it]\u001b[A\u001b[A\n",
            "\n",
            " 17%|█▋        | 2/12 [00:02<00:18,  1.83s/it]\u001b[A\u001b[A\n",
            "\n",
            " 33%|███▎      | 4/12 [00:02<00:10,  1.30s/it]\u001b[A\u001b[A\n",
            "\n",
            " 50%|█████     | 6/12 [00:02<00:05,  1.08it/s]\u001b[A\u001b[A\n",
            "\n",
            " 75%|███████▌  | 9/12 [00:03<00:01,  1.52it/s]\u001b[A\u001b[A\n",
            "\n",
            "100%|██████████| 12/12 [00:04<00:00,  3.00it/s]\n"
          ],
          "name": "stderr"
        },
        {
          "output_type": "stream",
          "text": [
            "Computing accuracy\n",
            "Test set accuracy (Precision@1) = 0.7005347593582887\n"
          ],
          "name": "stdout"
        },
        {
          "output_type": "stream",
          "text": [
            "\n",
            "\n",
            "  0%|          | 0/7 [00:00<?, ?it/s]\u001b[A\u001b[A"
          ],
          "name": "stderr"
        },
        {
          "output_type": "stream",
          "text": [
            "Epoch 26 Iteration 0: Loss = 0.0, Number of mined triplets = 232479\n"
          ],
          "name": "stdout"
        },
        {
          "output_type": "stream",
          "text": [
            "\n",
            "\n",
            " 14%|█▍        | 1/7 [00:02<00:13,  2.21s/it]\u001b[A\u001b[A\n",
            "\n",
            " 43%|████▎     | 3/7 [00:02<00:06,  1.56s/it]\u001b[A\u001b[A\n",
            "\n",
            "100%|██████████| 7/7 [00:03<00:00,  2.12it/s]\n",
            "\n",
            "\n",
            "  0%|          | 0/12 [00:00<?, ?it/s]\u001b[A\u001b[A\n",
            "\n",
            "  8%|▊         | 1/12 [00:02<00:27,  2.50s/it]\u001b[A\u001b[A\n",
            "\n",
            " 17%|█▋        | 2/12 [00:02<00:18,  1.82s/it]\u001b[A\u001b[A\n",
            "\n",
            " 33%|███▎      | 4/12 [00:02<00:10,  1.29s/it]\u001b[A\u001b[A\n",
            "\n",
            " 50%|█████     | 6/12 [00:02<00:05,  1.09it/s]\u001b[A\u001b[A\n",
            "\n",
            " 75%|███████▌  | 9/12 [00:03<00:01,  1.52it/s]\u001b[A\u001b[A\n",
            "\n",
            "100%|██████████| 12/12 [00:03<00:00,  3.03it/s]\n"
          ],
          "name": "stderr"
        },
        {
          "output_type": "stream",
          "text": [
            "Computing accuracy\n",
            "Test set accuracy (Precision@1) = 0.6978609625668449\n"
          ],
          "name": "stdout"
        },
        {
          "output_type": "stream",
          "text": [
            "\n",
            "\n",
            "  0%|          | 0/7 [00:00<?, ?it/s]\u001b[A\u001b[A"
          ],
          "name": "stderr"
        },
        {
          "output_type": "stream",
          "text": [
            "Epoch 27 Iteration 0: Loss = 0.0, Number of mined triplets = 222233\n"
          ],
          "name": "stdout"
        },
        {
          "output_type": "stream",
          "text": [
            "\n",
            "\n",
            " 14%|█▍        | 1/7 [00:02<00:14,  2.37s/it]\u001b[A\u001b[A\n",
            "\n",
            " 43%|████▎     | 3/7 [00:02<00:06,  1.67s/it]\u001b[A\u001b[A\n",
            "\n",
            "100%|██████████| 7/7 [00:03<00:00,  2.02it/s]\n",
            "\n",
            "\n",
            "  0%|          | 0/12 [00:00<?, ?it/s]\u001b[A\u001b[A\n",
            "\n",
            "  8%|▊         | 1/12 [00:02<00:32,  2.91s/it]\u001b[A\u001b[A\n",
            "\n",
            " 25%|██▌       | 3/12 [00:03<00:18,  2.06s/it]\u001b[A\u001b[A\n",
            "\n",
            " 50%|█████     | 6/12 [00:03<00:08,  1.45s/it]\u001b[A\u001b[A\n",
            "\n",
            " 75%|███████▌  | 9/12 [00:03<00:03,  1.03s/it]\u001b[A\u001b[A\n",
            "\n",
            "100%|██████████| 12/12 [00:04<00:00,  2.87it/s]\n"
          ],
          "name": "stderr"
        },
        {
          "output_type": "stream",
          "text": [
            "Computing accuracy\n",
            "Test set accuracy (Precision@1) = 0.7085561497326203\n"
          ],
          "name": "stdout"
        },
        {
          "output_type": "stream",
          "text": [
            "\n",
            "\n",
            "  0%|          | 0/7 [00:00<?, ?it/s]\u001b[A\u001b[A"
          ],
          "name": "stderr"
        },
        {
          "output_type": "stream",
          "text": [
            "Epoch 28 Iteration 0: Loss = 0.0, Number of mined triplets = 229568\n"
          ],
          "name": "stdout"
        },
        {
          "output_type": "stream",
          "text": [
            "\n",
            "\n",
            " 14%|█▍        | 1/7 [00:02<00:14,  2.36s/it]\u001b[A\u001b[A\n",
            "\n",
            " 43%|████▎     | 3/7 [00:02<00:06,  1.67s/it]\u001b[A\u001b[A\n",
            "\n",
            "100%|██████████| 7/7 [00:03<00:00,  2.02it/s]\n",
            "\n",
            "\n",
            "  0%|          | 0/12 [00:00<?, ?it/s]\u001b[A\u001b[A\n",
            "\n",
            "  8%|▊         | 1/12 [00:02<00:30,  2.75s/it]\u001b[A\u001b[A\n",
            "\n",
            " 17%|█▋        | 2/12 [00:02<00:19,  1.98s/it]\u001b[A\u001b[A\n",
            "\n",
            " 33%|███▎      | 4/12 [00:03<00:11,  1.40s/it]\u001b[A\u001b[A\n",
            "\n",
            " 58%|█████▊    | 7/12 [00:03<00:04,  1.00it/s]\u001b[A\u001b[A\n",
            "\n",
            "100%|██████████| 12/12 [00:04<00:00,  2.87it/s]\n"
          ],
          "name": "stderr"
        },
        {
          "output_type": "stream",
          "text": [
            "Computing accuracy\n",
            "Test set accuracy (Precision@1) = 0.7219251336898396\n"
          ],
          "name": "stdout"
        },
        {
          "output_type": "stream",
          "text": [
            "\n",
            "\n",
            "  0%|          | 0/7 [00:00<?, ?it/s]\u001b[A\u001b[A"
          ],
          "name": "stderr"
        },
        {
          "output_type": "stream",
          "text": [
            "Epoch 29 Iteration 0: Loss = 0.0, Number of mined triplets = 227374\n"
          ],
          "name": "stdout"
        },
        {
          "output_type": "stream",
          "text": [
            "\n",
            "\n",
            " 14%|█▍        | 1/7 [00:02<00:14,  2.41s/it]\u001b[A\u001b[A\n",
            "\n",
            " 43%|████▎     | 3/7 [00:02<00:06,  1.70s/it]\u001b[A\u001b[A\n",
            "\n",
            "100%|██████████| 7/7 [00:03<00:00,  1.99it/s]\n",
            "\n",
            "\n",
            "  0%|          | 0/12 [00:00<?, ?it/s]\u001b[A\u001b[A\n",
            "\n",
            "  8%|▊         | 1/12 [00:02<00:31,  2.83s/it]\u001b[A\u001b[A\n",
            "\n",
            " 25%|██▌       | 3/12 [00:02<00:18,  2.00s/it]\u001b[A\u001b[A\n",
            "\n",
            " 50%|█████     | 6/12 [00:03<00:08,  1.41s/it]\u001b[A\u001b[A\n",
            "\n",
            " 75%|███████▌  | 9/12 [00:03<00:03,  1.00s/it]\u001b[A\u001b[A\n",
            "\n",
            "100%|██████████| 12/12 [00:04<00:00,  2.91it/s]\n"
          ],
          "name": "stderr"
        },
        {
          "output_type": "stream",
          "text": [
            "Computing accuracy\n",
            "Test set accuracy (Precision@1) = 0.6844919786096256\n"
          ],
          "name": "stdout"
        },
        {
          "output_type": "stream",
          "text": [
            "\n",
            "\n",
            "  0%|          | 0/7 [00:00<?, ?it/s]\u001b[A\u001b[A"
          ],
          "name": "stderr"
        },
        {
          "output_type": "stream",
          "text": [
            "Epoch 30 Iteration 0: Loss = 0.0, Number of mined triplets = 225341\n"
          ],
          "name": "stdout"
        },
        {
          "output_type": "stream",
          "text": [
            "\n",
            "\n",
            " 14%|█▍        | 1/7 [00:02<00:13,  2.29s/it]\u001b[A\u001b[A\n",
            "\n",
            " 43%|████▎     | 3/7 [00:02<00:06,  1.62s/it]\u001b[A\u001b[A\n",
            "\n",
            "100%|██████████| 7/7 [00:03<00:00,  2.09it/s]\n",
            "\n",
            "\n",
            "  0%|          | 0/12 [00:00<?, ?it/s]\u001b[A\u001b[A\n",
            "\n",
            "  8%|▊         | 1/12 [00:02<00:31,  2.83s/it]\u001b[A\u001b[A\n",
            "\n",
            " 25%|██▌       | 3/12 [00:02<00:17,  2.00s/it]\u001b[A\u001b[A\n",
            "\n",
            " 50%|█████     | 6/12 [00:03<00:08,  1.41s/it]\u001b[A\u001b[A\n",
            "\n",
            " 75%|███████▌  | 9/12 [00:03<00:03,  1.00s/it]\u001b[A\u001b[A\n",
            "\n",
            "100%|██████████| 12/12 [00:04<00:00,  2.95it/s]\n"
          ],
          "name": "stderr"
        },
        {
          "output_type": "stream",
          "text": [
            "Computing accuracy\n",
            "Test set accuracy (Precision@1) = 0.713903743315508\n"
          ],
          "name": "stdout"
        },
        {
          "output_type": "stream",
          "text": [
            "\n",
            "\n",
            "  0%|          | 0/7 [00:00<?, ?it/s]\u001b[A\u001b[A"
          ],
          "name": "stderr"
        },
        {
          "output_type": "stream",
          "text": [
            "Epoch 31 Iteration 0: Loss = 0.0, Number of mined triplets = 227853\n"
          ],
          "name": "stdout"
        },
        {
          "output_type": "stream",
          "text": [
            "\n",
            "\n",
            " 14%|█▍        | 1/7 [00:02<00:13,  2.26s/it]\u001b[A\u001b[A\n",
            "\n",
            " 43%|████▎     | 3/7 [00:02<00:06,  1.60s/it]\u001b[A\u001b[A\n",
            "\n",
            "100%|██████████| 7/7 [00:03<00:00,  2.11it/s]\n",
            "\n",
            "\n",
            "  0%|          | 0/12 [00:00<?, ?it/s]\u001b[A\u001b[A\n",
            "\n",
            "  8%|▊         | 1/12 [00:02<00:30,  2.77s/it]\u001b[A\u001b[A\n",
            "\n",
            " 25%|██▌       | 3/12 [00:02<00:17,  1.95s/it]\u001b[A\u001b[A\n",
            "\n",
            " 50%|█████     | 6/12 [00:03<00:08,  1.38s/it]\u001b[A\u001b[A\n",
            "\n",
            " 75%|███████▌  | 9/12 [00:03<00:02,  1.02it/s]\u001b[A\u001b[A\n",
            "\n",
            "100%|██████████| 12/12 [00:04<00:00,  2.99it/s]\n"
          ],
          "name": "stderr"
        },
        {
          "output_type": "stream",
          "text": [
            "Computing accuracy\n",
            "Test set accuracy (Precision@1) = 0.6925133689839572\n"
          ],
          "name": "stdout"
        },
        {
          "output_type": "stream",
          "text": [
            "\n",
            "\n",
            "  0%|          | 0/7 [00:00<?, ?it/s]\u001b[A\u001b[A"
          ],
          "name": "stderr"
        },
        {
          "output_type": "stream",
          "text": [
            "Epoch 32 Iteration 0: Loss = 0.0, Number of mined triplets = 228043\n"
          ],
          "name": "stdout"
        },
        {
          "output_type": "stream",
          "text": [
            "\n",
            "\n",
            " 14%|█▍        | 1/7 [00:02<00:13,  2.26s/it]\u001b[A\u001b[A\n",
            "\n",
            " 43%|████▎     | 3/7 [00:02<00:06,  1.60s/it]\u001b[A\u001b[A\n",
            "\n",
            "100%|██████████| 7/7 [00:03<00:00,  2.09it/s]\n",
            "\n",
            "\n",
            "  0%|          | 0/12 [00:00<?, ?it/s]\u001b[A\u001b[A\n",
            "\n",
            "  8%|▊         | 1/12 [00:02<00:27,  2.52s/it]\u001b[A\u001b[A\n",
            "\n",
            " 17%|█▋        | 2/12 [00:02<00:17,  1.80s/it]\u001b[A\u001b[A\n",
            "\n",
            " 25%|██▌       | 3/12 [00:02<00:11,  1.29s/it]\u001b[A\u001b[A\n",
            "\n",
            " 42%|████▏     | 5/12 [00:02<00:06,  1.08it/s]\u001b[A\u001b[A\n",
            "\n",
            " 58%|█████▊    | 7/12 [00:03<00:03,  1.50it/s]\u001b[A\u001b[A\n",
            "\n",
            "100%|██████████| 12/12 [00:03<00:00,  3.01it/s]\n"
          ],
          "name": "stderr"
        },
        {
          "output_type": "stream",
          "text": [
            "Computing accuracy\n",
            "Test set accuracy (Precision@1) = 0.6844919786096256\n"
          ],
          "name": "stdout"
        },
        {
          "output_type": "stream",
          "text": [
            "\n",
            "\n",
            "  0%|          | 0/7 [00:00<?, ?it/s]\u001b[A\u001b[A"
          ],
          "name": "stderr"
        },
        {
          "output_type": "stream",
          "text": [
            "Epoch 33 Iteration 0: Loss = 0.0, Number of mined triplets = 227609\n"
          ],
          "name": "stdout"
        },
        {
          "output_type": "stream",
          "text": [
            "\n",
            "\n",
            " 14%|█▍        | 1/7 [00:02<00:13,  2.29s/it]\u001b[A\u001b[A\n",
            "\n",
            " 43%|████▎     | 3/7 [00:02<00:06,  1.62s/it]\u001b[A\u001b[A\n",
            "\n",
            "100%|██████████| 7/7 [00:03<00:00,  2.09it/s]\n",
            "\n",
            "\n",
            "  0%|          | 0/12 [00:00<?, ?it/s]\u001b[A\u001b[A\n",
            "\n",
            "  8%|▊         | 1/12 [00:02<00:30,  2.73s/it]\u001b[A\u001b[A\n",
            "\n",
            " 25%|██▌       | 3/12 [00:02<00:17,  1.93s/it]\u001b[A\u001b[A\n",
            "\n",
            " 42%|████▏     | 5/12 [00:02<00:09,  1.37s/it]\u001b[A\u001b[A\n",
            "\n",
            " 67%|██████▋   | 8/12 [00:03<00:03,  1.03it/s]\u001b[A\u001b[A\n",
            "\n",
            "100%|██████████| 12/12 [00:03<00:00,  3.02it/s]\n"
          ],
          "name": "stderr"
        },
        {
          "output_type": "stream",
          "text": [
            "Computing accuracy\n",
            "Test set accuracy (Precision@1) = 0.6925133689839572\n"
          ],
          "name": "stdout"
        },
        {
          "output_type": "stream",
          "text": [
            "\n",
            "\n",
            "  0%|          | 0/7 [00:00<?, ?it/s]\u001b[A\u001b[A"
          ],
          "name": "stderr"
        },
        {
          "output_type": "stream",
          "text": [
            "Epoch 34 Iteration 0: Loss = 0.0, Number of mined triplets = 226937\n"
          ],
          "name": "stdout"
        },
        {
          "output_type": "stream",
          "text": [
            "\n",
            "\n",
            " 14%|█▍        | 1/7 [00:02<00:14,  2.33s/it]\u001b[A\u001b[A\n",
            "\n",
            " 29%|██▊       | 2/7 [00:02<00:08,  1.67s/it]\u001b[A\u001b[A\n",
            "\n",
            " 57%|█████▋    | 4/7 [00:02<00:03,  1.18s/it]\u001b[A\u001b[A\n",
            "\n",
            "100%|██████████| 7/7 [00:03<00:00,  2.00it/s]\n",
            "\n",
            "\n",
            "  0%|          | 0/12 [00:00<?, ?it/s]\u001b[A\u001b[A\n",
            "\n",
            "  8%|▊         | 1/12 [00:02<00:32,  2.95s/it]\u001b[A\u001b[A\n",
            "\n",
            " 25%|██▌       | 3/12 [00:03<00:18,  2.08s/it]\u001b[A\u001b[A\n",
            "\n",
            " 42%|████▏     | 5/12 [00:03<00:10,  1.47s/it]\u001b[A\u001b[A\n",
            "\n",
            " 67%|██████▋   | 8/12 [00:03<00:04,  1.04s/it]\u001b[A\u001b[A\n",
            "\n",
            "100%|██████████| 12/12 [00:04<00:00,  2.84it/s]\n"
          ],
          "name": "stderr"
        },
        {
          "output_type": "stream",
          "text": [
            "Computing accuracy\n",
            "Test set accuracy (Precision@1) = 0.7005347593582887\n"
          ],
          "name": "stdout"
        },
        {
          "output_type": "stream",
          "text": [
            "\n",
            "\n",
            "  0%|          | 0/7 [00:00<?, ?it/s]\u001b[A\u001b[A"
          ],
          "name": "stderr"
        },
        {
          "output_type": "stream",
          "text": [
            "Epoch 35 Iteration 0: Loss = 0.0, Number of mined triplets = 223233\n"
          ],
          "name": "stdout"
        },
        {
          "output_type": "stream",
          "text": [
            "\n",
            "\n",
            " 14%|█▍        | 1/7 [00:02<00:14,  2.38s/it]\u001b[A\u001b[A\n",
            "\n",
            " 29%|██▊       | 2/7 [00:02<00:08,  1.70s/it]\u001b[A\u001b[A\n",
            "\n",
            " 57%|█████▋    | 4/7 [00:02<00:03,  1.21s/it]\u001b[A\u001b[A\n",
            "\n",
            "100%|██████████| 7/7 [00:03<00:00,  1.97it/s]\n",
            "\n",
            "\n",
            "  0%|          | 0/12 [00:00<?, ?it/s]\u001b[A\u001b[A\n",
            "\n",
            "  8%|▊         | 1/12 [00:03<00:33,  3.02s/it]\u001b[A\u001b[A\n",
            "\n",
            " 25%|██▌       | 3/12 [00:03<00:19,  2.13s/it]\u001b[A\u001b[A\n",
            "\n",
            " 50%|█████     | 6/12 [00:03<00:09,  1.51s/it]\u001b[A\u001b[A\n",
            "\n",
            " 75%|███████▌  | 9/12 [00:03<00:03,  1.07s/it]\u001b[A\u001b[A\n",
            "\n",
            "100%|██████████| 12/12 [00:04<00:00,  2.79it/s]\n"
          ],
          "name": "stderr"
        },
        {
          "output_type": "stream",
          "text": [
            "Computing accuracy\n",
            "Test set accuracy (Precision@1) = 0.713903743315508\n"
          ],
          "name": "stdout"
        },
        {
          "output_type": "stream",
          "text": [
            "\n",
            "\n",
            "  0%|          | 0/7 [00:00<?, ?it/s]\u001b[A\u001b[A"
          ],
          "name": "stderr"
        },
        {
          "output_type": "stream",
          "text": [
            "Epoch 36 Iteration 0: Loss = 0.0, Number of mined triplets = 229550\n"
          ],
          "name": "stdout"
        },
        {
          "output_type": "stream",
          "text": [
            "\n",
            "\n",
            " 14%|█▍        | 1/7 [00:02<00:14,  2.46s/it]\u001b[A\u001b[A\n",
            "\n",
            " 43%|████▎     | 3/7 [00:02<00:06,  1.74s/it]\u001b[A\u001b[A\n",
            "\n",
            "100%|██████████| 7/7 [00:03<00:00,  1.96it/s]\n",
            "\n",
            "\n",
            "  0%|          | 0/12 [00:00<?, ?it/s]\u001b[A\u001b[A\n",
            "\n",
            "  8%|▊         | 1/12 [00:02<00:32,  2.92s/it]\u001b[A\u001b[A\n",
            "\n",
            " 25%|██▌       | 3/12 [00:03<00:18,  2.06s/it]\u001b[A\u001b[A\n",
            "\n",
            " 42%|████▏     | 5/12 [00:03<00:10,  1.46s/it]\u001b[A\u001b[A\n",
            "\n",
            " 67%|██████▋   | 8/12 [00:03<00:04,  1.03s/it]\u001b[A\u001b[A\n",
            "\n",
            "100%|██████████| 12/12 [00:04<00:00,  2.88it/s]\n"
          ],
          "name": "stderr"
        },
        {
          "output_type": "stream",
          "text": [
            "Computing accuracy\n",
            "Test set accuracy (Precision@1) = 0.7085561497326203\n"
          ],
          "name": "stdout"
        },
        {
          "output_type": "stream",
          "text": [
            "\n",
            "\n",
            "  0%|          | 0/7 [00:00<?, ?it/s]\u001b[A\u001b[A"
          ],
          "name": "stderr"
        },
        {
          "output_type": "stream",
          "text": [
            "Epoch 37 Iteration 0: Loss = 0.0, Number of mined triplets = 233048\n"
          ],
          "name": "stdout"
        },
        {
          "output_type": "stream",
          "text": [
            "\n",
            "\n",
            " 14%|█▍        | 1/7 [00:02<00:13,  2.31s/it]\u001b[A\u001b[A\n",
            "\n",
            " 29%|██▊       | 2/7 [00:02<00:08,  1.66s/it]\u001b[A\u001b[A\n",
            "\n",
            " 57%|█████▋    | 4/7 [00:02<00:03,  1.18s/it]\u001b[A\u001b[A\n",
            "\n",
            "100%|██████████| 7/7 [00:03<00:00,  1.98it/s]\n",
            "\n",
            "\n",
            "  0%|          | 0/12 [00:00<?, ?it/s]\u001b[A\u001b[A\n",
            "\n",
            "  8%|▊         | 1/12 [00:02<00:29,  2.68s/it]\u001b[A\u001b[A\n",
            "\n",
            " 17%|█▋        | 2/12 [00:02<00:19,  1.92s/it]\u001b[A\u001b[A\n",
            "\n",
            " 33%|███▎      | 4/12 [00:02<00:10,  1.36s/it]\u001b[A\u001b[A\n",
            "\n",
            " 58%|█████▊    | 7/12 [00:03<00:04,  1.04it/s]\u001b[A\u001b[A\n",
            "\n",
            "100%|██████████| 12/12 [00:04<00:00,  2.95it/s]\n"
          ],
          "name": "stderr"
        },
        {
          "output_type": "stream",
          "text": [
            "Computing accuracy\n",
            "Test set accuracy (Precision@1) = 0.7032085561497325\n"
          ],
          "name": "stdout"
        },
        {
          "output_type": "stream",
          "text": [
            "\n",
            "\n",
            "  0%|          | 0/7 [00:00<?, ?it/s]\u001b[A\u001b[A"
          ],
          "name": "stderr"
        },
        {
          "output_type": "stream",
          "text": [
            "Epoch 38 Iteration 0: Loss = 0.0, Number of mined triplets = 221702\n"
          ],
          "name": "stdout"
        },
        {
          "output_type": "stream",
          "text": [
            "\n",
            "\n",
            " 14%|█▍        | 1/7 [00:02<00:13,  2.31s/it]\u001b[A\u001b[A\n",
            "\n",
            " 43%|████▎     | 3/7 [00:02<00:06,  1.64s/it]\u001b[A\u001b[A\n",
            "\n",
            "100%|██████████| 7/7 [00:03<00:00,  2.03it/s]\n",
            "\n",
            "\n",
            "  0%|          | 0/12 [00:00<?, ?it/s]\u001b[A\u001b[A\n",
            "\n",
            "  8%|▊         | 1/12 [00:02<00:31,  2.88s/it]\u001b[A\u001b[A\n",
            "\n",
            " 25%|██▌       | 3/12 [00:02<00:18,  2.03s/it]\u001b[A\u001b[A\n",
            "\n",
            " 42%|████▏     | 5/12 [00:03<00:10,  1.44s/it]\u001b[A\u001b[A\n",
            "\n",
            " 67%|██████▋   | 8/12 [00:03<00:04,  1.02s/it]\u001b[A\u001b[A\n",
            "\n",
            "100%|██████████| 12/12 [00:04<00:00,  2.88it/s]\n"
          ],
          "name": "stderr"
        },
        {
          "output_type": "stream",
          "text": [
            "Computing accuracy\n",
            "Test set accuracy (Precision@1) = 0.713903743315508\n"
          ],
          "name": "stdout"
        },
        {
          "output_type": "stream",
          "text": [
            "\n",
            "\n",
            "  0%|          | 0/7 [00:00<?, ?it/s]\u001b[A\u001b[A"
          ],
          "name": "stderr"
        },
        {
          "output_type": "stream",
          "text": [
            "Epoch 39 Iteration 0: Loss = 0.0, Number of mined triplets = 229402\n"
          ],
          "name": "stdout"
        },
        {
          "output_type": "stream",
          "text": [
            "\n",
            "\n",
            " 14%|█▍        | 1/7 [00:02<00:14,  2.41s/it]\u001b[A\u001b[A\n",
            "\n",
            " 43%|████▎     | 3/7 [00:02<00:06,  1.70s/it]\u001b[A\u001b[A\n",
            "\n",
            "100%|██████████| 7/7 [00:03<00:00,  2.01it/s]\n",
            "\n",
            "\n",
            "  0%|          | 0/12 [00:00<?, ?it/s]\u001b[A\u001b[A\n",
            "\n",
            "  8%|▊         | 1/12 [00:02<00:31,  2.86s/it]\u001b[A\u001b[A\n",
            "\n",
            " 25%|██▌       | 3/12 [00:02<00:18,  2.02s/it]\u001b[A\u001b[A\n",
            "\n",
            " 50%|█████     | 6/12 [00:03<00:08,  1.43s/it]\u001b[A\u001b[A\n",
            "\n",
            " 75%|███████▌  | 9/12 [00:03<00:03,  1.01s/it]\u001b[A\u001b[A\n",
            "\n",
            "100%|██████████| 12/12 [00:04<00:00,  2.92it/s]\n"
          ],
          "name": "stderr"
        },
        {
          "output_type": "stream",
          "text": [
            "Computing accuracy\n",
            "Test set accuracy (Precision@1) = 0.6898395721925134\n"
          ],
          "name": "stdout"
        },
        {
          "output_type": "stream",
          "text": [
            "\n",
            "\n",
            "  0%|          | 0/7 [00:00<?, ?it/s]\u001b[A\u001b[A"
          ],
          "name": "stderr"
        },
        {
          "output_type": "stream",
          "text": [
            "Epoch 40 Iteration 0: Loss = 0.0, Number of mined triplets = 220852\n"
          ],
          "name": "stdout"
        },
        {
          "output_type": "stream",
          "text": [
            "\n",
            "\n",
            " 14%|█▍        | 1/7 [00:02<00:14,  2.34s/it]\u001b[A\u001b[A\n",
            "\n",
            " 43%|████▎     | 3/7 [00:02<00:06,  1.65s/it]\u001b[A\u001b[A\n",
            "\n",
            "100%|██████████| 7/7 [00:03<00:00,  2.06it/s]\n",
            "\n",
            "\n",
            "  0%|          | 0/12 [00:00<?, ?it/s]\u001b[A\u001b[A\n",
            "\n",
            "  8%|▊         | 1/12 [00:02<00:30,  2.79s/it]\u001b[A\u001b[A\n",
            "\n",
            " 25%|██▌       | 3/12 [00:02<00:17,  1.97s/it]\u001b[A\u001b[A\n",
            "\n",
            " 42%|████▏     | 5/12 [00:03<00:09,  1.40s/it]\u001b[A\u001b[A\n",
            "\n",
            " 67%|██████▋   | 8/12 [00:03<00:03,  1.01it/s]\u001b[A\u001b[A\n",
            "\n",
            "100%|██████████| 12/12 [00:04<00:00,  2.95it/s]\n"
          ],
          "name": "stderr"
        },
        {
          "output_type": "stream",
          "text": [
            "Computing accuracy\n",
            "Test set accuracy (Precision@1) = 0.729946524064171\n"
          ],
          "name": "stdout"
        },
        {
          "output_type": "stream",
          "text": [
            "\n",
            "\n",
            "  0%|          | 0/7 [00:00<?, ?it/s]\u001b[A\u001b[A"
          ],
          "name": "stderr"
        },
        {
          "output_type": "stream",
          "text": [
            "Epoch 41 Iteration 0: Loss = 0.0, Number of mined triplets = 225382\n"
          ],
          "name": "stdout"
        },
        {
          "output_type": "stream",
          "text": [
            "\n",
            "\n",
            " 14%|█▍        | 1/7 [00:02<00:15,  2.51s/it]\u001b[A\u001b[A\n",
            "\n",
            " 43%|████▎     | 3/7 [00:02<00:07,  1.77s/it]\u001b[A\u001b[A\n",
            "\n",
            "100%|██████████| 7/7 [00:03<00:00,  1.93it/s]\n",
            "\n",
            "\n",
            "  0%|          | 0/12 [00:00<?, ?it/s]\u001b[A\u001b[A\n",
            "\n",
            "  8%|▊         | 1/12 [00:03<00:33,  3.05s/it]\u001b[A\u001b[A\n",
            "\n",
            " 25%|██▌       | 3/12 [00:03<00:19,  2.15s/it]\u001b[A\u001b[A\n",
            "\n",
            " 50%|█████     | 6/12 [00:03<00:09,  1.52s/it]\u001b[A\u001b[A\n",
            "\n",
            " 75%|███████▌  | 9/12 [00:03<00:03,  1.07s/it]\u001b[A\u001b[A\n",
            "\n",
            "100%|██████████| 12/12 [00:04<00:00,  2.77it/s]\n"
          ],
          "name": "stderr"
        },
        {
          "output_type": "stream",
          "text": [
            "Computing accuracy\n",
            "Test set accuracy (Precision@1) = 0.6978609625668449\n"
          ],
          "name": "stdout"
        },
        {
          "output_type": "stream",
          "text": [
            "\n",
            "\n",
            "  0%|          | 0/7 [00:00<?, ?it/s]\u001b[A\u001b[A"
          ],
          "name": "stderr"
        },
        {
          "output_type": "stream",
          "text": [
            "Epoch 42 Iteration 0: Loss = 0.0, Number of mined triplets = 226482\n"
          ],
          "name": "stdout"
        },
        {
          "output_type": "stream",
          "text": [
            "\n",
            "\n",
            " 14%|█▍        | 1/7 [00:02<00:15,  2.58s/it]\u001b[A\u001b[A\n",
            "\n",
            " 43%|████▎     | 3/7 [00:02<00:07,  1.83s/it]\u001b[A\u001b[A\n",
            "\n",
            "100%|██████████| 7/7 [00:03<00:00,  1.89it/s]\n",
            "\n",
            "\n",
            "  0%|          | 0/12 [00:00<?, ?it/s]\u001b[A\u001b[A\n",
            "\n",
            "  8%|▊         | 1/12 [00:03<00:33,  3.01s/it]\u001b[A\u001b[A\n",
            "\n",
            " 25%|██▌       | 3/12 [00:03<00:19,  2.13s/it]\u001b[A\u001b[A\n",
            "\n",
            " 50%|█████     | 6/12 [00:03<00:09,  1.50s/it]\u001b[A\u001b[A\n",
            "\n",
            " 75%|███████▌  | 9/12 [00:03<00:03,  1.06s/it]\u001b[A\u001b[A\n",
            "\n",
            "100%|██████████| 12/12 [00:04<00:00,  2.77it/s]\n"
          ],
          "name": "stderr"
        },
        {
          "output_type": "stream",
          "text": [
            "Computing accuracy\n",
            "Test set accuracy (Precision@1) = 0.6737967914438502\n"
          ],
          "name": "stdout"
        },
        {
          "output_type": "stream",
          "text": [
            "\n",
            "\n",
            "  0%|          | 0/7 [00:00<?, ?it/s]\u001b[A\u001b[A"
          ],
          "name": "stderr"
        },
        {
          "output_type": "stream",
          "text": [
            "Epoch 43 Iteration 0: Loss = 0.0, Number of mined triplets = 225131\n"
          ],
          "name": "stdout"
        },
        {
          "output_type": "stream",
          "text": [
            "\n",
            "\n",
            " 14%|█▍        | 1/7 [00:02<00:15,  2.54s/it]\u001b[A\u001b[A\n",
            "\n",
            " 43%|████▎     | 3/7 [00:02<00:07,  1.79s/it]\u001b[A\u001b[A\n",
            "\n",
            "100%|██████████| 7/7 [00:03<00:00,  1.92it/s]\n",
            "\n",
            "\n",
            "  0%|          | 0/12 [00:00<?, ?it/s]\u001b[A\u001b[A\n",
            "\n",
            "  8%|▊         | 1/12 [00:02<00:32,  2.91s/it]\u001b[A\u001b[A\n",
            "\n",
            " 25%|██▌       | 3/12 [00:03<00:18,  2.05s/it]\u001b[A\u001b[A\n",
            "\n",
            " 50%|█████     | 6/12 [00:03<00:08,  1.45s/it]\u001b[A\u001b[A\n",
            "\n",
            " 75%|███████▌  | 9/12 [00:03<00:03,  1.03s/it]\u001b[A\u001b[A\n",
            "\n",
            "100%|██████████| 12/12 [00:04<00:00,  2.89it/s]\n"
          ],
          "name": "stderr"
        },
        {
          "output_type": "stream",
          "text": [
            "Computing accuracy\n",
            "Test set accuracy (Precision@1) = 0.6951871657754011\n"
          ],
          "name": "stdout"
        },
        {
          "output_type": "stream",
          "text": [
            "\n",
            "\n",
            "  0%|          | 0/7 [00:00<?, ?it/s]\u001b[A\u001b[A"
          ],
          "name": "stderr"
        },
        {
          "output_type": "stream",
          "text": [
            "Epoch 44 Iteration 0: Loss = 0.0, Number of mined triplets = 227579\n"
          ],
          "name": "stdout"
        },
        {
          "output_type": "stream",
          "text": [
            "\n",
            "\n",
            " 14%|█▍        | 1/7 [00:02<00:14,  2.45s/it]\u001b[A\u001b[A\n",
            "\n",
            " 43%|████▎     | 3/7 [00:02<00:06,  1.73s/it]\u001b[A\u001b[A\n",
            "\n",
            "100%|██████████| 7/7 [00:03<00:00,  1.96it/s]\n",
            "\n",
            "\n",
            "  0%|          | 0/12 [00:00<?, ?it/s]\u001b[A\u001b[A\n",
            "\n",
            "  8%|▊         | 1/12 [00:03<00:34,  3.12s/it]\u001b[A\u001b[A\n",
            "\n",
            " 25%|██▌       | 3/12 [00:03<00:19,  2.20s/it]\u001b[A\u001b[A\n",
            "\n",
            " 50%|█████     | 6/12 [00:03<00:09,  1.55s/it]\u001b[A\u001b[A\n",
            "\n",
            " 75%|███████▌  | 9/12 [00:03<00:03,  1.10s/it]\u001b[A\u001b[A\n",
            "\n",
            "100%|██████████| 12/12 [00:04<00:00,  2.72it/s]\n"
          ],
          "name": "stderr"
        },
        {
          "output_type": "stream",
          "text": [
            "Computing accuracy\n",
            "Test set accuracy (Precision@1) = 0.7005347593582887\n"
          ],
          "name": "stdout"
        },
        {
          "output_type": "stream",
          "text": [
            "\n",
            "\n",
            "  0%|          | 0/7 [00:00<?, ?it/s]\u001b[A\u001b[A"
          ],
          "name": "stderr"
        },
        {
          "output_type": "stream",
          "text": [
            "Epoch 45 Iteration 0: Loss = 0.0, Number of mined triplets = 223109\n"
          ],
          "name": "stdout"
        },
        {
          "output_type": "stream",
          "text": [
            "\n",
            "\n",
            " 14%|█▍        | 1/7 [00:02<00:15,  2.61s/it]\u001b[A\u001b[A\n",
            "\n",
            " 43%|████▎     | 3/7 [00:02<00:07,  1.85s/it]\u001b[A\u001b[A\n",
            "\n",
            "100%|██████████| 7/7 [00:03<00:00,  1.88it/s]\n",
            "\n",
            "\n",
            "  0%|          | 0/12 [00:00<?, ?it/s]\u001b[A\u001b[A\n",
            "\n",
            "  8%|▊         | 1/12 [00:03<00:33,  3.00s/it]\u001b[A\u001b[A\n",
            "\n",
            " 17%|█▋        | 2/12 [00:03<00:21,  2.14s/it]\u001b[A\u001b[A\n",
            "\n",
            " 33%|███▎      | 4/12 [00:03<00:12,  1.51s/it]\u001b[A\u001b[A\n",
            "\n",
            " 58%|█████▊    | 7/12 [00:03<00:05,  1.07s/it]\u001b[A\u001b[A\n",
            "\n",
            "100%|██████████| 12/12 [00:04<00:00,  2.75it/s]\n"
          ],
          "name": "stderr"
        },
        {
          "output_type": "stream",
          "text": [
            "Computing accuracy\n",
            "Test set accuracy (Precision@1) = 0.7005347593582887\n"
          ],
          "name": "stdout"
        },
        {
          "output_type": "stream",
          "text": [
            "\n",
            "\n",
            "  0%|          | 0/7 [00:00<?, ?it/s]\u001b[A\u001b[A"
          ],
          "name": "stderr"
        },
        {
          "output_type": "stream",
          "text": [
            "Epoch 46 Iteration 0: Loss = 0.0, Number of mined triplets = 225553\n"
          ],
          "name": "stdout"
        },
        {
          "output_type": "stream",
          "text": [
            "\n",
            "\n",
            " 14%|█▍        | 1/7 [00:02<00:15,  2.61s/it]\u001b[A\u001b[A\n",
            "\n",
            " 43%|████▎     | 3/7 [00:02<00:07,  1.84s/it]\u001b[A\u001b[A\n",
            "\n",
            "100%|██████████| 7/7 [00:03<00:00,  1.89it/s]\n",
            "\n",
            "\n",
            "  0%|          | 0/12 [00:00<?, ?it/s]\u001b[A\u001b[A\n",
            "\n",
            "  8%|▊         | 1/12 [00:02<00:30,  2.77s/it]\u001b[A\u001b[A\n",
            "\n",
            " 17%|█▋        | 2/12 [00:02<00:20,  2.01s/it]\u001b[A\u001b[A\n",
            "\n",
            " 33%|███▎      | 4/12 [00:03<00:11,  1.43s/it]\u001b[A\u001b[A\n",
            "\n",
            " 50%|█████     | 6/12 [00:03<00:06,  1.02s/it]\u001b[A\u001b[A\n",
            "\n",
            " 75%|███████▌  | 9/12 [00:03<00:02,  1.38it/s]\u001b[A\u001b[A\n",
            "\n",
            "100%|██████████| 12/12 [00:04<00:00,  2.80it/s]\n"
          ],
          "name": "stderr"
        },
        {
          "output_type": "stream",
          "text": [
            "Computing accuracy\n",
            "Test set accuracy (Precision@1) = 0.6871657754010695\n"
          ],
          "name": "stdout"
        },
        {
          "output_type": "stream",
          "text": [
            "\n",
            "\n",
            "  0%|          | 0/7 [00:00<?, ?it/s]\u001b[A\u001b[A"
          ],
          "name": "stderr"
        },
        {
          "output_type": "stream",
          "text": [
            "Epoch 47 Iteration 0: Loss = 0.0, Number of mined triplets = 225988\n"
          ],
          "name": "stdout"
        },
        {
          "output_type": "stream",
          "text": [
            "\n",
            "\n",
            " 14%|█▍        | 1/7 [00:02<00:14,  2.49s/it]\u001b[A\u001b[A\n",
            "\n",
            " 43%|████▎     | 3/7 [00:02<00:07,  1.76s/it]\u001b[A\u001b[A\n",
            "\n",
            "100%|██████████| 7/7 [00:03<00:00,  1.98it/s]\n",
            "\n",
            "\n",
            "  0%|          | 0/12 [00:00<?, ?it/s]\u001b[A\u001b[A\n",
            "\n",
            "  8%|▊         | 1/12 [00:02<00:32,  2.97s/it]\u001b[A\u001b[A\n",
            "\n",
            " 25%|██▌       | 3/12 [00:03<00:18,  2.10s/it]\u001b[A\u001b[A\n",
            "\n",
            " 50%|█████     | 6/12 [00:03<00:08,  1.48s/it]\u001b[A\u001b[A\n",
            "\n",
            " 75%|███████▌  | 9/12 [00:03<00:03,  1.05s/it]\u001b[A\u001b[A\n",
            "\n",
            "100%|██████████| 12/12 [00:04<00:00,  2.85it/s]\n"
          ],
          "name": "stderr"
        },
        {
          "output_type": "stream",
          "text": [
            "Computing accuracy\n",
            "Test set accuracy (Precision@1) = 0.7032085561497325\n"
          ],
          "name": "stdout"
        },
        {
          "output_type": "stream",
          "text": [
            "\n",
            "\n",
            "  0%|          | 0/7 [00:00<?, ?it/s]\u001b[A\u001b[A"
          ],
          "name": "stderr"
        },
        {
          "output_type": "stream",
          "text": [
            "Epoch 48 Iteration 0: Loss = 0.0, Number of mined triplets = 226710\n"
          ],
          "name": "stdout"
        },
        {
          "output_type": "stream",
          "text": [
            "\n",
            "\n",
            " 14%|█▍        | 1/7 [00:02<00:14,  2.46s/it]\u001b[A\u001b[A\n",
            "\n",
            " 43%|████▎     | 3/7 [00:02<00:06,  1.74s/it]\u001b[A\u001b[A\n",
            "\n",
            "100%|██████████| 7/7 [00:03<00:00,  1.99it/s]\n",
            "\n",
            "\n",
            "  0%|          | 0/12 [00:00<?, ?it/s]\u001b[A\u001b[A\n",
            "\n",
            "  8%|▊         | 1/12 [00:02<00:30,  2.81s/it]\u001b[A\u001b[A\n",
            "\n",
            " 17%|█▋        | 2/12 [00:02<00:20,  2.02s/it]\u001b[A\u001b[A\n",
            "\n",
            " 33%|███▎      | 4/12 [00:03<00:11,  1.43s/it]\u001b[A\u001b[A\n",
            "\n",
            " 58%|█████▊    | 7/12 [00:03<00:05,  1.01s/it]\u001b[A\u001b[A\n",
            "\n",
            "100%|██████████| 12/12 [00:04<00:00,  2.87it/s]\n"
          ],
          "name": "stderr"
        },
        {
          "output_type": "stream",
          "text": [
            "Computing accuracy\n",
            "Test set accuracy (Precision@1) = 0.6711229946524063\n"
          ],
          "name": "stdout"
        },
        {
          "output_type": "stream",
          "text": [
            "\n",
            "\n",
            "  0%|          | 0/7 [00:00<?, ?it/s]\u001b[A\u001b[A"
          ],
          "name": "stderr"
        },
        {
          "output_type": "stream",
          "text": [
            "Epoch 49 Iteration 0: Loss = 0.0, Number of mined triplets = 222538\n"
          ],
          "name": "stdout"
        },
        {
          "output_type": "stream",
          "text": [
            "\n",
            "\n",
            " 14%|█▍        | 1/7 [00:02<00:14,  2.35s/it]\u001b[A\u001b[A\n",
            "\n",
            " 43%|████▎     | 3/7 [00:02<00:06,  1.67s/it]\u001b[A\u001b[A\n",
            "\n",
            "100%|██████████| 7/7 [00:03<00:00,  2.04it/s]\n",
            "\n",
            "\n",
            "  0%|          | 0/12 [00:00<?, ?it/s]\u001b[A\u001b[A\n",
            "\n",
            "  8%|▊         | 1/12 [00:03<00:33,  3.00s/it]\u001b[A\u001b[A\n",
            "\n",
            " 25%|██▌       | 3/12 [00:03<00:19,  2.12s/it]\u001b[A\u001b[A\n",
            "\n",
            " 42%|████▏     | 5/12 [00:03<00:10,  1.50s/it]\u001b[A\u001b[A\n",
            "\n",
            " 67%|██████▋   | 8/12 [00:03<00:04,  1.06s/it]\u001b[A\u001b[A\n",
            "\n",
            "100%|██████████| 12/12 [00:04<00:00,  2.82it/s]\n"
          ],
          "name": "stderr"
        },
        {
          "output_type": "stream",
          "text": [
            "Computing accuracy\n",
            "Test set accuracy (Precision@1) = 0.7032085561497325\n"
          ],
          "name": "stdout"
        },
        {
          "output_type": "stream",
          "text": [
            "\n",
            "\n",
            "  0%|          | 0/7 [00:00<?, ?it/s]\u001b[A\u001b[A"
          ],
          "name": "stderr"
        },
        {
          "output_type": "stream",
          "text": [
            "Epoch 50 Iteration 0: Loss = 0.0, Number of mined triplets = 231280\n"
          ],
          "name": "stdout"
        },
        {
          "output_type": "stream",
          "text": [
            "\n",
            "\n",
            " 14%|█▍        | 1/7 [00:02<00:14,  2.44s/it]\u001b[A\u001b[A\n",
            "\n",
            " 43%|████▎     | 3/7 [00:02<00:06,  1.72s/it]\u001b[A\u001b[A\n",
            "\n",
            "100%|██████████| 7/7 [00:03<00:00,  1.99it/s]\n",
            "\n",
            "\n",
            "  0%|          | 0/12 [00:00<?, ?it/s]\u001b[A\u001b[A\n",
            "\n",
            "  8%|▊         | 1/12 [00:02<00:32,  2.96s/it]\u001b[A\u001b[A\n",
            "\n",
            " 25%|██▌       | 3/12 [00:03<00:18,  2.09s/it]\u001b[A\u001b[A\n",
            "\n",
            " 42%|████▏     | 5/12 [00:03<00:10,  1.48s/it]\u001b[A\u001b[A\n",
            "\n",
            " 67%|██████▋   | 8/12 [00:03<00:04,  1.05s/it]\u001b[A\u001b[A\n",
            "\n",
            "100%|██████████| 12/12 [00:04<00:00,  2.85it/s]\n"
          ],
          "name": "stderr"
        },
        {
          "output_type": "stream",
          "text": [
            "Computing accuracy\n",
            "Test set accuracy (Precision@1) = 0.6844919786096256\n"
          ],
          "name": "stdout"
        },
        {
          "output_type": "stream",
          "text": [
            "\n",
            "\n",
            "  0%|          | 0/7 [00:00<?, ?it/s]\u001b[A\u001b[A"
          ],
          "name": "stderr"
        },
        {
          "output_type": "stream",
          "text": [
            "Epoch 51 Iteration 0: Loss = 0.0, Number of mined triplets = 227685\n"
          ],
          "name": "stdout"
        },
        {
          "output_type": "stream",
          "text": [
            "\n",
            "\n",
            " 14%|█▍        | 1/7 [00:02<00:15,  2.61s/it]\u001b[A\u001b[A\n",
            "\n",
            " 43%|████▎     | 3/7 [00:02<00:07,  1.85s/it]\u001b[A\u001b[A\n",
            "\n",
            "100%|██████████| 7/7 [00:03<00:00,  1.85it/s]\n",
            "\n",
            "\n",
            "  0%|          | 0/12 [00:00<?, ?it/s]\u001b[A\u001b[A\n",
            "\n",
            "  8%|▊         | 1/12 [00:03<00:33,  3.01s/it]\u001b[A\u001b[A\n",
            "\n",
            " 17%|█▋        | 2/12 [00:03<00:21,  2.16s/it]\u001b[A\u001b[A\n",
            "\n",
            " 33%|███▎      | 4/12 [00:03<00:12,  1.53s/it]\u001b[A\u001b[A\n",
            "\n",
            " 58%|█████▊    | 7/12 [00:03<00:05,  1.08s/it]\u001b[A\u001b[A\n",
            "\n",
            "100%|██████████| 12/12 [00:04<00:00,  2.69it/s]\n"
          ],
          "name": "stderr"
        },
        {
          "output_type": "stream",
          "text": [
            "Computing accuracy\n",
            "Test set accuracy (Precision@1) = 0.6871657754010695\n"
          ],
          "name": "stdout"
        },
        {
          "output_type": "stream",
          "text": [
            "\n",
            "\n",
            "  0%|          | 0/7 [00:00<?, ?it/s]\u001b[A\u001b[A"
          ],
          "name": "stderr"
        },
        {
          "output_type": "stream",
          "text": [
            "Epoch 52 Iteration 0: Loss = 0.0, Number of mined triplets = 227127\n"
          ],
          "name": "stdout"
        },
        {
          "output_type": "stream",
          "text": [
            "\n",
            "\n",
            " 14%|█▍        | 1/7 [00:02<00:16,  2.67s/it]\u001b[A\u001b[A\n",
            "\n",
            " 43%|████▎     | 3/7 [00:02<00:07,  1.89s/it]\u001b[A\u001b[A\n",
            "\n",
            "100%|██████████| 7/7 [00:03<00:00,  1.85it/s]\n",
            "\n",
            "\n",
            "  0%|          | 0/12 [00:00<?, ?it/s]\u001b[A\u001b[A\n",
            "\n",
            "  8%|▊         | 1/12 [00:03<00:33,  3.04s/it]\u001b[A\u001b[A\n",
            "\n",
            " 17%|█▋        | 2/12 [00:03<00:21,  2.17s/it]\u001b[A\u001b[A\n",
            "\n",
            " 33%|███▎      | 4/12 [00:03<00:12,  1.54s/it]\u001b[A\u001b[A\n",
            "\n",
            " 50%|█████     | 6/12 [00:03<00:06,  1.09s/it]\u001b[A\u001b[A\n",
            "\n",
            " 75%|███████▌  | 9/12 [00:03<00:02,  1.28it/s]\u001b[A\u001b[A\n",
            "\n",
            "100%|██████████| 12/12 [00:04<00:00,  2.66it/s]\n"
          ],
          "name": "stderr"
        },
        {
          "output_type": "stream",
          "text": [
            "Computing accuracy\n",
            "Test set accuracy (Precision@1) = 0.713903743315508\n"
          ],
          "name": "stdout"
        },
        {
          "output_type": "stream",
          "text": [
            "\n",
            "\n",
            "  0%|          | 0/7 [00:00<?, ?it/s]\u001b[A\u001b[A"
          ],
          "name": "stderr"
        },
        {
          "output_type": "stream",
          "text": [
            "Epoch 53 Iteration 0: Loss = 0.0, Number of mined triplets = 229486\n"
          ],
          "name": "stdout"
        },
        {
          "output_type": "stream",
          "text": [
            "\n",
            "\n",
            " 14%|█▍        | 1/7 [00:02<00:15,  2.64s/it]\u001b[A\u001b[A\n",
            "\n",
            " 43%|████▎     | 3/7 [00:02<00:07,  1.87s/it]\u001b[A\u001b[A\n",
            "\n",
            "100%|██████████| 7/7 [00:03<00:00,  1.85it/s]\n",
            "\n",
            "\n",
            "  0%|          | 0/12 [00:00<?, ?it/s]\u001b[A\u001b[A\n",
            "\n",
            "  8%|▊         | 1/12 [00:02<00:31,  2.88s/it]\u001b[A\u001b[A\n",
            "\n",
            " 17%|█▋        | 2/12 [00:02<00:20,  2.05s/it]\u001b[A\u001b[A\n",
            "\n",
            " 33%|███▎      | 4/12 [00:03<00:11,  1.46s/it]\u001b[A\u001b[A\n",
            "\n",
            " 50%|█████     | 6/12 [00:03<00:06,  1.04s/it]\u001b[A\u001b[A\n",
            "\n",
            " 75%|███████▌  | 9/12 [00:03<00:02,  1.35it/s]\u001b[A\u001b[A\n",
            "\n",
            "100%|██████████| 12/12 [00:04<00:00,  2.79it/s]\n"
          ],
          "name": "stderr"
        },
        {
          "output_type": "stream",
          "text": [
            "Computing accuracy\n",
            "Test set accuracy (Precision@1) = 0.7245989304812834\n"
          ],
          "name": "stdout"
        },
        {
          "output_type": "stream",
          "text": [
            "\n",
            "\n",
            "  0%|          | 0/7 [00:00<?, ?it/s]\u001b[A\u001b[A"
          ],
          "name": "stderr"
        },
        {
          "output_type": "stream",
          "text": [
            "Epoch 54 Iteration 0: Loss = 0.0, Number of mined triplets = 227037\n"
          ],
          "name": "stdout"
        },
        {
          "output_type": "stream",
          "text": [
            "\n",
            "\n",
            " 14%|█▍        | 1/7 [00:02<00:15,  2.57s/it]\u001b[A\u001b[A\n",
            "\n",
            " 43%|████▎     | 3/7 [00:02<00:07,  1.81s/it]\u001b[A\u001b[A\n",
            "\n",
            "100%|██████████| 7/7 [00:03<00:00,  1.92it/s]\n",
            "\n",
            "\n",
            "  0%|          | 0/12 [00:00<?, ?it/s]\u001b[A\u001b[A\n",
            "\n",
            "  8%|▊         | 1/12 [00:02<00:31,  2.90s/it]\u001b[A\u001b[A\n",
            "\n",
            " 17%|█▋        | 2/12 [00:03<00:20,  2.07s/it]\u001b[A\u001b[A\n",
            "\n",
            " 33%|███▎      | 4/12 [00:03<00:11,  1.46s/it]\u001b[A\u001b[A\n",
            "\n",
            " 58%|█████▊    | 7/12 [00:03<00:05,  1.04s/it]\u001b[A\u001b[A\n",
            "\n",
            "100%|██████████| 12/12 [00:04<00:00,  2.83it/s]\n"
          ],
          "name": "stderr"
        },
        {
          "output_type": "stream",
          "text": [
            "Computing accuracy\n",
            "Test set accuracy (Precision@1) = 0.7165775401069518\n"
          ],
          "name": "stdout"
        },
        {
          "output_type": "stream",
          "text": [
            "\n",
            "\n",
            "  0%|          | 0/7 [00:00<?, ?it/s]\u001b[A\u001b[A"
          ],
          "name": "stderr"
        },
        {
          "output_type": "stream",
          "text": [
            "Epoch 55 Iteration 0: Loss = 0.0, Number of mined triplets = 221925\n"
          ],
          "name": "stdout"
        },
        {
          "output_type": "stream",
          "text": [
            "\n",
            "\n",
            " 14%|█▍        | 1/7 [00:02<00:15,  2.54s/it]\u001b[A\u001b[A\n",
            "\n",
            " 43%|████▎     | 3/7 [00:02<00:07,  1.79s/it]\u001b[A\u001b[A\n",
            "\n",
            "100%|██████████| 7/7 [00:03<00:00,  1.94it/s]\n",
            "\n",
            "\n",
            "  0%|          | 0/12 [00:00<?, ?it/s]\u001b[A\u001b[A\n",
            "\n",
            "  8%|▊         | 1/12 [00:02<00:32,  2.97s/it]\u001b[A\u001b[A\n",
            "\n",
            " 25%|██▌       | 3/12 [00:03<00:18,  2.10s/it]\u001b[A\u001b[A\n",
            "\n",
            " 50%|█████     | 6/12 [00:03<00:08,  1.48s/it]\u001b[A\u001b[A\n",
            "\n",
            " 75%|███████▌  | 9/12 [00:03<00:03,  1.05s/it]\u001b[A\u001b[A\n",
            "\n",
            "100%|██████████| 12/12 [00:04<00:00,  2.82it/s]\n"
          ],
          "name": "stderr"
        },
        {
          "output_type": "stream",
          "text": [
            "Computing accuracy\n",
            "Test set accuracy (Precision@1) = 0.6898395721925134\n"
          ],
          "name": "stdout"
        },
        {
          "output_type": "stream",
          "text": [
            "\n",
            "\n",
            "  0%|          | 0/7 [00:00<?, ?it/s]\u001b[A\u001b[A"
          ],
          "name": "stderr"
        },
        {
          "output_type": "stream",
          "text": [
            "Epoch 56 Iteration 0: Loss = 0.0, Number of mined triplets = 225286\n"
          ],
          "name": "stdout"
        },
        {
          "output_type": "stream",
          "text": [
            "\n",
            "\n",
            " 14%|█▍        | 1/7 [00:02<00:14,  2.49s/it]\u001b[A\u001b[A\n",
            "\n",
            " 43%|████▎     | 3/7 [00:02<00:07,  1.76s/it]\u001b[A\u001b[A\n",
            "\n",
            "100%|██████████| 7/7 [00:03<00:00,  1.96it/s]\n",
            "\n",
            "\n",
            "  0%|          | 0/12 [00:00<?, ?it/s]\u001b[A\u001b[A\n",
            "\n",
            "  8%|▊         | 1/12 [00:02<00:32,  2.92s/it]\u001b[A\u001b[A\n",
            "\n",
            " 17%|█▋        | 2/12 [00:03<00:20,  2.08s/it]\u001b[A\u001b[A\n",
            "\n",
            " 33%|███▎      | 4/12 [00:03<00:11,  1.48s/it]\u001b[A\u001b[A\n",
            "\n",
            " 58%|█████▊    | 7/12 [00:03<00:05,  1.05s/it]\u001b[A\u001b[A\n",
            "\n",
            "100%|██████████| 12/12 [00:04<00:00,  2.83it/s]\n"
          ],
          "name": "stderr"
        },
        {
          "output_type": "stream",
          "text": [
            "Computing accuracy\n",
            "Test set accuracy (Precision@1) = 0.6978609625668449\n"
          ],
          "name": "stdout"
        },
        {
          "output_type": "stream",
          "text": [
            "\n",
            "\n",
            "  0%|          | 0/7 [00:00<?, ?it/s]\u001b[A\u001b[A"
          ],
          "name": "stderr"
        },
        {
          "output_type": "stream",
          "text": [
            "Epoch 57 Iteration 0: Loss = 0.0, Number of mined triplets = 222845\n"
          ],
          "name": "stdout"
        },
        {
          "output_type": "stream",
          "text": [
            "\n",
            "\n",
            " 14%|█▍        | 1/7 [00:02<00:15,  2.55s/it]\u001b[A\u001b[A\n",
            "\n",
            " 43%|████▎     | 3/7 [00:02<00:07,  1.80s/it]\u001b[A\u001b[A\n",
            "\n",
            "100%|██████████| 7/7 [00:03<00:00,  1.93it/s]\n",
            "\n",
            "\n",
            "  0%|          | 0/12 [00:00<?, ?it/s]\u001b[A\u001b[A\n",
            "\n",
            "  8%|▊         | 1/12 [00:03<00:34,  3.17s/it]\u001b[A\u001b[A\n",
            "\n",
            " 25%|██▌       | 3/12 [00:03<00:20,  2.24s/it]\u001b[A\u001b[A\n",
            "\n",
            " 42%|████▏     | 5/12 [00:03<00:11,  1.58s/it]\u001b[A\u001b[A\n",
            "\n",
            " 67%|██████▋   | 8/12 [00:03<00:04,  1.12s/it]\u001b[A\u001b[A\n",
            "\n",
            "100%|██████████| 12/12 [00:04<00:00,  2.68it/s]\n"
          ],
          "name": "stderr"
        },
        {
          "output_type": "stream",
          "text": [
            "Computing accuracy\n",
            "Test set accuracy (Precision@1) = 0.6737967914438502\n"
          ],
          "name": "stdout"
        },
        {
          "output_type": "stream",
          "text": [
            "\n",
            "\n",
            "  0%|          | 0/7 [00:00<?, ?it/s]\u001b[A\u001b[A"
          ],
          "name": "stderr"
        },
        {
          "output_type": "stream",
          "text": [
            "Epoch 58 Iteration 0: Loss = 0.0, Number of mined triplets = 227682\n"
          ],
          "name": "stdout"
        },
        {
          "output_type": "stream",
          "text": [
            "\n",
            "\n",
            " 14%|█▍        | 1/7 [00:02<00:15,  2.58s/it]\u001b[A\u001b[A\n",
            "\n",
            " 43%|████▎     | 3/7 [00:02<00:07,  1.82s/it]\u001b[A\u001b[A\n",
            "\n",
            "100%|██████████| 7/7 [00:03<00:00,  1.89it/s]\n",
            "\n",
            "\n",
            "  0%|          | 0/12 [00:00<?, ?it/s]\u001b[A\u001b[A\n",
            "\n",
            "  8%|▊         | 1/12 [00:03<00:35,  3.21s/it]\u001b[A\u001b[A\n",
            "\n",
            " 25%|██▌       | 3/12 [00:03<00:20,  2.27s/it]\u001b[A\u001b[A\n",
            "\n",
            " 42%|████▏     | 5/12 [00:03<00:11,  1.61s/it]\u001b[A\u001b[A\n",
            "\n",
            " 67%|██████▋   | 8/12 [00:03<00:04,  1.14s/it]\u001b[A\u001b[A\n",
            "\n",
            "100%|██████████| 12/12 [00:04<00:00,  2.63it/s]\n"
          ],
          "name": "stderr"
        },
        {
          "output_type": "stream",
          "text": [
            "Computing accuracy\n",
            "Test set accuracy (Precision@1) = 0.7058823529411764\n"
          ],
          "name": "stdout"
        },
        {
          "output_type": "stream",
          "text": [
            "\n",
            "\n",
            "  0%|          | 0/7 [00:00<?, ?it/s]\u001b[A\u001b[A"
          ],
          "name": "stderr"
        },
        {
          "output_type": "stream",
          "text": [
            "Epoch 59 Iteration 0: Loss = 0.0, Number of mined triplets = 227093\n"
          ],
          "name": "stdout"
        },
        {
          "output_type": "stream",
          "text": [
            "\n",
            "\n",
            " 14%|█▍        | 1/7 [00:02<00:16,  2.73s/it]\u001b[A\u001b[A\n",
            "\n",
            " 43%|████▎     | 3/7 [00:02<00:07,  1.93s/it]\u001b[A\u001b[A\n",
            "\n",
            "100%|██████████| 7/7 [00:03<00:00,  1.82it/s]\n",
            "\n",
            "\n",
            "  0%|          | 0/12 [00:00<?, ?it/s]\u001b[A\u001b[A\n",
            "\n",
            "  8%|▊         | 1/12 [00:03<00:34,  3.17s/it]\u001b[A\u001b[A\n",
            "\n",
            " 25%|██▌       | 3/12 [00:03<00:20,  2.24s/it]\u001b[A\u001b[A\n",
            "\n",
            " 42%|████▏     | 5/12 [00:03<00:11,  1.59s/it]\u001b[A\u001b[A\n",
            "\n",
            " 67%|██████▋   | 8/12 [00:03<00:04,  1.12s/it]\u001b[A\u001b[A\n",
            "\n",
            "100%|██████████| 12/12 [00:04<00:00,  2.65it/s]\n"
          ],
          "name": "stderr"
        },
        {
          "output_type": "stream",
          "text": [
            "Computing accuracy\n",
            "Test set accuracy (Precision@1) = 0.6898395721925134\n"
          ],
          "name": "stdout"
        },
        {
          "output_type": "stream",
          "text": [
            "\n",
            "\n",
            "  0%|          | 0/7 [00:00<?, ?it/s]\u001b[A\u001b[A"
          ],
          "name": "stderr"
        },
        {
          "output_type": "stream",
          "text": [
            "Epoch 60 Iteration 0: Loss = 0.0, Number of mined triplets = 228390\n"
          ],
          "name": "stdout"
        },
        {
          "output_type": "stream",
          "text": [
            "\n",
            "\n",
            " 14%|█▍        | 1/7 [00:02<00:15,  2.54s/it]\u001b[A\u001b[A\n",
            "\n",
            " 43%|████▎     | 3/7 [00:02<00:07,  1.80s/it]\u001b[A\u001b[A\n",
            "\n",
            "100%|██████████| 7/7 [00:03<00:00,  1.94it/s]\n",
            "\n",
            "\n",
            "  0%|          | 0/12 [00:00<?, ?it/s]\u001b[A\u001b[A\n",
            "\n",
            "  8%|▊         | 1/12 [00:03<00:33,  3.01s/it]\u001b[A\u001b[A\n",
            "\n",
            " 25%|██▌       | 3/12 [00:03<00:19,  2.13s/it]\u001b[A\u001b[A\n",
            "\n",
            " 50%|█████     | 6/12 [00:03<00:09,  1.50s/it]\u001b[A\u001b[A\n",
            "\n",
            " 75%|███████▌  | 9/12 [00:03<00:03,  1.06s/it]\u001b[A\u001b[A\n",
            "\n",
            "100%|██████████| 12/12 [00:04<00:00,  2.78it/s]\n"
          ],
          "name": "stderr"
        },
        {
          "output_type": "stream",
          "text": [
            "Computing accuracy\n",
            "Test set accuracy (Precision@1) = 0.713903743315508\n"
          ],
          "name": "stdout"
        },
        {
          "output_type": "stream",
          "text": [
            "\n",
            "\n",
            "  0%|          | 0/7 [00:00<?, ?it/s]\u001b[A\u001b[A"
          ],
          "name": "stderr"
        },
        {
          "output_type": "stream",
          "text": [
            "Epoch 61 Iteration 0: Loss = 0.0, Number of mined triplets = 223879\n"
          ],
          "name": "stdout"
        },
        {
          "output_type": "stream",
          "text": [
            "\n",
            "\n",
            " 14%|█▍        | 1/7 [00:02<00:16,  2.70s/it]\u001b[A\u001b[A\n",
            "\n",
            " 43%|████▎     | 3/7 [00:02<00:07,  1.91s/it]\u001b[A\u001b[A\n",
            "\n",
            "100%|██████████| 7/7 [00:03<00:00,  1.85it/s]\n",
            "\n",
            "\n",
            "  0%|          | 0/12 [00:00<?, ?it/s]\u001b[A\u001b[A\n",
            "\n",
            "  8%|▊         | 1/12 [00:02<00:29,  2.71s/it]\u001b[A\u001b[A\n",
            "\n",
            " 17%|█▋        | 2/12 [00:02<00:19,  1.98s/it]\u001b[A\u001b[A\n",
            "\n",
            " 33%|███▎      | 4/12 [00:03<00:11,  1.40s/it]\u001b[A\u001b[A\n",
            "\n",
            " 50%|█████     | 6/12 [00:03<00:05,  1.00it/s]\u001b[A\u001b[A\n",
            "\n",
            " 75%|███████▌  | 9/12 [00:03<00:02,  1.41it/s]\u001b[A\u001b[A\n",
            "\n",
            "100%|██████████| 12/12 [00:04<00:00,  2.85it/s]\n"
          ],
          "name": "stderr"
        },
        {
          "output_type": "stream",
          "text": [
            "Computing accuracy\n",
            "Test set accuracy (Precision@1) = 0.7085561497326203\n"
          ],
          "name": "stdout"
        },
        {
          "output_type": "stream",
          "text": [
            "\n",
            "\n",
            "  0%|          | 0/7 [00:00<?, ?it/s]\u001b[A\u001b[A"
          ],
          "name": "stderr"
        },
        {
          "output_type": "stream",
          "text": [
            "Epoch 62 Iteration 0: Loss = 0.0, Number of mined triplets = 227163\n"
          ],
          "name": "stdout"
        },
        {
          "output_type": "stream",
          "text": [
            "\n",
            "\n",
            " 14%|█▍        | 1/7 [00:02<00:15,  2.59s/it]\u001b[A\u001b[A\n",
            "\n",
            " 43%|████▎     | 3/7 [00:02<00:07,  1.83s/it]\u001b[A\u001b[A\n",
            "\n",
            "100%|██████████| 7/7 [00:03<00:00,  1.92it/s]\n",
            "\n",
            "\n",
            "  0%|          | 0/12 [00:00<?, ?it/s]\u001b[A\u001b[A\n",
            "\n",
            "  8%|▊         | 1/12 [00:03<00:33,  3.09s/it]\u001b[A\u001b[A\n",
            "\n",
            " 25%|██▌       | 3/12 [00:03<00:19,  2.18s/it]\u001b[A\u001b[A\n",
            "\n",
            " 42%|████▏     | 5/12 [00:03<00:10,  1.54s/it]\u001b[A\u001b[A\n",
            "\n",
            " 67%|██████▋   | 8/12 [00:03<00:04,  1.09s/it]\u001b[A\u001b[A\n",
            "\n",
            "100%|██████████| 12/12 [00:04<00:00,  2.74it/s]\n"
          ],
          "name": "stderr"
        },
        {
          "output_type": "stream",
          "text": [
            "Computing accuracy\n",
            "Test set accuracy (Precision@1) = 0.6925133689839572\n"
          ],
          "name": "stdout"
        },
        {
          "output_type": "stream",
          "text": [
            "\n",
            "\n",
            "  0%|          | 0/7 [00:00<?, ?it/s]\u001b[A\u001b[A"
          ],
          "name": "stderr"
        },
        {
          "output_type": "stream",
          "text": [
            "Epoch 63 Iteration 0: Loss = 0.0, Number of mined triplets = 228493\n"
          ],
          "name": "stdout"
        },
        {
          "output_type": "stream",
          "text": [
            "\n",
            "\n",
            " 14%|█▍        | 1/7 [00:02<00:15,  2.65s/it]\u001b[A\u001b[A\n",
            "\n",
            " 43%|████▎     | 3/7 [00:02<00:07,  1.87s/it]\u001b[A\u001b[A\n",
            "\n",
            "100%|██████████| 7/7 [00:03<00:00,  1.86it/s]\n",
            "\n",
            "\n",
            "  0%|          | 0/12 [00:00<?, ?it/s]\u001b[A\u001b[A\n",
            "\n",
            "  8%|▊         | 1/12 [00:03<00:34,  3.14s/it]\u001b[A\u001b[A\n",
            "\n",
            " 25%|██▌       | 3/12 [00:03<00:19,  2.22s/it]\u001b[A\u001b[A\n",
            "\n",
            " 42%|████▏     | 5/12 [00:03<00:10,  1.57s/it]\u001b[A\u001b[A\n",
            "\n",
            " 67%|██████▋   | 8/12 [00:03<00:04,  1.11s/it]\u001b[A\u001b[A\n",
            "\n",
            "100%|██████████| 12/12 [00:04<00:00,  2.72it/s]\n"
          ],
          "name": "stderr"
        },
        {
          "output_type": "stream",
          "text": [
            "Computing accuracy\n",
            "Test set accuracy (Precision@1) = 0.6925133689839572\n"
          ],
          "name": "stdout"
        },
        {
          "output_type": "stream",
          "text": [
            "\n",
            "\n",
            "  0%|          | 0/7 [00:00<?, ?it/s]\u001b[A\u001b[A"
          ],
          "name": "stderr"
        },
        {
          "output_type": "stream",
          "text": [
            "Epoch 64 Iteration 0: Loss = 0.0, Number of mined triplets = 226540\n"
          ],
          "name": "stdout"
        },
        {
          "output_type": "stream",
          "text": [
            "\n",
            "\n",
            " 14%|█▍        | 1/7 [00:02<00:16,  2.73s/it]\u001b[A\u001b[A\n",
            "\n",
            " 43%|████▎     | 3/7 [00:02<00:07,  1.93s/it]\u001b[A\u001b[A\n",
            "\n",
            "100%|██████████| 7/7 [00:03<00:00,  1.82it/s]\n",
            "\n",
            "\n",
            "  0%|          | 0/12 [00:00<?, ?it/s]\u001b[A\u001b[A\n",
            "\n",
            "  8%|▊         | 1/12 [00:03<00:36,  3.34s/it]\u001b[A\u001b[A\n",
            "\n",
            " 25%|██▌       | 3/12 [00:03<00:21,  2.35s/it]\u001b[A\u001b[A\n",
            "\n",
            " 42%|████▏     | 5/12 [00:03<00:11,  1.66s/it]\u001b[A\u001b[A\n",
            "\n",
            " 67%|██████▋   | 8/12 [00:03<00:04,  1.18s/it]\u001b[A\u001b[A\n",
            "\n",
            "100%|██████████| 12/12 [00:04<00:00,  2.58it/s]\n"
          ],
          "name": "stderr"
        },
        {
          "output_type": "stream",
          "text": [
            "Computing accuracy\n",
            "Test set accuracy (Precision@1) = 0.6978609625668449\n"
          ],
          "name": "stdout"
        },
        {
          "output_type": "stream",
          "text": [
            "\n",
            "\n",
            "  0%|          | 0/7 [00:00<?, ?it/s]\u001b[A\u001b[A"
          ],
          "name": "stderr"
        },
        {
          "output_type": "stream",
          "text": [
            "Epoch 65 Iteration 0: Loss = 0.0, Number of mined triplets = 228438\n"
          ],
          "name": "stdout"
        },
        {
          "output_type": "stream",
          "text": [
            "\n",
            "\n",
            " 14%|█▍        | 1/7 [00:02<00:16,  2.77s/it]\u001b[A\u001b[A\n",
            "\n",
            " 43%|████▎     | 3/7 [00:02<00:07,  1.96s/it]\u001b[A\u001b[A\n",
            "\n",
            "100%|██████████| 7/7 [00:03<00:00,  1.80it/s]\n",
            "\n",
            "\n",
            "  0%|          | 0/12 [00:00<?, ?it/s]\u001b[A\u001b[A\n",
            "\n",
            "  8%|▊         | 1/12 [00:03<00:36,  3.31s/it]\u001b[A\u001b[A\n",
            "\n",
            " 25%|██▌       | 3/12 [00:03<00:20,  2.33s/it]\u001b[A\u001b[A\n",
            "\n",
            " 50%|█████     | 6/12 [00:03<00:09,  1.64s/it]\u001b[A\u001b[A\n",
            "\n",
            " 75%|███████▌  | 9/12 [00:03<00:03,  1.16s/it]\u001b[A\u001b[A\n",
            "\n",
            "100%|██████████| 12/12 [00:04<00:00,  2.60it/s]\n"
          ],
          "name": "stderr"
        },
        {
          "output_type": "stream",
          "text": [
            "Computing accuracy\n",
            "Test set accuracy (Precision@1) = 0.7085561497326203\n"
          ],
          "name": "stdout"
        },
        {
          "output_type": "stream",
          "text": [
            "\n",
            "\n",
            "  0%|          | 0/7 [00:00<?, ?it/s]\u001b[A\u001b[A"
          ],
          "name": "stderr"
        },
        {
          "output_type": "stream",
          "text": [
            "Epoch 66 Iteration 0: Loss = 0.0, Number of mined triplets = 228067\n"
          ],
          "name": "stdout"
        },
        {
          "output_type": "stream",
          "text": [
            "\n",
            "\n",
            " 14%|█▍        | 1/7 [00:02<00:16,  2.75s/it]\u001b[A\u001b[A\n",
            "\n",
            " 43%|████▎     | 3/7 [00:02<00:07,  1.95s/it]\u001b[A\u001b[A\n",
            "\n",
            "100%|██████████| 7/7 [00:03<00:00,  1.78it/s]\n",
            "\n",
            "\n",
            "  0%|          | 0/12 [00:00<?, ?it/s]\u001b[A\u001b[A\n",
            "\n",
            "  8%|▊         | 1/12 [00:03<00:32,  2.99s/it]\u001b[A\u001b[A\n",
            "\n",
            " 17%|█▋        | 2/12 [00:03<00:21,  2.16s/it]\u001b[A\u001b[A\n",
            "\n",
            " 33%|███▎      | 4/12 [00:03<00:12,  1.53s/it]\u001b[A\u001b[A\n",
            "\n",
            " 58%|█████▊    | 7/12 [00:03<00:05,  1.08s/it]\u001b[A\u001b[A\n",
            "\n",
            "100%|██████████| 12/12 [00:04<00:00,  2.73it/s]\n"
          ],
          "name": "stderr"
        },
        {
          "output_type": "stream",
          "text": [
            "Computing accuracy\n",
            "Test set accuracy (Precision@1) = 0.7085561497326203\n"
          ],
          "name": "stdout"
        },
        {
          "output_type": "stream",
          "text": [
            "\n",
            "\n",
            "  0%|          | 0/7 [00:00<?, ?it/s]\u001b[A\u001b[A"
          ],
          "name": "stderr"
        },
        {
          "output_type": "stream",
          "text": [
            "Epoch 67 Iteration 0: Loss = 0.0, Number of mined triplets = 228449\n"
          ],
          "name": "stdout"
        },
        {
          "output_type": "stream",
          "text": [
            "\n",
            "\n",
            " 14%|█▍        | 1/7 [00:02<00:15,  2.59s/it]\u001b[A\u001b[A\n",
            "\n",
            " 43%|████▎     | 3/7 [00:02<00:07,  1.83s/it]\u001b[A\u001b[A\n",
            "\n",
            "100%|██████████| 7/7 [00:03<00:00,  1.88it/s]\n",
            "\n",
            "\n",
            "  0%|          | 0/12 [00:00<?, ?it/s]\u001b[A\u001b[A\n",
            "\n",
            "  8%|▊         | 1/12 [00:02<00:31,  2.86s/it]\u001b[A\u001b[A\n",
            "\n",
            " 17%|█▋        | 2/12 [00:03<00:20,  2.10s/it]\u001b[A\u001b[A\n",
            "\n",
            " 33%|███▎      | 4/12 [00:03<00:11,  1.49s/it]\u001b[A\u001b[A\n",
            "\n",
            " 58%|█████▊    | 7/12 [00:03<00:05,  1.05s/it]\u001b[A\u001b[A\n",
            "\n",
            "100%|██████████| 12/12 [00:04<00:00,  2.73it/s]\n"
          ],
          "name": "stderr"
        },
        {
          "output_type": "stream",
          "text": [
            "Computing accuracy\n",
            "Test set accuracy (Precision@1) = 0.6818181818181818\n"
          ],
          "name": "stdout"
        },
        {
          "output_type": "stream",
          "text": [
            "\n",
            "\n",
            "  0%|          | 0/7 [00:00<?, ?it/s]\u001b[A\u001b[A"
          ],
          "name": "stderr"
        },
        {
          "output_type": "stream",
          "text": [
            "Epoch 68 Iteration 0: Loss = 0.0, Number of mined triplets = 225897\n"
          ],
          "name": "stdout"
        },
        {
          "output_type": "stream",
          "text": [
            "\n",
            "\n",
            " 14%|█▍        | 1/7 [00:02<00:16,  2.71s/it]\u001b[A\u001b[A\n",
            "\n",
            " 43%|████▎     | 3/7 [00:02<00:07,  1.91s/it]\u001b[A\u001b[A\n",
            "\n",
            "100%|██████████| 7/7 [00:03<00:00,  1.86it/s]\n",
            "\n",
            "\n",
            "  0%|          | 0/12 [00:00<?, ?it/s]\u001b[A\u001b[A\n",
            "\n",
            "  8%|▊         | 1/12 [00:03<00:34,  3.10s/it]\u001b[A\u001b[A\n",
            "\n",
            " 25%|██▌       | 3/12 [00:03<00:19,  2.19s/it]\u001b[A\u001b[A\n",
            "\n",
            " 50%|█████     | 6/12 [00:03<00:09,  1.54s/it]\u001b[A\u001b[A\n",
            "\n",
            " 75%|███████▌  | 9/12 [00:03<00:03,  1.09s/it]\u001b[A\u001b[A\n",
            "\n",
            "100%|██████████| 12/12 [00:04<00:00,  2.76it/s]\n"
          ],
          "name": "stderr"
        },
        {
          "output_type": "stream",
          "text": [
            "Computing accuracy\n",
            "Test set accuracy (Precision@1) = 0.7058823529411764\n"
          ],
          "name": "stdout"
        },
        {
          "output_type": "stream",
          "text": [
            "\n",
            "\n",
            "  0%|          | 0/7 [00:00<?, ?it/s]\u001b[A\u001b[A"
          ],
          "name": "stderr"
        },
        {
          "output_type": "stream",
          "text": [
            "Epoch 69 Iteration 0: Loss = 0.0, Number of mined triplets = 226359\n"
          ],
          "name": "stdout"
        },
        {
          "output_type": "stream",
          "text": [
            "\n",
            "\n",
            " 14%|█▍        | 1/7 [00:02<00:16,  2.67s/it]\u001b[A\u001b[A\n",
            "\n",
            " 43%|████▎     | 3/7 [00:02<00:07,  1.89s/it]\u001b[A\u001b[A\n",
            "\n",
            "100%|██████████| 7/7 [00:03<00:00,  1.88it/s]\n",
            "\n",
            "\n",
            "  0%|          | 0/12 [00:00<?, ?it/s]\u001b[A\u001b[A\n",
            "\n",
            "  8%|▊         | 1/12 [00:03<00:33,  3.09s/it]\u001b[A\u001b[A\n",
            "\n",
            " 25%|██▌       | 3/12 [00:03<00:19,  2.18s/it]\u001b[A\u001b[A\n",
            "\n",
            " 42%|████▏     | 5/12 [00:03<00:10,  1.54s/it]\u001b[A\u001b[A\n",
            "\n",
            " 67%|██████▋   | 8/12 [00:03<00:04,  1.09s/it]\u001b[A\u001b[A\n",
            "\n",
            "100%|██████████| 12/12 [00:04<00:00,  2.76it/s]\n"
          ],
          "name": "stderr"
        },
        {
          "output_type": "stream",
          "text": [
            "Computing accuracy\n",
            "Test set accuracy (Precision@1) = 0.7112299465240641\n"
          ],
          "name": "stdout"
        },
        {
          "output_type": "stream",
          "text": [
            "\n",
            "\n",
            "  0%|          | 0/7 [00:00<?, ?it/s]\u001b[A\u001b[A"
          ],
          "name": "stderr"
        },
        {
          "output_type": "stream",
          "text": [
            "Epoch 70 Iteration 0: Loss = 0.0, Number of mined triplets = 227580\n"
          ],
          "name": "stdout"
        },
        {
          "output_type": "stream",
          "text": [
            "\n",
            "\n",
            " 14%|█▍        | 1/7 [00:02<00:15,  2.57s/it]\u001b[A\u001b[A\n",
            "\n",
            " 43%|████▎     | 3/7 [00:02<00:07,  1.83s/it]\u001b[A\u001b[A\n",
            "\n",
            "100%|██████████| 7/7 [00:03<00:00,  1.88it/s]\n",
            "\n",
            "\n",
            "  0%|          | 0/12 [00:00<?, ?it/s]\u001b[A\u001b[A\n",
            "\n",
            "  8%|▊         | 1/12 [00:03<00:34,  3.15s/it]\u001b[A\u001b[A\n",
            "\n",
            " 25%|██▌       | 3/12 [00:03<00:20,  2.22s/it]\u001b[A\u001b[A\n",
            "\n",
            " 42%|████▏     | 5/12 [00:03<00:11,  1.58s/it]\u001b[A\u001b[A\n",
            "\n",
            " 67%|██████▋   | 8/12 [00:03<00:04,  1.12s/it]\u001b[A\u001b[A\n",
            "\n",
            "100%|██████████| 12/12 [00:04<00:00,  2.63it/s]\n"
          ],
          "name": "stderr"
        },
        {
          "output_type": "stream",
          "text": [
            "Computing accuracy\n",
            "Test set accuracy (Precision@1) = 0.713903743315508\n"
          ],
          "name": "stdout"
        },
        {
          "output_type": "stream",
          "text": [
            "\n",
            "\n",
            "  0%|          | 0/7 [00:00<?, ?it/s]\u001b[A\u001b[A"
          ],
          "name": "stderr"
        },
        {
          "output_type": "stream",
          "text": [
            "Epoch 71 Iteration 0: Loss = 0.0, Number of mined triplets = 230199\n"
          ],
          "name": "stdout"
        },
        {
          "output_type": "stream",
          "text": [
            "\n",
            "\n",
            " 14%|█▍        | 1/7 [00:02<00:17,  2.85s/it]\u001b[A\u001b[A\n",
            "\n",
            " 43%|████▎     | 3/7 [00:02<00:08,  2.01s/it]\u001b[A\u001b[A\n",
            "\n",
            "100%|██████████| 7/7 [00:03<00:00,  1.75it/s]\n",
            "\n",
            "\n",
            "  0%|          | 0/12 [00:00<?, ?it/s]\u001b[A\u001b[A\n",
            "\n",
            "  8%|▊         | 1/12 [00:03<00:35,  3.23s/it]\u001b[A\u001b[A\n",
            "\n",
            " 17%|█▋        | 2/12 [00:03<00:23,  2.31s/it]\u001b[A\u001b[A\n",
            "\n",
            " 33%|███▎      | 4/12 [00:03<00:13,  1.64s/it]\u001b[A\u001b[A\n",
            "\n",
            " 50%|█████     | 6/12 [00:03<00:06,  1.16s/it]\u001b[A\u001b[A\n",
            "\n",
            " 75%|███████▌  | 9/12 [00:03<00:02,  1.21it/s]\u001b[A\u001b[A\n",
            "\n",
            "100%|██████████| 12/12 [00:04<00:00,  2.57it/s]\n"
          ],
          "name": "stderr"
        },
        {
          "output_type": "stream",
          "text": [
            "Computing accuracy\n",
            "Test set accuracy (Precision@1) = 0.6925133689839572\n"
          ],
          "name": "stdout"
        },
        {
          "output_type": "stream",
          "text": [
            "\n",
            "\n",
            "  0%|          | 0/7 [00:00<?, ?it/s]\u001b[A\u001b[A"
          ],
          "name": "stderr"
        },
        {
          "output_type": "stream",
          "text": [
            "Epoch 72 Iteration 0: Loss = 0.0, Number of mined triplets = 225341\n"
          ],
          "name": "stdout"
        },
        {
          "output_type": "stream",
          "text": [
            "\n",
            "\n",
            " 14%|█▍        | 1/7 [00:02<00:17,  2.89s/it]\u001b[A\u001b[A\n",
            "\n",
            " 43%|████▎     | 3/7 [00:03<00:08,  2.04s/it]\u001b[A\u001b[A\n",
            "\n",
            "100%|██████████| 7/7 [00:04<00:00,  1.75it/s]\n",
            "\n",
            "\n",
            "  0%|          | 0/12 [00:00<?, ?it/s]\u001b[A\u001b[A\n",
            "\n",
            "  8%|▊         | 1/12 [00:03<00:36,  3.28s/it]\u001b[A\u001b[A\n",
            "\n",
            " 25%|██▌       | 3/12 [00:03<00:20,  2.31s/it]\u001b[A\u001b[A\n",
            "\n",
            " 50%|█████     | 6/12 [00:03<00:09,  1.63s/it]\u001b[A\u001b[A\n",
            "\n",
            " 75%|███████▌  | 9/12 [00:03<00:03,  1.16s/it]\u001b[A\u001b[A\n",
            "\n",
            "100%|██████████| 12/12 [00:04<00:00,  2.62it/s]\n"
          ],
          "name": "stderr"
        },
        {
          "output_type": "stream",
          "text": [
            "Computing accuracy\n",
            "Test set accuracy (Precision@1) = 0.7112299465240641\n"
          ],
          "name": "stdout"
        },
        {
          "output_type": "stream",
          "text": [
            "\n",
            "\n",
            "  0%|          | 0/7 [00:00<?, ?it/s]\u001b[A\u001b[A"
          ],
          "name": "stderr"
        },
        {
          "output_type": "stream",
          "text": [
            "Epoch 73 Iteration 0: Loss = 0.0, Number of mined triplets = 231471\n"
          ],
          "name": "stdout"
        },
        {
          "output_type": "stream",
          "text": [
            "\n",
            "\n",
            " 14%|█▍        | 1/7 [00:02<00:15,  2.67s/it]\u001b[A\u001b[A\n",
            "\n",
            " 43%|████▎     | 3/7 [00:02<00:07,  1.89s/it]\u001b[A\u001b[A\n",
            "\n",
            "100%|██████████| 7/7 [00:03<00:00,  1.85it/s]\n",
            "\n",
            "\n",
            "  0%|          | 0/12 [00:00<?, ?it/s]\u001b[A\u001b[A\n",
            "\n",
            "  8%|▊         | 1/12 [00:03<00:36,  3.31s/it]\u001b[A\u001b[A\n",
            "\n",
            " 25%|██▌       | 3/12 [00:03<00:20,  2.33s/it]\u001b[A\u001b[A\n",
            "\n",
            " 42%|████▏     | 5/12 [00:03<00:11,  1.65s/it]\u001b[A\u001b[A\n",
            "\n",
            " 67%|██████▋   | 8/12 [00:03<00:04,  1.17s/it]\u001b[A\u001b[A\n",
            "\n",
            "100%|██████████| 12/12 [00:04<00:00,  2.58it/s]\n"
          ],
          "name": "stderr"
        },
        {
          "output_type": "stream",
          "text": [
            "Computing accuracy\n",
            "Test set accuracy (Precision@1) = 0.7032085561497325\n"
          ],
          "name": "stdout"
        },
        {
          "output_type": "stream",
          "text": [
            "\n",
            "\n",
            "  0%|          | 0/7 [00:00<?, ?it/s]\u001b[A\u001b[A"
          ],
          "name": "stderr"
        },
        {
          "output_type": "stream",
          "text": [
            "Epoch 74 Iteration 0: Loss = 0.0, Number of mined triplets = 228792\n"
          ],
          "name": "stdout"
        },
        {
          "output_type": "stream",
          "text": [
            "\n",
            "\n",
            " 14%|█▍        | 1/7 [00:02<00:17,  2.88s/it]\u001b[A\u001b[A\n",
            "\n",
            " 43%|████▎     | 3/7 [00:02<00:08,  2.03s/it]\u001b[A\u001b[A\n",
            "\n",
            "100%|██████████| 7/7 [00:04<00:00,  1.74it/s]\n",
            "\n",
            "\n",
            "  0%|          | 0/12 [00:00<?, ?it/s]\u001b[A\u001b[A\n",
            "\n",
            "  8%|▊         | 1/12 [00:03<00:34,  3.17s/it]\u001b[A\u001b[A\n",
            "\n",
            " 17%|█▋        | 2/12 [00:03<00:22,  2.29s/it]\u001b[A\u001b[A\n",
            "\n",
            " 33%|███▎      | 4/12 [00:03<00:12,  1.62s/it]\u001b[A\u001b[A\n",
            "\n",
            " 50%|█████     | 6/12 [00:03<00:06,  1.15s/it]\u001b[A\u001b[A\n",
            "\n",
            " 75%|███████▌  | 9/12 [00:03<00:02,  1.22it/s]\u001b[A\u001b[A\n",
            "\n",
            "100%|██████████| 12/12 [00:04<00:00,  2.55it/s]\n"
          ],
          "name": "stderr"
        },
        {
          "output_type": "stream",
          "text": [
            "Computing accuracy\n",
            "Test set accuracy (Precision@1) = 0.6711229946524063\n"
          ],
          "name": "stdout"
        },
        {
          "output_type": "stream",
          "text": [
            "\n",
            "\n",
            "  0%|          | 0/7 [00:00<?, ?it/s]\u001b[A\u001b[A"
          ],
          "name": "stderr"
        },
        {
          "output_type": "stream",
          "text": [
            "Epoch 75 Iteration 0: Loss = 0.0, Number of mined triplets = 228054\n"
          ],
          "name": "stdout"
        },
        {
          "output_type": "stream",
          "text": [
            "\n",
            "\n",
            " 14%|█▍        | 1/7 [00:02<00:17,  2.85s/it]\u001b[A\u001b[A\n",
            "\n",
            " 43%|████▎     | 3/7 [00:02<00:08,  2.02s/it]\u001b[A\u001b[A\n",
            "\n",
            "100%|██████████| 7/7 [00:04<00:00,  1.75it/s]\n",
            "\n",
            "\n",
            "  0%|          | 0/12 [00:00<?, ?it/s]\u001b[A\u001b[A\n",
            "\n",
            "  8%|▊         | 1/12 [00:03<00:37,  3.44s/it]\u001b[A\u001b[A\n",
            "\n",
            " 25%|██▌       | 3/12 [00:03<00:21,  2.42s/it]\u001b[A\u001b[A\n",
            "\n",
            " 42%|████▏     | 5/12 [00:03<00:11,  1.71s/it]\u001b[A\u001b[A\n",
            "\n",
            " 67%|██████▋   | 8/12 [00:03<00:04,  1.21s/it]\u001b[A\u001b[A\n",
            "\n",
            "100%|██████████| 12/12 [00:04<00:00,  2.53it/s]\n"
          ],
          "name": "stderr"
        },
        {
          "output_type": "stream",
          "text": [
            "Computing accuracy\n",
            "Test set accuracy (Precision@1) = 0.7219251336898396\n"
          ],
          "name": "stdout"
        },
        {
          "output_type": "stream",
          "text": [
            "\n",
            "\n",
            "  0%|          | 0/7 [00:00<?, ?it/s]\u001b[A\u001b[A"
          ],
          "name": "stderr"
        },
        {
          "output_type": "stream",
          "text": [
            "Epoch 76 Iteration 0: Loss = 0.0, Number of mined triplets = 225962\n"
          ],
          "name": "stdout"
        },
        {
          "output_type": "stream",
          "text": [
            "\n",
            "\n",
            " 14%|█▍        | 1/7 [00:02<00:16,  2.74s/it]\u001b[A\u001b[A\n",
            "\n",
            " 43%|████▎     | 3/7 [00:02<00:07,  1.93s/it]\u001b[A\u001b[A\n",
            "\n",
            "100%|██████████| 7/7 [00:03<00:00,  1.84it/s]\n",
            "\n",
            "\n",
            "  0%|          | 0/12 [00:00<?, ?it/s]\u001b[A\u001b[A\n",
            "\n",
            "  8%|▊         | 1/12 [00:03<00:34,  3.14s/it]\u001b[A\u001b[A\n",
            "\n",
            " 25%|██▌       | 3/12 [00:03<00:19,  2.22s/it]\u001b[A\u001b[A\n",
            "\n",
            " 50%|█████     | 6/12 [00:03<00:09,  1.57s/it]\u001b[A\u001b[A\n",
            "\n",
            " 75%|███████▌  | 9/12 [00:03<00:03,  1.11s/it]\u001b[A\u001b[A\n",
            "\n",
            "100%|██████████| 12/12 [00:04<00:00,  2.70it/s]\n"
          ],
          "name": "stderr"
        },
        {
          "output_type": "stream",
          "text": [
            "Computing accuracy\n",
            "Test set accuracy (Precision@1) = 0.7192513368983957\n"
          ],
          "name": "stdout"
        },
        {
          "output_type": "stream",
          "text": [
            "\n",
            "\n",
            "  0%|          | 0/7 [00:00<?, ?it/s]\u001b[A\u001b[A"
          ],
          "name": "stderr"
        },
        {
          "output_type": "stream",
          "text": [
            "Epoch 77 Iteration 0: Loss = 0.0, Number of mined triplets = 225167\n"
          ],
          "name": "stdout"
        },
        {
          "output_type": "stream",
          "text": [
            "\n",
            "\n",
            " 14%|█▍        | 1/7 [00:02<00:15,  2.63s/it]\u001b[A\u001b[A\n",
            "\n",
            " 29%|██▊       | 2/7 [00:02<00:09,  1.87s/it]\u001b[A\u001b[A\n",
            "\n",
            " 57%|█████▋    | 4/7 [00:02<00:03,  1.33s/it]\u001b[A\u001b[A\n",
            "\n",
            "100%|██████████| 7/7 [00:03<00:00,  1.85it/s]\n",
            "\n",
            "\n",
            "  0%|          | 0/12 [00:00<?, ?it/s]\u001b[A\u001b[A\n",
            "\n",
            "  8%|▊         | 1/12 [00:03<00:36,  3.29s/it]\u001b[A\u001b[A\n",
            "\n",
            " 25%|██▌       | 3/12 [00:03<00:20,  2.32s/it]\u001b[A\u001b[A\n",
            "\n",
            " 50%|█████     | 6/12 [00:03<00:09,  1.64s/it]\u001b[A\u001b[A\n",
            "\n",
            " 75%|███████▌  | 9/12 [00:03<00:03,  1.16s/it]\u001b[A\u001b[A\n",
            "\n",
            "100%|██████████| 12/12 [00:04<00:00,  2.63it/s]\n"
          ],
          "name": "stderr"
        },
        {
          "output_type": "stream",
          "text": [
            "Computing accuracy\n",
            "Test set accuracy (Precision@1) = 0.6871657754010695\n"
          ],
          "name": "stdout"
        },
        {
          "output_type": "stream",
          "text": [
            "\n",
            "\n",
            "  0%|          | 0/7 [00:00<?, ?it/s]\u001b[A\u001b[A"
          ],
          "name": "stderr"
        },
        {
          "output_type": "stream",
          "text": [
            "Epoch 78 Iteration 0: Loss = 0.0, Number of mined triplets = 227282\n"
          ],
          "name": "stdout"
        },
        {
          "output_type": "stream",
          "text": [
            "\n",
            "\n",
            " 14%|█▍        | 1/7 [00:02<00:16,  2.79s/it]\u001b[A\u001b[A\n",
            "\n",
            " 43%|████▎     | 3/7 [00:02<00:07,  1.97s/it]\u001b[A\u001b[A\n",
            "\n",
            "100%|██████████| 7/7 [00:03<00:00,  1.81it/s]\n",
            "\n",
            "\n",
            "  0%|          | 0/12 [00:00<?, ?it/s]\u001b[A\u001b[A\n",
            "\n",
            "  8%|▊         | 1/12 [00:03<00:35,  3.20s/it]\u001b[A\u001b[A\n",
            "\n",
            " 25%|██▌       | 3/12 [00:03<00:20,  2.26s/it]\u001b[A\u001b[A\n",
            "\n",
            " 42%|████▏     | 5/12 [00:03<00:11,  1.60s/it]\u001b[A\u001b[A\n",
            "\n",
            " 67%|██████▋   | 8/12 [00:03<00:04,  1.13s/it]\u001b[A\u001b[A\n",
            "\n",
            "100%|██████████| 12/12 [00:04<00:00,  2.67it/s]\n"
          ],
          "name": "stderr"
        },
        {
          "output_type": "stream",
          "text": [
            "Computing accuracy\n",
            "Test set accuracy (Precision@1) = 0.7433155080213903\n"
          ],
          "name": "stdout"
        },
        {
          "output_type": "stream",
          "text": [
            "\n",
            "\n",
            "  0%|          | 0/7 [00:00<?, ?it/s]\u001b[A\u001b[A"
          ],
          "name": "stderr"
        },
        {
          "output_type": "stream",
          "text": [
            "Epoch 79 Iteration 0: Loss = 0.0, Number of mined triplets = 226487\n"
          ],
          "name": "stdout"
        },
        {
          "output_type": "stream",
          "text": [
            "\n",
            "\n",
            " 14%|█▍        | 1/7 [00:02<00:16,  2.76s/it]\u001b[A\u001b[A\n",
            "\n",
            " 43%|████▎     | 3/7 [00:02<00:07,  1.95s/it]\u001b[A\u001b[A\n",
            "\n",
            "100%|██████████| 7/7 [00:03<00:00,  1.83it/s]\n",
            "\n",
            "\n",
            "  0%|          | 0/12 [00:00<?, ?it/s]\u001b[A\u001b[A\n",
            "\n",
            "  8%|▊         | 1/12 [00:03<00:35,  3.24s/it]\u001b[A\u001b[A\n",
            "\n",
            " 25%|██▌       | 3/12 [00:03<00:20,  2.29s/it]\u001b[A\u001b[A\n",
            "\n",
            " 42%|████▏     | 5/12 [00:03<00:11,  1.62s/it]\u001b[A\u001b[A\n",
            "\n",
            " 67%|██████▋   | 8/12 [00:03<00:04,  1.14s/it]\u001b[A\u001b[A\n",
            "\n",
            "100%|██████████| 12/12 [00:04<00:00,  2.63it/s]\n"
          ],
          "name": "stderr"
        },
        {
          "output_type": "stream",
          "text": [
            "Computing accuracy\n",
            "Test set accuracy (Precision@1) = 0.6925133689839572\n"
          ],
          "name": "stdout"
        },
        {
          "output_type": "stream",
          "text": [
            "\n",
            "\n",
            "  0%|          | 0/7 [00:00<?, ?it/s]\u001b[A\u001b[A"
          ],
          "name": "stderr"
        },
        {
          "output_type": "stream",
          "text": [
            "Epoch 80 Iteration 0: Loss = 0.0, Number of mined triplets = 224551\n"
          ],
          "name": "stdout"
        },
        {
          "output_type": "stream",
          "text": [
            "\n",
            "\n",
            " 14%|█▍        | 1/7 [00:02<00:17,  2.96s/it]\u001b[A\u001b[A\n",
            "\n",
            " 43%|████▎     | 3/7 [00:03<00:08,  2.09s/it]\u001b[A\u001b[A\n",
            "\n",
            "100%|██████████| 7/7 [00:04<00:00,  1.72it/s]\n",
            "\n",
            "\n",
            "  0%|          | 0/12 [00:00<?, ?it/s]\u001b[A\u001b[A\n",
            "\n",
            "  8%|▊         | 1/12 [00:03<00:37,  3.42s/it]\u001b[A\u001b[A\n",
            "\n",
            " 25%|██▌       | 3/12 [00:03<00:21,  2.41s/it]\u001b[A\u001b[A\n",
            "\n",
            " 42%|████▏     | 5/12 [00:03<00:11,  1.70s/it]\u001b[A\u001b[A\n",
            "\n",
            " 67%|██████▋   | 8/12 [00:03<00:04,  1.20s/it]\u001b[A\u001b[A\n",
            "\n",
            "100%|██████████| 12/12 [00:04<00:00,  2.54it/s]\n"
          ],
          "name": "stderr"
        },
        {
          "output_type": "stream",
          "text": [
            "Computing accuracy\n",
            "Test set accuracy (Precision@1) = 0.713903743315508\n"
          ],
          "name": "stdout"
        },
        {
          "output_type": "stream",
          "text": [
            "\n",
            "\n",
            "  0%|          | 0/7 [00:00<?, ?it/s]\u001b[A\u001b[A"
          ],
          "name": "stderr"
        },
        {
          "output_type": "stream",
          "text": [
            "Epoch 81 Iteration 0: Loss = 0.0, Number of mined triplets = 232029\n"
          ],
          "name": "stdout"
        },
        {
          "output_type": "stream",
          "text": [
            "\n",
            "\n",
            " 14%|█▍        | 1/7 [00:02<00:17,  2.97s/it]\u001b[A\u001b[A\n",
            "\n",
            " 43%|████▎     | 3/7 [00:03<00:08,  2.09s/it]\u001b[A\u001b[A\n",
            "\n",
            "100%|██████████| 7/7 [00:04<00:00,  1.71it/s]\n",
            "\n",
            "\n",
            "  0%|          | 0/12 [00:00<?, ?it/s]\u001b[A\u001b[A\n",
            "\n",
            "  8%|▊         | 1/12 [00:03<00:34,  3.13s/it]\u001b[A\u001b[A\n",
            "\n",
            " 17%|█▋        | 2/12 [00:03<00:23,  2.30s/it]\u001b[A\u001b[A\n",
            "\n",
            " 33%|███▎      | 4/12 [00:03<00:13,  1.63s/it]\u001b[A\u001b[A\n",
            "\n",
            " 50%|█████     | 6/12 [00:03<00:06,  1.16s/it]\u001b[A\u001b[A\n",
            "\n",
            " 75%|███████▌  | 9/12 [00:03<00:02,  1.22it/s]\u001b[A\u001b[A\n",
            "\n",
            "100%|██████████| 12/12 [00:04<00:00,  2.49it/s]\n"
          ],
          "name": "stderr"
        },
        {
          "output_type": "stream",
          "text": [
            "Computing accuracy\n",
            "Test set accuracy (Precision@1) = 0.6951871657754011\n"
          ],
          "name": "stdout"
        },
        {
          "output_type": "stream",
          "text": [
            "\n",
            "\n",
            "  0%|          | 0/7 [00:00<?, ?it/s]\u001b[A\u001b[A"
          ],
          "name": "stderr"
        },
        {
          "output_type": "stream",
          "text": [
            "Epoch 82 Iteration 0: Loss = 0.0, Number of mined triplets = 228924\n"
          ],
          "name": "stdout"
        },
        {
          "output_type": "stream",
          "text": [
            "\n",
            "\n",
            " 14%|█▍        | 1/7 [00:02<00:17,  2.87s/it]\u001b[A\u001b[A\n",
            "\n",
            " 43%|████▎     | 3/7 [00:02<00:08,  2.03s/it]\u001b[A\u001b[A\n",
            "\n",
            "100%|██████████| 7/7 [00:03<00:00,  1.77it/s]\n",
            "\n",
            "\n",
            "  0%|          | 0/12 [00:00<?, ?it/s]\u001b[A\u001b[A\n",
            "\n",
            "  8%|▊         | 1/12 [00:03<00:35,  3.22s/it]\u001b[A\u001b[A\n",
            "\n",
            " 25%|██▌       | 3/12 [00:03<00:20,  2.27s/it]\u001b[A\u001b[A\n",
            "\n",
            " 42%|████▏     | 5/12 [00:03<00:11,  1.61s/it]\u001b[A\u001b[A\n",
            "\n",
            " 67%|██████▋   | 8/12 [00:03<00:04,  1.14s/it]\u001b[A\u001b[A\n",
            "\n",
            "100%|██████████| 12/12 [00:04<00:00,  2.64it/s]\n"
          ],
          "name": "stderr"
        },
        {
          "output_type": "stream",
          "text": [
            "Computing accuracy\n",
            "Test set accuracy (Precision@1) = 0.6791443850267379\n"
          ],
          "name": "stdout"
        },
        {
          "output_type": "stream",
          "text": [
            "\n",
            "\n",
            "  0%|          | 0/7 [00:00<?, ?it/s]\u001b[A\u001b[A"
          ],
          "name": "stderr"
        },
        {
          "output_type": "stream",
          "text": [
            "Epoch 83 Iteration 0: Loss = 0.0, Number of mined triplets = 230059\n"
          ],
          "name": "stdout"
        },
        {
          "output_type": "stream",
          "text": [
            "\n",
            "\n",
            " 14%|█▍        | 1/7 [00:02<00:17,  2.84s/it]\u001b[A\u001b[A\n",
            "\n",
            " 43%|████▎     | 3/7 [00:02<00:08,  2.00s/it]\u001b[A\u001b[A\n",
            "\n",
            "100%|██████████| 7/7 [00:03<00:00,  1.80it/s]\n",
            "\n",
            "\n",
            "  0%|          | 0/12 [00:00<?, ?it/s]\u001b[A\u001b[A\n",
            "\n",
            "  8%|▊         | 1/12 [00:03<00:35,  3.25s/it]\u001b[A\u001b[A\n",
            "\n",
            " 25%|██▌       | 3/12 [00:03<00:20,  2.29s/it]\u001b[A\u001b[A\n",
            "\n",
            " 42%|████▏     | 5/12 [00:03<00:11,  1.62s/it]\u001b[A\u001b[A\n",
            "\n",
            " 67%|██████▋   | 8/12 [00:03<00:04,  1.15s/it]\u001b[A\u001b[A\n",
            "\n",
            "100%|██████████| 12/12 [00:04<00:00,  2.66it/s]\n"
          ],
          "name": "stderr"
        },
        {
          "output_type": "stream",
          "text": [
            "Computing accuracy\n",
            "Test set accuracy (Precision@1) = 0.7005347593582887\n"
          ],
          "name": "stdout"
        },
        {
          "output_type": "stream",
          "text": [
            "\n",
            "\n",
            "  0%|          | 0/7 [00:00<?, ?it/s]\u001b[A\u001b[A"
          ],
          "name": "stderr"
        },
        {
          "output_type": "stream",
          "text": [
            "Epoch 84 Iteration 0: Loss = 0.0, Number of mined triplets = 224750\n"
          ],
          "name": "stdout"
        },
        {
          "output_type": "stream",
          "text": [
            "\n",
            "\n",
            " 14%|█▍        | 1/7 [00:02<00:16,  2.83s/it]\u001b[A\u001b[A\n",
            "\n",
            " 43%|████▎     | 3/7 [00:02<00:07,  2.00s/it]\u001b[A\u001b[A\n",
            "\n",
            "100%|██████████| 7/7 [00:03<00:00,  1.79it/s]\n",
            "\n",
            "\n",
            "  0%|          | 0/12 [00:00<?, ?it/s]\u001b[A\u001b[A\n",
            "\n",
            "  8%|▊         | 1/12 [00:03<00:36,  3.30s/it]\u001b[A\u001b[A\n",
            "\n",
            " 25%|██▌       | 3/12 [00:03<00:20,  2.33s/it]\u001b[A\u001b[A\n",
            "\n",
            " 42%|████▏     | 5/12 [00:03<00:11,  1.65s/it]\u001b[A\u001b[A\n",
            "\n",
            " 67%|██████▋   | 8/12 [00:03<00:04,  1.16s/it]\u001b[A\u001b[A\n",
            "\n",
            "100%|██████████| 12/12 [00:04<00:00,  2.61it/s]\n"
          ],
          "name": "stderr"
        },
        {
          "output_type": "stream",
          "text": [
            "Computing accuracy\n",
            "Test set accuracy (Precision@1) = 0.6898395721925134\n"
          ],
          "name": "stdout"
        },
        {
          "output_type": "stream",
          "text": [
            "\n",
            "\n",
            "  0%|          | 0/7 [00:00<?, ?it/s]\u001b[A\u001b[A"
          ],
          "name": "stderr"
        },
        {
          "output_type": "stream",
          "text": [
            "Epoch 85 Iteration 0: Loss = 0.0, Number of mined triplets = 231655\n"
          ],
          "name": "stdout"
        },
        {
          "output_type": "stream",
          "text": [
            "\n",
            "\n",
            " 14%|█▍        | 1/7 [00:02<00:16,  2.75s/it]\u001b[A\u001b[A\n",
            "\n",
            " 29%|██▊       | 2/7 [00:02<00:09,  1.97s/it]\u001b[A\u001b[A\n",
            "\n",
            " 57%|█████▋    | 4/7 [00:03<00:04,  1.40s/it]\u001b[A\u001b[A\n",
            "\n",
            "100%|██████████| 7/7 [00:03<00:00,  1.77it/s]\n",
            "\n",
            "\n",
            "  0%|          | 0/12 [00:00<?, ?it/s]\u001b[A\u001b[A\n",
            "\n",
            "  8%|▊         | 1/12 [00:03<00:35,  3.27s/it]\u001b[A\u001b[A\n",
            "\n",
            " 25%|██▌       | 3/12 [00:03<00:20,  2.31s/it]\u001b[A\u001b[A\n",
            "\n",
            " 42%|████▏     | 5/12 [00:03<00:11,  1.63s/it]\u001b[A\u001b[A\n",
            "\n",
            " 67%|██████▋   | 8/12 [00:03<00:04,  1.15s/it]\u001b[A\u001b[A\n",
            "\n",
            "100%|██████████| 12/12 [00:04<00:00,  2.62it/s]\n"
          ],
          "name": "stderr"
        },
        {
          "output_type": "stream",
          "text": [
            "Computing accuracy\n",
            "Test set accuracy (Precision@1) = 0.6951871657754011\n"
          ],
          "name": "stdout"
        },
        {
          "output_type": "stream",
          "text": [
            "\n",
            "\n",
            "  0%|          | 0/7 [00:00<?, ?it/s]\u001b[A\u001b[A"
          ],
          "name": "stderr"
        },
        {
          "output_type": "stream",
          "text": [
            "Epoch 86 Iteration 0: Loss = 0.0, Number of mined triplets = 226474\n"
          ],
          "name": "stdout"
        },
        {
          "output_type": "stream",
          "text": [
            "\n",
            "\n",
            " 14%|█▍        | 1/7 [00:02<00:17,  3.00s/it]\u001b[A\u001b[A\n",
            "\n",
            " 43%|████▎     | 3/7 [00:03<00:08,  2.11s/it]\u001b[A\u001b[A\n",
            "\n",
            "100%|██████████| 7/7 [00:04<00:00,  1.69it/s]\n",
            "\n",
            "\n",
            "  0%|          | 0/12 [00:00<?, ?it/s]\u001b[A\u001b[A\n",
            "\n",
            "  8%|▊         | 1/12 [00:03<00:37,  3.37s/it]\u001b[A\u001b[A\n",
            "\n",
            " 17%|█▋        | 2/12 [00:03<00:24,  2.42s/it]\u001b[A\u001b[A\n",
            "\n",
            " 33%|███▎      | 4/12 [00:03<00:13,  1.71s/it]\u001b[A\u001b[A\n",
            "\n",
            " 50%|█████     | 6/12 [00:03<00:07,  1.21s/it]\u001b[A\u001b[A\n",
            "\n",
            " 75%|███████▌  | 9/12 [00:03<00:02,  1.16it/s]\u001b[A\u001b[A\n",
            "\n",
            "100%|██████████| 12/12 [00:04<00:00,  2.46it/s]\n"
          ],
          "name": "stderr"
        },
        {
          "output_type": "stream",
          "text": [
            "Computing accuracy\n",
            "Test set accuracy (Precision@1) = 0.6978609625668449\n"
          ],
          "name": "stdout"
        },
        {
          "output_type": "stream",
          "text": [
            "\n",
            "\n",
            "  0%|          | 0/7 [00:00<?, ?it/s]\u001b[A\u001b[A"
          ],
          "name": "stderr"
        },
        {
          "output_type": "stream",
          "text": [
            "Epoch 87 Iteration 0: Loss = 0.0, Number of mined triplets = 224918\n"
          ],
          "name": "stdout"
        },
        {
          "output_type": "stream",
          "text": [
            "\n",
            "\n",
            " 14%|█▍        | 1/7 [00:03<00:18,  3.04s/it]\u001b[A\u001b[A\n",
            "\n",
            " 43%|████▎     | 3/7 [00:03<00:08,  2.14s/it]\u001b[A\u001b[A\n",
            "\n",
            "100%|██████████| 7/7 [00:04<00:00,  1.68it/s]\n",
            "\n",
            "\n",
            "  0%|          | 0/12 [00:00<?, ?it/s]\u001b[A\u001b[A\n",
            "\n",
            "  8%|▊         | 1/12 [00:03<00:36,  3.33s/it]\u001b[A\u001b[A\n",
            "\n",
            " 17%|█▋        | 2/12 [00:03<00:24,  2.41s/it]\u001b[A\u001b[A\n",
            "\n",
            " 33%|███▎      | 4/12 [00:03<00:13,  1.71s/it]\u001b[A\u001b[A\n",
            "\n",
            " 50%|█████     | 6/12 [00:03<00:07,  1.21s/it]\u001b[A\u001b[A\n",
            "\n",
            " 75%|███████▌  | 9/12 [00:03<00:02,  1.16it/s]\u001b[A\u001b[A\n",
            "\n",
            "100%|██████████| 12/12 [00:04<00:00,  2.43it/s]\n"
          ],
          "name": "stderr"
        },
        {
          "output_type": "stream",
          "text": [
            "Computing accuracy\n",
            "Test set accuracy (Precision@1) = 0.7165775401069518\n"
          ],
          "name": "stdout"
        },
        {
          "output_type": "stream",
          "text": [
            "\n",
            "\n",
            "  0%|          | 0/7 [00:00<?, ?it/s]\u001b[A\u001b[A"
          ],
          "name": "stderr"
        },
        {
          "output_type": "stream",
          "text": [
            "Epoch 88 Iteration 0: Loss = 0.0, Number of mined triplets = 231851\n"
          ],
          "name": "stdout"
        },
        {
          "output_type": "stream",
          "text": [
            "\n",
            "\n",
            " 14%|█▍        | 1/7 [00:03<00:18,  3.09s/it]\u001b[A\u001b[A\n",
            "\n",
            " 43%|████▎     | 3/7 [00:03<00:08,  2.18s/it]\u001b[A\u001b[A\n",
            "\n",
            "100%|██████████| 7/7 [00:04<00:00,  1.65it/s]\n",
            "\n",
            "\n",
            "  0%|          | 0/12 [00:00<?, ?it/s]\u001b[A\u001b[A\n",
            "\n",
            "  8%|▊         | 1/12 [00:03<00:37,  3.44s/it]\u001b[A\u001b[A\n",
            "\n",
            " 25%|██▌       | 3/12 [00:03<00:21,  2.43s/it]\u001b[A\u001b[A\n",
            "\n",
            " 42%|████▏     | 5/12 [00:03<00:12,  1.72s/it]\u001b[A\u001b[A\n",
            "\n",
            " 67%|██████▋   | 8/12 [00:03<00:04,  1.21s/it]\u001b[A\u001b[A\n",
            "\n",
            "100%|██████████| 12/12 [00:04<00:00,  2.55it/s]\n"
          ],
          "name": "stderr"
        },
        {
          "output_type": "stream",
          "text": [
            "Computing accuracy\n",
            "Test set accuracy (Precision@1) = 0.7165775401069518\n"
          ],
          "name": "stdout"
        },
        {
          "output_type": "stream",
          "text": [
            "\n",
            "\n",
            "  0%|          | 0/7 [00:00<?, ?it/s]\u001b[A\u001b[A"
          ],
          "name": "stderr"
        },
        {
          "output_type": "stream",
          "text": [
            "Epoch 89 Iteration 0: Loss = 0.0, Number of mined triplets = 224207\n"
          ],
          "name": "stdout"
        },
        {
          "output_type": "stream",
          "text": [
            "\n",
            "\n",
            " 14%|█▍        | 1/7 [00:02<00:17,  2.92s/it]\u001b[A\u001b[A\n",
            "\n",
            " 43%|████▎     | 3/7 [00:03<00:08,  2.06s/it]\u001b[A\u001b[A\n",
            "\n",
            "100%|██████████| 7/7 [00:03<00:00,  1.75it/s]\n",
            "\n",
            "\n",
            "  0%|          | 0/12 [00:00<?, ?it/s]\u001b[A\u001b[A\n",
            "\n",
            "  8%|▊         | 1/12 [00:03<00:34,  3.18s/it]\u001b[A\u001b[A\n",
            "\n",
            " 17%|█▋        | 2/12 [00:03<00:22,  2.27s/it]\u001b[A\u001b[A\n",
            "\n",
            " 33%|███▎      | 4/12 [00:03<00:12,  1.61s/it]\u001b[A\u001b[A\n",
            "\n",
            " 50%|█████     | 6/12 [00:03<00:06,  1.14s/it]\u001b[A\u001b[A\n",
            "\n",
            " 75%|███████▌  | 9/12 [00:03<00:02,  1.23it/s]\u001b[A\u001b[A\n",
            "\n",
            "100%|██████████| 12/12 [00:04<00:00,  2.60it/s]\n"
          ],
          "name": "stderr"
        },
        {
          "output_type": "stream",
          "text": [
            "Computing accuracy\n",
            "Test set accuracy (Precision@1) = 0.7058823529411764\n"
          ],
          "name": "stdout"
        },
        {
          "output_type": "stream",
          "text": [
            "\n",
            "\n",
            "  0%|          | 0/7 [00:00<?, ?it/s]\u001b[A\u001b[A"
          ],
          "name": "stderr"
        },
        {
          "output_type": "stream",
          "text": [
            "Epoch 90 Iteration 0: Loss = 0.0, Number of mined triplets = 225989\n"
          ],
          "name": "stdout"
        },
        {
          "output_type": "stream",
          "text": [
            "\n",
            "\n",
            " 14%|█▍        | 1/7 [00:02<00:17,  2.88s/it]\u001b[A\u001b[A\n",
            "\n",
            " 43%|████▎     | 3/7 [00:02<00:08,  2.03s/it]\u001b[A\u001b[A\n",
            "\n",
            "100%|██████████| 7/7 [00:03<00:00,  1.76it/s]\n",
            "\n",
            "\n",
            "  0%|          | 0/12 [00:00<?, ?it/s]\u001b[A\u001b[A\n",
            "\n",
            "  8%|▊         | 1/12 [00:03<00:33,  3.08s/it]\u001b[A\u001b[A\n",
            "\n",
            " 25%|██▌       | 3/12 [00:03<00:19,  2.20s/it]\u001b[A\u001b[A\n",
            "\n",
            " 42%|████▏     | 5/12 [00:03<00:10,  1.56s/it]\u001b[A\u001b[A\n",
            "\n",
            " 67%|██████▋   | 8/12 [00:03<00:04,  1.11s/it]\u001b[A\u001b[A\n",
            "\n",
            "100%|██████████| 12/12 [00:04<00:00,  2.62it/s]\n"
          ],
          "name": "stderr"
        },
        {
          "output_type": "stream",
          "text": [
            "Computing accuracy\n",
            "Test set accuracy (Precision@1) = 0.7085561497326203\n"
          ],
          "name": "stdout"
        },
        {
          "output_type": "stream",
          "text": [
            "\n",
            "\n",
            "  0%|          | 0/7 [00:00<?, ?it/s]\u001b[A\u001b[A"
          ],
          "name": "stderr"
        },
        {
          "output_type": "stream",
          "text": [
            "Epoch 91 Iteration 0: Loss = 0.0, Number of mined triplets = 228673\n"
          ],
          "name": "stdout"
        },
        {
          "output_type": "stream",
          "text": [
            "\n",
            "\n",
            " 14%|█▍        | 1/7 [00:02<00:17,  2.84s/it]\u001b[A\u001b[A\n",
            "\n",
            " 43%|████▎     | 3/7 [00:02<00:08,  2.01s/it]\u001b[A\u001b[A\n",
            "\n",
            "100%|██████████| 7/7 [00:03<00:00,  1.78it/s]\n",
            "\n",
            "\n",
            "  0%|          | 0/12 [00:00<?, ?it/s]\u001b[A\u001b[A\n",
            "\n",
            "  8%|▊         | 1/12 [00:03<00:36,  3.33s/it]\u001b[A\u001b[A\n",
            "\n",
            " 25%|██▌       | 3/12 [00:03<00:21,  2.35s/it]\u001b[A\u001b[A\n",
            "\n",
            " 50%|█████     | 6/12 [00:03<00:09,  1.66s/it]\u001b[A\u001b[A\n",
            "\n",
            " 75%|███████▌  | 9/12 [00:03<00:03,  1.17s/it]\u001b[A\u001b[A\n",
            "\n",
            "100%|██████████| 12/12 [00:04<00:00,  2.59it/s]\n"
          ],
          "name": "stderr"
        },
        {
          "output_type": "stream",
          "text": [
            "Computing accuracy\n",
            "Test set accuracy (Precision@1) = 0.6898395721925134\n"
          ],
          "name": "stdout"
        },
        {
          "output_type": "stream",
          "text": [
            "\n",
            "\n",
            "  0%|          | 0/7 [00:00<?, ?it/s]\u001b[A\u001b[A"
          ],
          "name": "stderr"
        },
        {
          "output_type": "stream",
          "text": [
            "Epoch 92 Iteration 0: Loss = 0.0, Number of mined triplets = 224662\n"
          ],
          "name": "stdout"
        },
        {
          "output_type": "stream",
          "text": [
            "\n",
            "\n",
            " 14%|█▍        | 1/7 [00:02<00:17,  2.96s/it]\u001b[A\u001b[A\n",
            "\n",
            " 43%|████▎     | 3/7 [00:03<00:08,  2.09s/it]\u001b[A\u001b[A\n",
            "\n",
            "100%|██████████| 7/7 [00:04<00:00,  1.70it/s]\n",
            "\n",
            "\n",
            "  0%|          | 0/12 [00:00<?, ?it/s]\u001b[A\u001b[A\n",
            "\n",
            "  8%|▊         | 1/12 [00:03<00:39,  3.61s/it]\u001b[A\u001b[A\n",
            "\n",
            " 25%|██▌       | 3/12 [00:03<00:22,  2.54s/it]\u001b[A\u001b[A\n",
            "\n",
            " 42%|████▏     | 5/12 [00:03<00:12,  1.80s/it]\u001b[A\u001b[A\n",
            "\n",
            " 67%|██████▋   | 8/12 [00:03<00:05,  1.27s/it]\u001b[A\u001b[A\n",
            "\n",
            "100%|██████████| 12/12 [00:04<00:00,  2.42it/s]\n"
          ],
          "name": "stderr"
        },
        {
          "output_type": "stream",
          "text": [
            "Computing accuracy\n",
            "Test set accuracy (Precision@1) = 0.7272727272727272\n"
          ],
          "name": "stdout"
        },
        {
          "output_type": "stream",
          "text": [
            "\n",
            "\n",
            "  0%|          | 0/7 [00:00<?, ?it/s]\u001b[A\u001b[A"
          ],
          "name": "stderr"
        },
        {
          "output_type": "stream",
          "text": [
            "Epoch 93 Iteration 0: Loss = 0.0, Number of mined triplets = 223055\n"
          ],
          "name": "stdout"
        },
        {
          "output_type": "stream",
          "text": [
            "\n",
            "\n",
            " 14%|█▍        | 1/7 [00:03<00:18,  3.11s/it]\u001b[A\u001b[A\n",
            "\n",
            " 43%|████▎     | 3/7 [00:03<00:08,  2.19s/it]\u001b[A\u001b[A\n",
            "\n",
            "100%|██████████| 7/7 [00:04<00:00,  1.65it/s]\n",
            "\n",
            "\n",
            "  0%|          | 0/12 [00:00<?, ?it/s]\u001b[A\u001b[A\n",
            "\n",
            "  8%|▊         | 1/12 [00:03<00:40,  3.65s/it]\u001b[A\u001b[A\n",
            "\n",
            " 25%|██▌       | 3/12 [00:03<00:23,  2.57s/it]\u001b[A\u001b[A\n",
            "\n",
            " 50%|█████     | 6/12 [00:03<00:10,  1.81s/it]\u001b[A\u001b[A\n",
            "\n",
            " 75%|███████▌  | 9/12 [00:04<00:03,  1.28s/it]\u001b[A\u001b[A\n",
            "\n",
            "100%|██████████| 12/12 [00:04<00:00,  2.41it/s]\n"
          ],
          "name": "stderr"
        },
        {
          "output_type": "stream",
          "text": [
            "Computing accuracy\n",
            "Test set accuracy (Precision@1) = 0.7032085561497325\n"
          ],
          "name": "stdout"
        },
        {
          "output_type": "stream",
          "text": [
            "\n",
            "\n",
            "  0%|          | 0/7 [00:00<?, ?it/s]\u001b[A\u001b[A"
          ],
          "name": "stderr"
        },
        {
          "output_type": "stream",
          "text": [
            "Epoch 94 Iteration 0: Loss = 0.0, Number of mined triplets = 226165\n"
          ],
          "name": "stdout"
        },
        {
          "output_type": "stream",
          "text": [
            "\n",
            "\n",
            " 14%|█▍        | 1/7 [00:03<00:18,  3.09s/it]\u001b[A\u001b[A\n",
            "\n",
            " 43%|████▎     | 3/7 [00:03<00:08,  2.18s/it]\u001b[A\u001b[A\n",
            "\n",
            "100%|██████████| 7/7 [00:04<00:00,  1.66it/s]\n",
            "\n",
            "\n",
            "  0%|          | 0/12 [00:00<?, ?it/s]\u001b[A\u001b[A\n",
            "\n",
            "  8%|▊         | 1/12 [00:03<00:38,  3.47s/it]\u001b[A\u001b[A\n",
            "\n",
            " 25%|██▌       | 3/12 [00:03<00:21,  2.44s/it]\u001b[A\u001b[A\n",
            "\n",
            " 42%|████▏     | 5/12 [00:03<00:12,  1.73s/it]\u001b[A\u001b[A\n",
            "\n",
            " 67%|██████▋   | 8/12 [00:03<00:04,  1.22s/it]\u001b[A\u001b[A\n",
            "\n",
            "100%|██████████| 12/12 [00:04<00:00,  2.53it/s]\n"
          ],
          "name": "stderr"
        },
        {
          "output_type": "stream",
          "text": [
            "Computing accuracy\n",
            "Test set accuracy (Precision@1) = 0.6871657754010695\n"
          ],
          "name": "stdout"
        },
        {
          "output_type": "stream",
          "text": [
            "\n",
            "\n",
            "  0%|          | 0/7 [00:00<?, ?it/s]\u001b[A\u001b[A"
          ],
          "name": "stderr"
        },
        {
          "output_type": "stream",
          "text": [
            "Epoch 95 Iteration 0: Loss = 0.0, Number of mined triplets = 228805\n"
          ],
          "name": "stdout"
        },
        {
          "output_type": "stream",
          "text": [
            "\n",
            "\n",
            " 14%|█▍        | 1/7 [00:02<00:17,  2.92s/it]\u001b[A\u001b[A\n",
            "\n",
            " 43%|████▎     | 3/7 [00:03<00:08,  2.06s/it]\u001b[A\u001b[A\n",
            "\n",
            "100%|██████████| 7/7 [00:04<00:00,  1.75it/s]\n",
            "\n",
            "\n",
            "  0%|          | 0/12 [00:00<?, ?it/s]\u001b[A\u001b[A\n",
            "\n",
            "  8%|▊         | 1/12 [00:03<00:38,  3.45s/it]\u001b[A\u001b[A\n",
            "\n",
            " 25%|██▌       | 3/12 [00:03<00:21,  2.43s/it]\u001b[A\u001b[A\n",
            "\n",
            " 50%|█████     | 6/12 [00:03<00:10,  1.72s/it]\u001b[A\u001b[A\n",
            "\n",
            " 75%|███████▌  | 9/12 [00:03<00:03,  1.21s/it]\u001b[A\u001b[A\n",
            "\n",
            "100%|██████████| 12/12 [00:04<00:00,  2.54it/s]\n"
          ],
          "name": "stderr"
        },
        {
          "output_type": "stream",
          "text": [
            "Computing accuracy\n",
            "Test set accuracy (Precision@1) = 0.7005347593582887\n"
          ],
          "name": "stdout"
        },
        {
          "output_type": "stream",
          "text": [
            "\n",
            "\n",
            "  0%|          | 0/7 [00:00<?, ?it/s]\u001b[A\u001b[A"
          ],
          "name": "stderr"
        },
        {
          "output_type": "stream",
          "text": [
            "Epoch 96 Iteration 0: Loss = 0.0, Number of mined triplets = 228136\n"
          ],
          "name": "stdout"
        },
        {
          "output_type": "stream",
          "text": [
            "\n",
            "\n",
            " 14%|█▍        | 1/7 [00:02<00:17,  2.96s/it]\u001b[A\u001b[A\n",
            "\n",
            " 43%|████▎     | 3/7 [00:03<00:08,  2.09s/it]\u001b[A\u001b[A\n",
            "\n",
            "100%|██████████| 7/7 [00:04<00:00,  1.73it/s]\n",
            "\n",
            "\n",
            "  0%|          | 0/12 [00:00<?, ?it/s]\u001b[A\u001b[A\n",
            "\n",
            "  8%|▊         | 1/12 [00:03<00:36,  3.28s/it]\u001b[A\u001b[A\n",
            "\n",
            " 17%|█▋        | 2/12 [00:03<00:23,  2.34s/it]\u001b[A\u001b[A\n",
            "\n",
            " 33%|███▎      | 4/12 [00:03<00:13,  1.66s/it]\u001b[A\u001b[A\n",
            "\n",
            " 58%|█████▊    | 7/12 [00:03<00:05,  1.17s/it]\u001b[A\u001b[A\n",
            "\n",
            "100%|██████████| 12/12 [00:04<00:00,  2.58it/s]\n"
          ],
          "name": "stderr"
        },
        {
          "output_type": "stream",
          "text": [
            "Computing accuracy\n",
            "Test set accuracy (Precision@1) = 0.6925133689839572\n"
          ],
          "name": "stdout"
        },
        {
          "output_type": "stream",
          "text": [
            "\n",
            "\n",
            "  0%|          | 0/7 [00:00<?, ?it/s]\u001b[A\u001b[A"
          ],
          "name": "stderr"
        },
        {
          "output_type": "stream",
          "text": [
            "Epoch 97 Iteration 0: Loss = 0.0, Number of mined triplets = 221892\n"
          ],
          "name": "stdout"
        },
        {
          "output_type": "stream",
          "text": [
            "\n",
            "\n",
            " 14%|█▍        | 1/7 [00:02<00:17,  2.94s/it]\u001b[A\u001b[A\n",
            "\n",
            " 43%|████▎     | 3/7 [00:03<00:08,  2.08s/it]\u001b[A\u001b[A\n",
            "\n",
            "100%|██████████| 7/7 [00:03<00:00,  1.75it/s]\n",
            "\n",
            "\n",
            "  0%|          | 0/12 [00:00<?, ?it/s]\u001b[A\u001b[A\n",
            "\n",
            "  8%|▊         | 1/12 [00:03<00:35,  3.22s/it]\u001b[A\u001b[A\n",
            "\n",
            " 17%|█▋        | 2/12 [00:03<00:23,  2.31s/it]\u001b[A\u001b[A\n",
            "\n",
            " 33%|███▎      | 4/12 [00:03<00:13,  1.63s/it]\u001b[A\u001b[A\n",
            "\n",
            " 50%|█████     | 6/12 [00:03<00:06,  1.16s/it]\u001b[A\u001b[A\n",
            "\n",
            " 75%|███████▌  | 9/12 [00:03<00:02,  1.21it/s]\u001b[A\u001b[A\n",
            "\n",
            "100%|██████████| 12/12 [00:04<00:00,  2.57it/s]\n"
          ],
          "name": "stderr"
        },
        {
          "output_type": "stream",
          "text": [
            "Computing accuracy\n",
            "Test set accuracy (Precision@1) = 0.7058823529411764\n"
          ],
          "name": "stdout"
        },
        {
          "output_type": "stream",
          "text": [
            "\n",
            "\n",
            "  0%|          | 0/7 [00:00<?, ?it/s]\u001b[A\u001b[A"
          ],
          "name": "stderr"
        },
        {
          "output_type": "stream",
          "text": [
            "Epoch 98 Iteration 0: Loss = 0.0, Number of mined triplets = 227084\n"
          ],
          "name": "stdout"
        },
        {
          "output_type": "stream",
          "text": [
            "\n",
            "\n",
            " 14%|█▍        | 1/7 [00:02<00:17,  2.92s/it]\u001b[A\u001b[A\n",
            "\n",
            " 43%|████▎     | 3/7 [00:03<00:08,  2.06s/it]\u001b[A\u001b[A\n",
            "\n",
            "100%|██████████| 7/7 [00:04<00:00,  1.74it/s]\n",
            "\n",
            "\n",
            "  0%|          | 0/12 [00:00<?, ?it/s]\u001b[A\u001b[A\n",
            "\n",
            "  8%|▊         | 1/12 [00:03<00:39,  3.62s/it]\u001b[A\u001b[A\n",
            "\n",
            " 25%|██▌       | 3/12 [00:03<00:23,  2.56s/it]\u001b[A\u001b[A\n",
            "\n",
            " 42%|████▏     | 5/12 [00:03<00:12,  1.81s/it]\u001b[A\u001b[A\n",
            "\n",
            " 67%|██████▋   | 8/12 [00:03<00:05,  1.28s/it]\u001b[A\u001b[A\n",
            "\n",
            "100%|██████████| 12/12 [00:04<00:00,  2.41it/s]\n"
          ],
          "name": "stderr"
        },
        {
          "output_type": "stream",
          "text": [
            "Computing accuracy\n",
            "Test set accuracy (Precision@1) = 0.6898395721925134\n"
          ],
          "name": "stdout"
        },
        {
          "output_type": "stream",
          "text": [
            "\n",
            "\n",
            "  0%|          | 0/7 [00:00<?, ?it/s]\u001b[A\u001b[A"
          ],
          "name": "stderr"
        },
        {
          "output_type": "stream",
          "text": [
            "Epoch 99 Iteration 0: Loss = 0.0, Number of mined triplets = 224777\n"
          ],
          "name": "stdout"
        },
        {
          "output_type": "stream",
          "text": [
            "\n",
            "\n",
            " 14%|█▍        | 1/7 [00:03<00:18,  3.10s/it]\u001b[A\u001b[A\n",
            "\n",
            " 43%|████▎     | 3/7 [00:03<00:08,  2.19s/it]\u001b[A\u001b[A\n",
            "\n",
            "100%|██████████| 7/7 [00:04<00:00,  1.65it/s]\n",
            "\n",
            "\n",
            "  0%|          | 0/12 [00:00<?, ?it/s]\u001b[A\u001b[A\n",
            "\n",
            "  8%|▊         | 1/12 [00:03<00:39,  3.60s/it]\u001b[A\u001b[A\n",
            "\n",
            " 25%|██▌       | 3/12 [00:03<00:22,  2.54s/it]\u001b[A\u001b[A\n",
            "\n",
            " 42%|████▏     | 5/12 [00:03<00:12,  1.79s/it]\u001b[A\u001b[A\n",
            "\n",
            " 67%|██████▋   | 8/12 [00:03<00:05,  1.27s/it]\u001b[A\u001b[A\n",
            "\n",
            "100%|██████████| 12/12 [00:04<00:00,  2.43it/s]\n"
          ],
          "name": "stderr"
        },
        {
          "output_type": "stream",
          "text": [
            "Computing accuracy\n",
            "Test set accuracy (Precision@1) = 0.6711229946524063\n"
          ],
          "name": "stdout"
        },
        {
          "output_type": "stream",
          "text": [
            "\n",
            "\n",
            "  0%|          | 0/7 [00:00<?, ?it/s]\u001b[A\u001b[A"
          ],
          "name": "stderr"
        },
        {
          "output_type": "stream",
          "text": [
            "Epoch 100 Iteration 0: Loss = 0.0, Number of mined triplets = 227987\n"
          ],
          "name": "stdout"
        },
        {
          "output_type": "stream",
          "text": [
            "\n",
            "\n",
            " 14%|█▍        | 1/7 [00:03<00:18,  3.13s/it]\u001b[A\u001b[A\n",
            "\n",
            " 43%|████▎     | 3/7 [00:03<00:08,  2.21s/it]\u001b[A\u001b[A\n",
            "\n",
            "100%|██████████| 7/7 [00:04<00:00,  1.65it/s]\n",
            "\n",
            "\n",
            "  0%|          | 0/12 [00:00<?, ?it/s]\u001b[A\u001b[A\n",
            "\n",
            "  8%|▊         | 1/12 [00:03<00:39,  3.57s/it]\u001b[A\u001b[A\n",
            "\n",
            " 25%|██▌       | 3/12 [00:03<00:22,  2.51s/it]\u001b[A\u001b[A\n",
            "\n",
            " 42%|████▏     | 5/12 [00:03<00:12,  1.78s/it]\u001b[A\u001b[A\n",
            "\n",
            " 67%|██████▋   | 8/12 [00:03<00:05,  1.26s/it]\u001b[A\u001b[A\n",
            "\n",
            "100%|██████████| 12/12 [00:04<00:00,  2.47it/s]"
          ],
          "name": "stderr"
        },
        {
          "output_type": "stream",
          "text": [
            "Computing accuracy\n",
            "Test set accuracy (Precision@1) = 0.7005347593582887\n"
          ],
          "name": "stdout"
        },
        {
          "output_type": "stream",
          "text": [
            "\n"
          ],
          "name": "stderr"
        }
      ]
    },
    {
      "cell_type": "code",
      "metadata": {
        "id": "y3YhGXVVk-M0"
      },
      "source": [
        "from graphviz import Digraph\n",
        "from torch.autograd import Variable\n",
        "import torch\n",
        "\n",
        "\n",
        "def make_dot(var, params=None):\n",
        "    if params is not None:\n",
        "        assert isinstance(params.values()[0], Variable)\n",
        "        param_map = {id(v): k for k, v in params.items()}\n",
        "\n",
        "    node_attr = dict(style=\"filled\", shape=\"box\", align=\"left\", fontsize=\"12\", ranksep=\"0.1\", height=\"0.2\")\n",
        "    dot = Digraph(node_attr=node_attr, graph_attr=dict(size=\"12,12\"))\n",
        "    seen = set()\n",
        "\n",
        "    def size_to_str(size):\n",
        "        return \"(\" + (\", \").join([\"%d\" % v for v in size]) + \")\"\n",
        "\n",
        "    def add_nodes(var):\n",
        "        if var not in seen:\n",
        "            if torch.is_tensor(var):\n",
        "                dot.node(str(id(var)), size_to_str(var.size()), fillcolor=\"orange\")\n",
        "                dot.edge(str(id(var.grad_fn)), str(id(var)))\n",
        "                var = var.grad_fn\n",
        "            if hasattr(var, \"variable\"):\n",
        "                u = var.variable\n",
        "                name = param_map[id(u)] if params is not None else \"\"\n",
        "                node_name = \"%s\\n %s\" % (name, size_to_str(u.size()))\n",
        "                dot.node(str(id(var)), node_name, fillcolor=\"lightblue\")\n",
        "            else:\n",
        "                dot.node(str(id(var)), str(type(var).__name__))\n",
        "            seen.add(var)\n",
        "            if hasattr(var, \"next_functions\"):\n",
        "                for u in var.next_functions:\n",
        "                    if u[0] is not None:\n",
        "                        dot.edge(str(id(u[0])), str(id(var)))\n",
        "                        add_nodes(u[0])\n",
        "            if hasattr(var, \"saved_tensors\"):\n",
        "                for t in var.saved_tensors:\n",
        "                    dot.edge(str(id(t)), str(id(var)))\n",
        "                    add_nodes(t)\n",
        "\n",
        "    add_nodes(var)\n",
        "    return dot\n"
      ],
      "execution_count": null,
      "outputs": []
    },
    {
      "cell_type": "code",
      "metadata": {
        "id": "zMrM1YoPQ38n"
      },
      "source": [
        "\n",
        "import torchvision.models as models\n",
        "\n",
        "inputs = torch.randn(1, 3, 224, 224)\n",
        "resnet18 = models.resnet18()\n",
        "y = resnet18(inputs)\n",
        "# print(y)\n",
        "\n",
        "g = make_dot(y)\n",
        "print(g.view())"
      ],
      "execution_count": null,
      "outputs": []
    },
    {
      "cell_type": "code",
      "metadata": {
        "id": "e_c9Mu6mQ_Sb"
      },
      "source": [
        ""
      ],
      "execution_count": null,
      "outputs": []
    }
  ]
}