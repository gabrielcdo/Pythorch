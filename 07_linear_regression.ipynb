{
  "nbformat": 4,
  "nbformat_minor": 0,
  "metadata": {
    "colab": {
      "name": "07_linear_regression.ipynb",
      "provenance": [],
      "authorship_tag": "ABX9TyMLYUJZdtmRI33ESnLUR/ci",
      "include_colab_link": true
    },
    "kernelspec": {
      "name": "python3",
      "display_name": "Python 3"
    },
    "language_info": {
      "name": "python"
    }
  },
  "cells": [
    {
      "cell_type": "markdown",
      "metadata": {
        "id": "view-in-github",
        "colab_type": "text"
      },
      "source": [
        "<a href=\"https://colab.research.google.com/github/gabrielcdo/Pythorch/blob/main/07_linear_regression.ipynb\" target=\"_parent\"><img src=\"https://colab.research.google.com/assets/colab-badge.svg\" alt=\"Open In Colab\"/></a>"
      ]
    },
    {
      "cell_type": "code",
      "metadata": {
        "id": "0lOeqR2mmVU9"
      },
      "source": [
        "# 1) Design model (input , output , size , forward pass)\n",
        "# 2) Construct loss and optmizer \n",
        "# 3) Training loop\n",
        "#   -forward pass: comput prediction and loss\n",
        "#   - backward pass: gradients\n",
        "#   -update weights"
      ],
      "execution_count": null,
      "outputs": []
    },
    {
      "cell_type": "code",
      "metadata": {
        "id": "1cRJeb7KmvL2"
      },
      "source": [
        "import torch \n",
        "import torch.nn as nn\n",
        "import numpy as np\n",
        "from sklearn import datasets \n",
        "import matplotlib.pyplot as plt\n"
      ],
      "execution_count": null,
      "outputs": []
    },
    {
      "cell_type": "code",
      "metadata": {
        "id": "EUDBJ47qpCgV"
      },
      "source": [
        "# 0 ) Prepare data "
      ],
      "execution_count": null,
      "outputs": []
    },
    {
      "cell_type": "code",
      "metadata": {
        "id": "epP26bO2pEVW"
      },
      "source": [
        "X_numpy , y_numpy = datasets.make_regression(n_samples=100 , n_features=1,noise=20 , random_state=1)\n"
      ],
      "execution_count": null,
      "outputs": []
    },
    {
      "cell_type": "code",
      "metadata": {
        "id": "vOQjrsG9pTOg"
      },
      "source": [
        "X = torch.from_numpy(X_numpy.astype(np.float32))\n",
        "y = torch.from_numpy(X_numpy.astype(np.float32))\n",
        "y = y.view(y.shape[0],1)\n",
        "\n",
        "\n"
      ],
      "execution_count": null,
      "outputs": []
    },
    {
      "cell_type": "code",
      "metadata": {
        "id": "CzxhqSJWpbMx"
      },
      "source": [
        "n_samples , n_features = X.shape"
      ],
      "execution_count": null,
      "outputs": []
    },
    {
      "cell_type": "code",
      "metadata": {
        "id": "Xn5xX4qoqD2T"
      },
      "source": [
        "# 1)model\n",
        "input_size = n_features\n",
        "output_size = 1\n",
        "model = nn.Linear(input_size , output_size)"
      ],
      "execution_count": null,
      "outputs": []
    },
    {
      "cell_type": "code",
      "metadata": {
        "id": "p2Y160EUqFZE"
      },
      "source": [
        "# 2) loss and optmizer \n",
        "learning_rate = 0.01\n",
        "criterion = nn.MSELoss()\n",
        "optimizer = torch.optim.SGD(model.parameters(),lr=learning_rate )\n"
      ],
      "execution_count": null,
      "outputs": []
    },
    {
      "cell_type": "code",
      "metadata": {
        "colab": {
          "base_uri": "https://localhost:8080/",
          "height": 452
        },
        "id": "wqv872GQqipi",
        "outputId": "5c2fe6ff-0026-405a-d4f6-19f2725f00cf"
      },
      "source": [
        "# 3) training loop\n",
        "num_epochs = 100\n",
        "for epoch in range(num_epochs):\n",
        "  #forward pass and loss\n",
        "  y_predicted = model(X)\n",
        "  loss = criterion(y_predicted , y)\n",
        "  #backward pass\n",
        "  loss.backward()\n",
        "\n",
        "  # update \n",
        "  optimizer.step()\n",
        "\n",
        "  optimizer.zero_grad()\n",
        "\n",
        "  if (epoch+1)%10==0:\n",
        "    print(f'epoch:{epoch+1}, loss ={loss.item():.4f}')\n",
        "\n",
        "# plot \n",
        "predicted = model(X).detach().numpy()\n",
        "plt.plot(X_numpy, y_numpy , 'ro')\n",
        "plt.plot(X_numpy,predicted)"
      ],
      "execution_count": null,
      "outputs": [
        {
          "output_type": "stream",
          "text": [
            "epoch:10, loss =1.9544\n",
            "epoch:20, loss =1.4201\n",
            "epoch:30, loss =1.0327\n",
            "epoch:40, loss =0.7515\n",
            "epoch:50, loss =0.5472\n",
            "epoch:60, loss =0.3986\n",
            "epoch:70, loss =0.2906\n",
            "epoch:80, loss =0.2119\n",
            "epoch:90, loss =0.1546\n",
            "epoch:100, loss =0.1129\n"
          ],
          "name": "stdout"
        },
        {
          "output_type": "execute_result",
          "data": {
            "text/plain": [
              "[<matplotlib.lines.Line2D at 0x7fd24bc68b90>]"
            ]
          },
          "metadata": {
            "tags": []
          },
          "execution_count": 41
        },
        {
          "output_type": "display_data",
          "data": {
            "image/png": "[encoded data removed]",
            "text/plain": [
              "<Figure size 432x288 with 1 Axes>"
            ]
          },
          "metadata": {
            "tags": [],
            "needs_background": "light"
          }
        }
      ]
    },
    {
      "cell_type": "code",
      "metadata": {
        "id": "1sjyeEzIrsHQ"
      },
      "source": [
        ""
      ],
      "execution_count": null,
      "outputs": []
    }
  ]
}